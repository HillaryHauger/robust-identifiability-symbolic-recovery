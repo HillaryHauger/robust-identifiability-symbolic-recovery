{
 "cells": [
  {
   "cell_type": "code",
   "execution_count": 1,
   "id": "c4eb68bf",
   "metadata": {},
   "outputs": [],
   "source": [
    "import torch\n",
    "from torch import Tensor\n",
    "from torch.nn import Linear, MSELoss, functional as F\n",
    "from torch.optim import SGD, Adam, RMSprop\n",
    "from torch.autograd import Variable\n",
    "import numpy as np\n",
    "\n",
    "device = torch.device(\"cpu\")"
   ]
  },
  {
   "cell_type": "code",
   "execution_count": 2,
   "id": "2f9ee387",
   "metadata": {},
   "outputs": [],
   "source": [
    "m = 100\n",
    "x = torch.randn(m, 2, dtype=torch.float32, device=device, requires_grad=False)\n",
    "feature_matrix = torch.stack([torch.ones(m), x[:, 0], x[:, 1], x[:, 0] ** 2, x[:, 0] * x[:, 1], x[:, 1] ** 2])\n",
    "coeffs = torch.tensor([-2, 7, 3, 0.5, -1, 5], dtype=torch.float32, device=device, requires_grad=False)\n",
    "y = torch.matmul(coeffs, feature_matrix)"
   ]
  },
  {
   "cell_type": "code",
   "execution_count": 3,
   "id": "31700ccc",
   "metadata": {},
   "outputs": [],
   "source": [
    "z = torch.ones(6, dtype=torch.float32, device=device, requires_grad=True)\n",
    "optimizer = torch.optim.Adam([z], lr=0.01)\n",
    "\n",
    "n_steps = 1000\n",
    "for step in range(n_steps):\n",
    "    loss = torch.norm(torch.matmul(z, feature_matrix) - y)\n",
    "    # Perform optimization step\n",
    "    optimizer.zero_grad()\n",
    "    loss.backward()\n",
    "    optimizer.step()"
   ]
  },
  {
   "cell_type": "code",
   "execution_count": 4,
   "id": "bd68b536",
   "metadata": {},
   "outputs": [
    {
     "data": {
      "text/plain": [
       "tensor([-1.9993,  7.0001,  3.0006,  0.5007, -0.9993,  5.0006],\n",
       "       requires_grad=True)"
      ]
     },
     "execution_count": 4,
     "metadata": {},
     "output_type": "execute_result"
    }
   ],
   "source": [
    "z"
   ]
  },
  {
   "cell_type": "code",
   "execution_count": null,
   "id": "3f34a780",
   "metadata": {},
   "outputs": [],
   "source": [
    "# Now find "
   ]
  },
  {
   "cell_type": "code",
   "execution_count": 10,
   "id": "0d1b7d47",
   "metadata": {},
   "outputs": [
    {
     "name": "stdout",
     "output_type": "stream",
     "text": [
      "tensor(45.3352, grad_fn=<CopyBackwards>)\n",
      "tensor(22.6679, grad_fn=<CopyBackwards>)\n",
      "tensor(0.0004, grad_fn=<CopyBackwards>)\n",
      "tensor(0.0022, grad_fn=<CopyBackwards>)\n",
      "tensor(0.0015, grad_fn=<CopyBackwards>)\n",
      "tensor(0.0045, grad_fn=<CopyBackwards>)\n",
      "tensor(0.0024, grad_fn=<CopyBackwards>)\n",
      "tensor(0.0023, grad_fn=<CopyBackwards>)\n",
      "tensor(0.0024, grad_fn=<CopyBackwards>)\n",
      "tensor(0.0024, grad_fn=<CopyBackwards>)\n"
     ]
    }
   ],
   "source": [
    "z = torch.ones(6, dtype=torch.float32, device=device, requires_grad=True)\n",
    "optimizer = torch.optim.Adam([z], lr=0.001)\n",
    "\n",
    "n_steps = 5000\n",
    "for step in range(n_steps):\n",
    "    loss = torch.norm(torch.matmul(z, feature_matrix))\n",
    "    # Perform optimization step\n",
    "    optimizer.zero_grad()\n",
    "    loss.backward()\n",
    "    optimizer.step()\n",
    "    if step % 500 == 0:\n",
    "        print(loss)"
   ]
  },
  {
   "cell_type": "code",
   "execution_count": 11,
   "id": "9ba52944",
   "metadata": {},
   "outputs": [
    {
     "data": {
      "text/plain": [
       "tensor([5.2280e-05, 5.2298e-05, 5.1856e-05, 5.2281e-05, 5.2669e-05, 5.1985e-05],\n",
       "       requires_grad=True)"
      ]
     },
     "execution_count": 11,
     "metadata": {},
     "output_type": "execute_result"
    }
   ],
   "source": [
    "z"
   ]
  },
  {
   "cell_type": "code",
   "execution_count": 12,
   "id": "00326746",
   "metadata": {},
   "outputs": [
    {
     "data": {
      "text/plain": [
       "(torch.Size([6]), torch.Size([6, 100]))"
      ]
     },
     "execution_count": 12,
     "metadata": {},
     "output_type": "execute_result"
    }
   ],
   "source": [
    "z.shape, feature_matrix.shape"
   ]
  }
 ],
 "metadata": {
  "kernelspec": {
   "display_name": "Python 3 (ipykernel)",
   "language": "python",
   "name": "python3"
  },
  "language_info": {
   "codemirror_mode": {
    "name": "ipython",
    "version": 3
   },
   "file_extension": ".py",
   "mimetype": "text/x-python",
   "name": "python",
   "nbconvert_exporter": "python",
   "pygments_lexer": "ipython3",
   "version": "3.9.7"
  }
 },
 "nbformat": 4,
 "nbformat_minor": 5
}
