{
 "cells": [
  {
   "cell_type": "code",
   "execution_count": null,
   "id": "239e68c8",
   "metadata": {},
   "outputs": [],
   "source": [
    "import numpy as np\n",
    "import matplotlib.pyplot as plt\n",
    "from mpl_toolkits.mplot3d import Axes3D\n",
    "import numpy as np\n",
    "from scipy.io import loadmat\n",
    "from sklearn.metrics import mean_squared_error\n",
    "from scipy.integrate import solve_ivp\n",
    "import os\n",
    "import sys\n",
    "import pandas as pd\n",
    "import sympy\n",
    "#sys.path.append('../')  \n",
    "\n",
    "import pysindy as ps\n",
    "# Seed the random number generators for reproducibility\n",
    "np.random.seed(100)"
   ]
  },
  {
   "cell_type": "code",
   "execution_count": null,
   "id": "cafd0d50-d7ab-4545-8a5e-fb224b36490e",
   "metadata": {},
   "outputs": [],
   "source": [
    "from test_data import *\n",
    "from numpy.linalg import matrix_rank, svd\n",
    "from itertools import product\n",
    "from utils.utils import plot_result_jacobi\n",
    "from error_bounds import *\n",
    "from matplotlib.colors import LinearSegmentedColormap\n",
    "from jrc_analysis import *"
   ]
  },
  {
   "cell_type": "code",
   "execution_count": null,
   "id": "8a2cb825-7484-4250-b09a-f2c152219db2",
   "metadata": {},
   "outputs": [],
   "source": [
    "#Defining colors for the plots: green = true , red = false\n",
    "green=(100/255,250/255,100/255)#(0,1,0)\n",
    "neutral_color = (1, 1, 1)  \n",
    "red=(241/255,13/255,30/255)\n",
    "cmap_green_red = LinearSegmentedColormap.from_list('RedGreen', [green,neutral_color,red], N=256)\n",
    "cmap_red_green = LinearSegmentedColormap.from_list('GreenRed', [red,neutral_color,green], N=256)"
   ]
  },
  {
   "cell_type": "markdown",
   "id": "7a1235b4-2c84-4bd8-9f0c-14e422c930e4",
   "metadata": {},
   "source": [
    "We want to get a threshold and error bound for analysing a analytic or polynomial PDE as unique. We can reuse the functions from the SFranco method."
   ]
  },
  {
   "cell_type": "markdown",
   "id": "c2036aa9-a16d-4fcd-99ea-bdd18eca7f06",
   "metadata": {
    "jp-MarkdownHeadingCollapsed": true
   },
   "source": [
    "## Try it on different examples"
   ]
  },
  {
   "cell_type": "code",
   "execution_count": null,
   "id": "aa8846e3",
   "metadata": {},
   "outputs": [],
   "source": [
    "experiment_names= ['algebraic_nonunique_1','analytic_unique_1','analytic_unique_2','analytic_nonunique_1']"
   ]
  },
  {
   "cell_type": "markdown",
   "id": "73e01fc6-13f0-42a7-9ab4-0fbec06a25e1",
   "metadata": {},
   "source": [
    "### Perform on one experiment"
   ]
  },
  {
   "cell_type": "code",
   "execution_count": null,
   "id": "c70bcc33-6d3a-4bb1-89bb-235bdc7ad978",
   "metadata": {
    "scrolled": true
   },
   "outputs": [],
   "source": [
    "noise_levels = [0,1e-09,1e-08,1e-7]\n",
    "experiment_name = experiment_names[0]\n",
    "perform_experiment(noise_levels,fd_order,experiment_name,C2_param=C2_param)"
   ]
  },
  {
   "cell_type": "markdown",
   "id": "34abd6bf",
   "metadata": {},
   "source": [
    "### Perform on all experiments"
   ]
  },
  {
   "cell_type": "code",
   "execution_count": null,
   "id": "5e95d89b-39cb-474d-a98d-83a04c2c6652",
   "metadata": {
    "scrolled": true
   },
   "outputs": [],
   "source": [
    "noise_levels = [0,1e-08,1e-05,0.01]\n",
    "fd_orders=[2,8]\n",
    "for experiment_name in experiment_names:\n",
    "    for order in fd_orders:\n",
    "        perform_experiment(noise_levels,order,experiment_name)    "
   ]
  }
 ],
 "metadata": {
  "kernelspec": {
   "display_name": "Python 3 (ipykernel)",
   "language": "python",
   "name": "python3"
  },
  "language_info": {
   "codemirror_mode": {
    "name": "ipython",
    "version": 3
   },
   "file_extension": ".py",
   "mimetype": "text/x-python",
   "name": "python",
   "nbconvert_exporter": "python",
   "pygments_lexer": "ipython3",
   "version": "3.8.17"
  }
 },
 "nbformat": 4,
 "nbformat_minor": 5
}
