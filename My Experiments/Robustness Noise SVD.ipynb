{
 "cells": [
  {
   "cell_type": "markdown",
   "id": "087b45a4-1419-405a-8c3a-ceada3aeb5eb",
   "metadata": {},
   "source": [
    "# Robustness Noise \n",
    "In order to understand the results better from the testing so far, in particular the plots, we want to analyse how noise influences our computations.\n",
    "This serves the overall goal of improving our method with noisy data.\n",
    "Following questions arise:\n",
    "\n",
    "How can we bound the finite difference method?\n",
    "\n",
    "How stable is the SVD to noise?\n",
    "\n",
    "We only consider noise which is normally distributed? Does this influence our result?\n",
    "\n",
    "What is the relation between the highest and the lowest singular value? Do they grow/shrink in a similar way when confronted with noise?"
   ]
  },
  {
   "cell_type": "markdown",
   "id": "74baf2a1-eb93-46e3-b50e-b936828e23c2",
   "metadata": {},
   "source": [
    "## SVD Robustness Noise\n",
    "There is a theorem and a corollary:\n",
    "\n",
    "Theorem 2.18 (Mirsky). If $A,E \\in K^{IxI}$ are two arbitrary matrices, then $\\sqrt{\\sum_{k=1}^{r}|\\sigma_k(A+E) - \\sigma_k(A)|} \\leq \\lVert E \\rVert_F$\n",
    "\n",
    "Corollary:\n",
    "If $A,E \\in K^{IxI}$ are two arbitrary matrices, then $\\forall k \\ |\\sigma_k(A+E) - \\sigma_k(A)| \\leq \\lVert E \\rVert$"
   ]
  },
  {
   "cell_type": "markdown",
   "id": "bbde1ca4-8db6-460a-9262-69c0c0b08ff2",
   "metadata": {},
   "source": [
    "#### 1. What is the spectral and Frobenius norm of random noise matrices?"
   ]
  },
  {
   "cell_type": "code",
   "execution_count": 7,
   "id": "de720195-11b5-43f7-b900-8b65deece61e",
   "metadata": {},
   "outputs": [],
   "source": [
    "import numpy as np\n",
    "from numpy.linalg import matrix_rank, svd\n",
    "from test_data import experiment_data,add_noise\n",
    "import pysindy as ps\n",
    "import matplotlib.pyplot as plt"
   ]
  },
  {
   "cell_type": "code",
   "execution_count": 47,
   "id": "1a7d83ee-b748-4229-abbf-f184eb3d30df",
   "metadata": {},
   "outputs": [
    {
     "name": "stdout",
     "output_type": "stream",
     "text": [
      "[[ 7.0188849  -0.1483127  -1.02089914]\n",
      " [-7.65020107 -0.29885615 -2.05715347]\n",
      " [ 3.2510581   0.38781549  2.66949829]\n",
      " [ 6.30788505  0.176479    1.21477971]\n",
      " [-0.17507999 -0.35525025 -2.44533797]\n",
      " [ 5.08680762 -1.03539496 -7.12706211]\n",
      " [-8.47585029  1.38522659  9.53510136]\n",
      " [-5.65634289 -0.86989931 -5.9878854 ]\n",
      " [-6.27522626  0.20076263  1.38193422]\n",
      " [ 0.7982208   0.51391097  3.53746689]]\n"
     ]
    }
   ],
   "source": [
    "rows,cols = 10,3 #let rows be more than columns\n",
    "min_value,max_value = -10,10\n",
    "matrix = np.random.uniform(min_value, max_value, size=(rows, cols))\n",
    "# Set col 2 equal to col 1\n",
    "alpha = np.random.rand()\n",
    "matrix[:, 1] = alpha*matrix[:,2]\n",
    "print(matrix)"
   ]
  },
  {
   "cell_type": "code",
   "execution_count": 48,
   "id": "3f5c47c7-52ba-46d0-9e78-ab99b8055f9d",
   "metadata": {},
   "outputs": [
    {
     "name": "stdout",
     "output_type": "stream",
     "text": [
      "2 [1.89024438e+01 1.36719064e+01 3.49696345e-16]\n",
      "23.328596307199764\n",
      "18.902443766547503\n"
     ]
    }
   ],
   "source": [
    "print(matrix_rank(matrix),svd(matrix, compute_uv=False))\n",
    "print(np.linalg.norm(matrix))\n",
    "print(np.linalg.norm(matrix,ord=2))"
   ]
  },
  {
   "cell_type": "markdown",
   "id": "3d94287d-0bd2-4f48-a99b-48235a1c8ce3",
   "metadata": {},
   "source": [
    "Add noise"
   ]
  },
  {
   "cell_type": "code",
   "execution_count": 49,
   "id": "be86121c-591d-42f2-bc49-414dd1ff8b77",
   "metadata": {},
   "outputs": [
    {
     "name": "stdout",
     "output_type": "stream",
     "text": [
      "Added Gaussian noise with variance 0.004259199477461676\n"
     ]
    }
   ],
   "source": [
    "#np.random.seed(12)\n",
    "target_noise=1e-3\n",
    "var = target_noise * np.sqrt(np.mean(np.square(matrix)))\n",
    "noise = np.random.normal(0, var, size=matrix.shape)\n",
    "matrix_noise = matrix + noise\n",
    "print(f\"Added Gaussian noise with variance {var}\")"
   ]
  },
  {
   "cell_type": "code",
   "execution_count": 50,
   "id": "47205cab-b830-4bd7-b66b-7be0f2915b46",
   "metadata": {},
   "outputs": [
    {
     "name": "stdout",
     "output_type": "stream",
     "text": [
      "Noise Matrix\n",
      "Matrix rank: 3, SVD: [0.01506495 0.01006219 0.00647188]\n",
      "Frobenius norm:\t 0.01923761220387262\n",
      "Spectral norm:\t 0.01506495397336334\n"
     ]
    }
   ],
   "source": [
    "print(\"Noise Matrix\")\n",
    "#print(noise)\n",
    "print(f\"Matrix rank: {matrix_rank(noise)}, SVD: {svd(noise, compute_uv=False)}\")\n",
    "print(f\"Frobenius norm:\\t {np.linalg.norm(noise)}\")\n",
    "print(f\"Spectral norm:\\t {np.linalg.norm(noise,ord=2)}\")"
   ]
  },
  {
   "cell_type": "markdown",
   "id": "094604a5-eaa2-46c9-bdfc-28970b0bc03f",
   "metadata": {},
   "source": [
    "Print SVD and matrix rank with additional noise"
   ]
  },
  {
   "cell_type": "code",
   "execution_count": 65,
   "id": "56de0019-079f-4504-8d73-86d46f1a818c",
   "metadata": {},
   "outputs": [
    {
     "name": "stdout",
     "output_type": "stream",
     "text": [
      "Noise level \t \t matrix rank \t svd \t \t \t \t \t \t \t Frobenius \t \t \t Spectral\n",
      " 0      \t \t 2 \t \t [2.10690267e-02 1.46498067e-02 2.13228965e-20]     \t 0.0      \t 0.0\n",
      " 1e-10      \t \t 3 \t \t [2.10690267e-02 1.46498067e-02 8.94639204e-13]     \t 2.432807439508658e-12      \t 1.8139654558488334e-12\n",
      " 1e-09      \t \t 3 \t \t [2.10690267e-02 1.46498067e-02 1.72808216e-11]     \t 3.092716594131735e-11      \t 2.437341694975883e-11\n",
      " 1e-08      \t \t 3 \t \t [2.10690267e-02 1.46498068e-02 1.41394625e-10]     \t 2.9247186347575517e-10      \t 2.02412916670624e-10\n",
      " 1e-07      \t \t 3 \t \t [2.10690261e-02 1.46498077e-02 1.56880505e-09]     \t 3.0316835893845153e-09      \t 2.0282777976639026e-09\n",
      " 1e-06      \t \t 3 \t \t [2.10690213e-02 1.46498058e-02 7.52940532e-09]     \t 2.125220588023493e-08      \t 1.5191749390801124e-08\n",
      " 1e-05      \t \t 3 \t \t [2.10690030e-02 1.46497892e-02 1.45364873e-07]     \t 2.2486175056637923e-07      \t 1.6899765905689086e-07\n",
      " 0.0001      \t \t 3 \t \t [2.10692961e-02 1.46495845e-02 8.22975611e-07]     \t 2.072784657725658e-06      \t 1.4583012851296951e-06\n",
      " 0.001      \t \t 3 \t \t [2.10706481e-02 1.46507209e-02 1.46854192e-05]     \t 2.7632403288292876e-05      \t 2.201609210006978e-05\n",
      " 0.01      \t \t 3 \t \t [0.02110642 0.01466299 0.00011438]     \t 0.00022999236285120445      \t 0.0001681709440470997\n",
      " 0.1      \t \t 3 \t \t [0.02072461 0.01415771 0.00178328]     \t 0.0026357116837849317      \t 0.002141666423599998\n"
     ]
    }
   ],
   "source": [
    "noise_levels = [0]+[10**(-10+i) for i in range(0,10)]\n",
    "print(\"Noise level \\t \\t matrix rank \\t svd \\t \\t \\t \\t \\t \\t \\t Frobenius \\t \\t \\t Spectral\")\n",
    "for target_noise in noise_levels:\n",
    "    var = target_noise * np.sqrt(np.mean(np.square(matrix)))\n",
    "    noise = np.random.normal(0, var, size=matrix.shape)\n",
    "    matrix_noise = matrix + noise\n",
    "    print(f\" {target_noise}      \\t \\t {matrix_rank(matrix_noise)} \\t \\t {svd(matrix_noise, compute_uv=False)}     \\t {np.linalg.norm(noise)}      \\t {np.linalg.norm(noise,ord=2)}\")"
   ]
  },
  {
   "cell_type": "markdown",
   "id": "4eb56aa0-ac13-49b5-8f78-46d7a49ce7a5",
   "metadata": {},
   "source": [
    "Although the Frobenius Norm might not be that high in relation to the highest singular value. In relation to the smallest singular value it can be quite significant. Thus, the changes in the smallest singular value can be more disturbing for our purpose."
   ]
  },
  {
   "cell_type": "markdown",
   "id": "ba5ba61f-5f97-4b7d-98ef-871647ffc86e",
   "metadata": {},
   "source": [
    "#### 2. What is the ratio between the smallest and biggest singular value?"
   ]
  },
  {
   "cell_type": "markdown",
   "id": "7c378a35-2cc4-42e5-9d96-da93f2214bba",
   "metadata": {},
   "source": [
    "The idea is if $A \\in \\mathbb{R}^{nxm}$ for $m<n$ has full rank $\\frac{\\sigma_1}{\\sigma_m} < \\infty$, but if it does not have full rank $\\frac{\\sigma_1}{\\sigma_m} = \\infty$"
   ]
  },
  {
   "cell_type": "code",
   "execution_count": 91,
   "id": "657f4cbb-bf9e-4d4b-bf55-ecb92535bdff",
   "metadata": {},
   "outputs": [
    {
     "name": "stdout",
     "output_type": "stream",
     "text": [
      "0.6896726102598775\n",
      "[[-5.2457179   4.78207113  6.93382782]\n",
      " [-6.53603156  3.97419979  5.76244399]\n",
      " [ 4.42032949 -5.37222213 -7.78952513]\n",
      " [-8.82931129 -6.08315336 -8.82034935]\n",
      " [ 1.90081875 -1.91986843 -2.78373884]\n",
      " [-1.74932381 -1.66297943 -2.4112592 ]\n",
      " [-5.06710477  2.40910389  3.49311232]\n",
      " [ 8.06350593  6.05010499  8.77243042]\n",
      " [ 5.94244568  5.1028325   7.39892005]\n",
      " [-6.77824353 -1.19040041 -1.72603696]]\n"
     ]
    }
   ],
   "source": [
    "rows,cols = 10,3 #let rows be more than columns\n",
    "min_value,max_value = -10,10\n",
    "matrix = np.random.uniform(min_value, max_value, size=(rows, cols))\n",
    "# Set col 2 equal to col 1\n",
    "alpha = np.random.rand()\n",
    "print(alpha)\n",
    "matrix[:, 1] = alpha*matrix[:,2]\n",
    "#matrix[:, 2] *=1/10000\n",
    "#matrix[:, 1] *=1/10000\n",
    "print(matrix)"
   ]
  },
  {
   "cell_type": "code",
   "execution_count": 92,
   "id": "e3e8010e-1bcf-4b5f-af01-7fe4fd0cb040",
   "metadata": {},
   "outputs": [
    {
     "name": "stdout",
     "output_type": "stream",
     "text": [
      "matrix shape: (10, 3), rank: 2\n",
      "Singular values : [2.44154200e+01 1.76434861e+01 3.52078150e-15]\n",
      "Ratio big/smalles singular value: 6934659253920585.0\n"
     ]
    }
   ],
   "source": [
    "sv = svd(matrix, compute_uv=False)\n",
    "n=len(sv)\n",
    "print(f\"matrix shape: {matrix.shape}, rank: {matrix_rank(matrix)}\" )\n",
    "print(f\"Singular values : {sv}\" )\n",
    "print(f\"Ratio big/smalles singular value: {sv[0]/sv[n-1]}\")"
   ]
  },
  {
   "cell_type": "code",
   "execution_count": 93,
   "id": "70a247d5-8007-4d19-9daa-ce16bbe3c36c",
   "metadata": {},
   "outputs": [
    {
     "name": "stdout",
     "output_type": "stream",
     "text": [
      "Noise level \t matrix rank \t sv \t \t \t \t \t   \t  \t ratio\n",
      " 0\t \t 2 \t \t [2.44154200e+01 1.76434861e+01 3.52078150e-15] \t 6934659253920585.0\n",
      " 1e-10\t \t 3 \t \t [2.44154200e+01 1.76434861e+01 1.28617383e-09] \t 18982986096.379982\n",
      " 1e-09\t \t 3 \t \t [2.44154200e+01 1.76434861e+01 1.76733057e-08] \t 1381485751.3403156\n",
      " 1e-08\t \t 3 \t \t [2.44154200e+01 1.76434862e+01 1.12721494e-07] \t 216599506.69116098\n",
      " 1e-07\t \t 3 \t \t [2.44154196e+01 1.76434864e+01 1.37778295e-06] \t 17720802.45147129\n",
      " 1e-06\t \t 3 \t \t [2.44154208e+01 1.76434843e+01 1.79538472e-05] \t 1359899.1111127606\n",
      " 1e-05\t \t 3 \t \t [2.44153334e+01 1.76434767e+01 1.38858059e-04] \t 175829.43045778398\n",
      " 0.0001\t \t 3 \t \t [2.44155691e+01 1.76433386e+01 1.29663710e-03] \t 18829.91712258781\n",
      " 0.001\t \t 3 \t \t [2.44187212e+01 1.76443290e+01 1.37228953e-02] \t 1779.4146784256868\n",
      " 0.01\t \t 3 \t \t [24.41654029 17.55003095  0.08413519] \t 290.20602475244004\n",
      " 0.1\t \t 3 \t \t [24.84224849 17.44973367  1.82776766] \t 13.591578973627634\n"
     ]
    }
   ],
   "source": [
    "noise_levels = [0]+[10**(-10+i) for i in range(0,10)]\n",
    "print(\"Noise level \\t matrix rank \\t sv \\t \\t \\t \\t \\t   \\t  \\t ratio\")\n",
    "for target_noise in noise_levels:\n",
    "    var = target_noise * np.sqrt(np.mean(np.square(matrix)))\n",
    "    noise = np.random.normal(0, var, size=matrix.shape)\n",
    "    matrix_noise = matrix+noise\n",
    "    sv = svd(matrix_noise, compute_uv=False)\n",
    "    print(f\" {target_noise}\\t \\t {matrix_rank(matrix_noise)} \\t \\t {sv} \\t {sv[0]/sv[n-1]}\")"
   ]
  },
  {
   "cell_type": "markdown",
   "id": "76b8306e-dcf0-4fd1-a1e7-76b4eb27fbc8",
   "metadata": {
    "jp-MarkdownHeadingCollapsed": true
   },
   "source": [
    "## Finite Difference Noise"
   ]
  },
  {
   "cell_type": "markdown",
   "id": "6e8921db-d084-4e19-b0fc-432e565e34bc",
   "metadata": {},
   "source": [
    "We can find the coefficients use to calculate the finite differences for different orders in https://en.wikipedia.org/wiki/Finite_difference_coefficient. Calculator https://web.media.mit.edu/~crtaylor/calculator.html<br>\n",
    "Assuming we have equispaced data for x,and we can bound the measurement error by $\\epsilon > 0$ i.e. $||u-\\tilde{u}||_{\\infty}< \\epsilon$ and the third derivative of u\n",
    "is bounded by $M(t, x) > 0$ on each interval $[x − h, x + h]$. Then, we get tha\n",
    "$$|u_x(t, x) − \\tilde{u}_x(t, x)| ≤ \\frac{\\epsilon}{h} + \\frac{h^2}{6}M(t,x)$$\n",
    "is the 2nd order centered finite differences approximation of the derivative of $\\tilde{u}$."
   ]
  },
  {
   "cell_type": "markdown",
   "id": "e1f434fb-6008-4812-8977-e6eb74b93e01",
   "metadata": {},
   "source": [
    "TODO: error bound for different orders, centered and left-off-centered/backward differences (even/odd order)?<br>\n",
    "Question: do the same error bounds count at the boundary values of u?? For centered Differences no-> can lead to wron errorbound especially since exp has high values at boundary point"
   ]
  },
  {
   "cell_type": "markdown",
   "id": "67380a38-d736-46ce-955e-ef745c171462",
   "metadata": {},
   "source": [
    "For even order: centered differenced, for uneven order backward differences:<br>\n",
    "order = 1: <br>\n",
    "Approximation: $\\frac{u(x)-u(x-h)}{h}$,    Bound: $||u-\\tilde{u}||_{\\infty}<\\frac{h}{2}||u'||_{\\infty}+\\frac{2\\epsilon}{h}$ \n",
    "<br>\n",
    "order = 2: <br>\n",
    "Approximation: $\\frac{u(x+\\frac{h}{2})-u(x-\\frac{h}{2})}{h}$,    Bound: $||u-\\tilde{u}||_{\\infty}<\\frac{h^2}{3}||u^3||_{\\infty}+\\frac{2\\epsilon}{h}$ <br>\n",
    "(Here we use h/2 since for h the calculation did not work out -> makes more sense???)\n",
    "order = 4: <br>\n",
    "Approximation: see book or wiki,    Bound: $||u-\\tilde{u}||_{\\infty}<\\frac{h^4}{30}||u^5||_{\\infty}+\\frac{9 \\epsilon}{6h}$ <br>"
   ]
  },
  {
   "cell_type": "code",
   "execution_count": 113,
   "id": "dfb8488a-9d57-4623-a276-1c55b602a5cd",
   "metadata": {},
   "outputs": [],
   "source": [
    "from test_data import create_data_2d\n",
    "experiment_name = \"linear_nonunique_1\"\n",
    "n_samples=200\n",
    "T,X,t,x = create_data_2d(T_start=0, T_end=5, L_x_start=0,L_x_end=5, N_t=n_samples, N_x=n_samples)\n",
    "a=np.random.randn()\n",
    "#u = np.exp(X-a*T)\n",
    "#ux = u\n",
    "#uxx = u\n",
    "#uxxx = u\n",
    "#ut = -a*u\n",
    "\n",
    "u = np.cos(X-a*T)\n",
    "ux = -np.sin(X-a*T)\n",
    "uxx = -np.cos(X-a*T)\n",
    "uxxx = np.sin(X-a*T)\n",
    "ut = a*np.sin(X-a*T)\n",
    "dx=x[1]-x[0]"
   ]
  },
  {
   "cell_type": "code",
   "execution_count": 115,
   "id": "f86dae6e-664f-4b2a-b4ec-5900d1346e7d",
   "metadata": {},
   "outputs": [
    {
     "name": "stdout",
     "output_type": "stream",
     "text": [
      "(40000, 2)\n",
      "Matrix rank = 2, svd = [143.2324188  139.58679135]\n"
     ]
    }
   ],
   "source": [
    "ux_fd = ps.FiniteDifference(order=3,d=1, axis=0, drop_endpoints=False)._differentiate(u, dx)\n",
    "u_flat, u_x_flat = u.flatten(), ux_fd.flatten()\n",
    "g= np.concatenate([u_flat.reshape(len(u_flat),1), u_x_flat.reshape(len(u_flat),1)], axis=1)\n",
    "print(g.shape)\n",
    "print(f\"Matrix rank = {matrix_rank(g)}, svd = {svd(g, compute_uv=False)}\")"
   ]
  },
  {
   "cell_type": "markdown",
   "id": "2b0491aa-ec5f-4ab7-b616-81d138398961",
   "metadata": {},
   "source": [
    "### Check difference between noisy derivative and correct derivative"
   ]
  },
  {
   "cell_type": "markdown",
   "id": "909eaf74-1106-42b5-988c-bc61400171f5",
   "metadata": {},
   "source": [
    "General formula for central differences: $$ \\text{sum over ceofficients} \\frac{\\epsilon}{h} + h^{order}\\frac{(order/2)!^2}{(order+1)!}$$\n",
    "\n",
    "For backward differences: $$ \\text{sum over ceofficients}\\frac{\\epsilon}{h} + h^{order} 1/(order+1)$$"
   ]
  },
  {
   "cell_type": "markdown",
   "id": "5cf99fec-dc69-4fc4-ad33-2877c8d81c75",
   "metadata": {},
   "source": [
    "Here compute functions for computing lagrange coefficients and sum(for calculating measurment error)\n",
    "$$L_{n,k}(x) =\\prod_{i=0,i\\neq k}^n \\frac{x-x_i}{x_k-x_i}$$\n",
    "$$  L'_{n,k}(x) = [\\prod_{i=0,i\\neq k}^n \\frac{1}{x_k-x_i}] \\sum_{j=0,j\\neq k}^n \\prod_{i=0,i\\neq k,j}^n (x-x_i)\n",
    "  = h^{-1}[\\prod_{i=0,i\\neq k}^n \\frac{1}{k-i}] \\sum_{j=0,j\\neq k}^n \\prod_{i=0,i\\neq k,j}^n (l-i) $$"
   ]
  },
  {
   "cell_type": "code",
   "execution_count": 116,
   "id": "23570e90-ce51-4359-86a3-787bf2a811f7",
   "metadata": {},
   "outputs": [],
   "source": [
    "\"\"\"\n",
    "n: number of data points\n",
    "k: number of lagrange coefficient\n",
    "l: number of data point where L is evaluated at: x = x_l = x+ hl\n",
    "\"\"\"\n",
    "#Computes the coefficients of the derivitve of the kth Lagrangian Coefficients\n",
    "#These are also the coefficients used for finite differences\n",
    "def lagrange_coefficient_derivative(n,k,l):\n",
    "    erg=0.0\n",
    "    \n",
    "    prod = 1.0\n",
    "    for i in range(n+1):\n",
    "        if i!=k:\n",
    "            prod *= 1.0/(k-i)\n",
    "            \n",
    "    for j in range(n+1):\n",
    "        if j!=k:\n",
    "            tmp =1.0\n",
    "            for i in range(n+1):\n",
    "                if i!=k and i!=j:\n",
    "                    tmp *=(l-i)\n",
    "                    #print(f\"l-k = {l}-{i}\")\n",
    "            erg+=tmp\n",
    "    erg*=prod\n",
    "    return erg\n",
    "    \n",
    "#Sums up the above coefficients\n",
    "#needed for measurment error\n",
    "def sum_lagrange_coefficient_derivative(n,l):\n",
    "    erg=0.0\n",
    "    for k in range(n+1):\n",
    "        #print(f\"L({n},{k},{l}) = {lagrange_coefficient_derivative(n,k,l)}\")\n",
    "        erg+= np.abs(lagrange_coefficient_derivative(n,k,l))\n",
    "    return erg"
   ]
  },
  {
   "cell_type": "code",
   "execution_count": 117,
   "id": "e047a5b8-1048-446c-9a7c-d7b62f0c1520",
   "metadata": {},
   "outputs": [],
   "source": [
    "# Approximation error central differences: reduces with higher order n\n",
    "def appr_error_central_diff(n):\n",
    "    assert(n%2==0) #Check if n is even\n",
    "    bound = (np.math.factorial(int(n/2))**2)/np.math.factorial(n+1)\n",
    "    return bound\n",
    "    \n",
    "# Approximation error backward differences: reduces with higher order n\n",
    "def appr_error_backward_diff(n):\n",
    "    return 1/(n+1)\n",
    "\n",
    "# Measurement error central differences\n",
    "def meas_error_central_diff(n):\n",
    "    assert(n%2==0) #Check if n is even\n",
    "    erg=sum_lagrange_coefficient_derivative(n,n/2)\n",
    "    return erg\n",
    "    \n",
    "# Measurement error backward differences\n",
    "def meas_error_backward_diff(n):\n",
    "    erg=sum_lagrange_coefficient_derivative(n,0)\n",
    "    return erg"
   ]
  },
  {
   "cell_type": "code",
   "execution_count": 141,
   "id": "1099c8fd-20b8-4b0c-a4a3-f5cadd955c95",
   "metadata": {},
   "outputs": [
    {
     "name": "stdout",
     "output_type": "stream",
     "text": [
      "Order: 1, Error: 2.0\n",
      "Order: 3, Error: 6.666666666666666\n",
      "Order: 5, Error: 17.066666666666666\n",
      "Order: 7, Error: 46.01904761904762\n",
      "Order: 9, Error: 134.90793650793648\n",
      "Order: 11, Error: 423.48975468975465\n",
      "Order: 13, Error: 1394.9769341769338\n",
      "Order: 15, Error: 4749.795981795982\n",
      "Order: 17, Error: 16555.913628854803\n",
      "Order: 19, Error: 58713.57444756825\n",
      "Order: 21, Error: 211006.7553999492\n",
      "Order: 23, Error: 766379.0241746526\n",
      "Order: 25, Error: 2807606.970841319\n",
      "Order: 27, Error: 10359744.087650435\n",
      "Order: 29, Error: 38459514.72804452\n",
      "Order: 31, Error: 143524574.92589393\n",
      "Order: 33, Error: 538043351.1683179\n",
      "Order: 35, Error: 2025040431.8002503\n",
      "Order: 37, Error: 7648481095.632078\n",
      "Order: 39, Error: 28978413145.942455\n"
     ]
    }
   ],
   "source": [
    "for i in range(1,20,2):\n",
    "    print(f\"Order: {i}, Error: {meas_error_backward_diff(i)}\")"
   ]
  },
  {
   "cell_type": "code",
   "execution_count": 159,
   "id": "b8135279-5ca5-49b5-86be-a69f10440a16",
   "metadata": {},
   "outputs": [],
   "source": [
    "#eps: measurement error+roundof error (Does it make sense to add machine precision?)\n",
    "#h: dx for equispaced data\n",
    "#M: bound on nth derivative depending on the order\n",
    "def error_bound(eps,h,M,order=2):\n",
    "    eps+=np.finfo(float).eps # add machine precisoin\n",
    "    if order%2==0: #even order\n",
    "        C_app=appr_error_central_diff(order)\n",
    "        C_meas=meas_error_central_diff(order)\n",
    "    else: # odd order\n",
    "        C_app=appr_error_backward_diff(order)\n",
    "        C_meas=meas_error_backward_diff(order)\n",
    "        \n",
    "    return C_meas*eps/h + (h**order)*M*C_app\n",
    "            \n",
    "def infinity_norm(x):\n",
    "    return np.max(np.abs(x))"
   ]
  },
  {
   "cell_type": "code",
   "execution_count": 160,
   "id": "44c5cc81-62cb-4343-9767-9438b6134b89",
   "metadata": {},
   "outputs": [],
   "source": [
    "target_noise=1e-9\n",
    "var = target_noise * np.sqrt(np.mean(np.square(u)))\n",
    "noise = np.random.normal(0, var, size=u.shape)\n",
    "u_noise = u + noise\n",
    "order=2\n",
    "ux_noise = ps.FiniteDifference(order=order,d=1, axis=0, drop_endpoints=False)._differentiate(u_noise, dx)"
   ]
  },
  {
   "cell_type": "code",
   "execution_count": 161,
   "id": "eaa47759-70e6-4336-b7f4-6eaf4d319522",
   "metadata": {},
   "outputs": [
    {
     "data": {
      "text/plain": [
       "0.00021054777378570755"
      ]
     },
     "execution_count": 161,
     "metadata": {},
     "output_type": "execute_result"
    }
   ],
   "source": [
    "infinity_norm(ux-ux_noise)"
   ]
  },
  {
   "cell_type": "code",
   "execution_count": 162,
   "id": "053c649f-10ac-461a-bbcb-b067d14796a9",
   "metadata": {},
   "outputs": [
    {
     "name": "stdout",
     "output_type": "stream",
     "text": [
      "eps: 2.971471513291135e-09, M: 0.9999999977998846, h: 0.02512562814070352\n"
     ]
    }
   ],
   "source": [
    "eps=infinity_norm(u_noise-u)\n",
    "M=infinity_norm(uxxx)\n",
    "h=dx\n",
    "print(f\"eps: {eps}, M: {M}, h: {h}\")"
   ]
  },
  {
   "cell_type": "code",
   "execution_count": 163,
   "id": "ffecf0b8-6690-4bd0-96b1-f513e347d39c",
   "metadata": {},
   "outputs": [
    {
     "data": {
      "text/plain": [
       "0.00010533446258773067"
      ]
     },
     "execution_count": 163,
     "metadata": {},
     "output_type": "execute_result"
    }
   ],
   "source": [
    "error_bound(eps,h,M,order=order)"
   ]
  },
  {
   "cell_type": "markdown",
   "id": "4ea1bc40-ad30-4d97-824e-0865bbe220fb",
   "metadata": {},
   "source": [
    "Error bound smaller than difference for oder =^1? -> wrong formula\n",
    "three poiint midpoint ?/ numerical mistakes in error bound calcuation?<br>\n",
    "What about the boundary values for central diff??? -> I think they are the reason the bound fails for some noise levels since we can not use central differnce at the boundary values!"
   ]
  },
  {
   "cell_type": "code",
   "execution_count": 164,
   "id": "9704e4f3-dff0-4b9c-aefd-78de47d3eb7b",
   "metadata": {},
   "outputs": [
    {
     "name": "stdout",
     "output_type": "stream",
     "text": [
      "Noise level \t  eps \t \t $max|ux-ux_noise|$ \t bound\n",
      "0 \t \t  0.0000 \t 0.0002 \t \t 0.0001\n",
      "1e-10 \t \t  0.0000 \t 0.0002 \t \t 0.0001\n",
      "1e-09 \t \t  0.0000 \t 0.0002 \t \t 0.0001\n",
      "1e-08 \t \t  0.0000 \t 0.0002 \t \t 0.0001\n",
      "1e-07 \t \t  0.0000 \t 0.0002 \t \t 0.0001\n",
      "1e-06 \t \t  0.0000 \t 0.0004 \t \t 0.0002\n",
      "1e-05 \t \t  0.0000 \t 0.0023 \t \t 0.0013\n",
      "0.0001 \t \t  0.0003 \t 0.0184 \t \t 0.0126\n",
      "0.001 \t \t  0.0033 \t 0.2245 \t \t 0.1333\n",
      "0.01 \t \t  0.0315 \t 2.1113 \t \t 1.2552\n",
      "0.1 \t \t  0.2839 \t 22.9373 \t \t 11.2980\n"
     ]
    },
    {
     "data": {
      "image/png": "[encoded data removed]",
      "text/plain": [
       "<Figure size 640x480 with 1 Axes>"
      ]
     },
     "metadata": {},
     "output_type": "display_data"
    }
   ],
   "source": [
    "M=infinity_norm(uxxx)\n",
    "noise_levels = [0]+[10**(-10+i) for i in range(0,10)]\n",
    "print(\"Noise level \\t  eps \\t \\t $max|ux-ux_noise|$ \\t bound\")\n",
    "plt.title(\"Derivative Cutout\")\n",
    "order=2\n",
    "for target_noise in noise_levels:\n",
    "    var = target_noise * np.sqrt(np.mean(np.square(u)))\n",
    "    noise = np.random.normal(0, var, size=u.shape)\n",
    "    u_noise = u + noise\n",
    "    ux_noise = ps.FiniteDifference(order=order,d=1, axis=0, drop_endpoints=False)._differentiate(u_noise, dx)\n",
    "    plt.plot(ux_noise[0,:],label=str(target_noise))\n",
    "    eps = infinity_norm(u_noise-u)\n",
    "    bound = error_bound(eps,dx,M,order)\n",
    "    diff = infinity_norm(ux-ux_noise)\n",
    "    print(f\"{target_noise} \\t \\t  {eps:.4f} \\t {diff:.4f} \\t \\t {bound:.4f}\")\n",
    "plt.legend()\n",
    "plt.show()"
   ]
  },
  {
   "cell_type": "code",
   "execution_count": 165,
   "id": "e11979f4-ece2-4185-b041-434f0a05bf89",
   "metadata": {
    "scrolled": true
   },
   "outputs": [
    {
     "name": "stdout",
     "output_type": "stream",
     "text": [
      "Order \t Noise level \t  eps \t \t|ux-ux_noise| \t bound\n",
      "1\n",
      "\t 0\t \t  0.000 \t 0.0126 \t 0.0126\n",
      "\t 1e-10\t \t  0.000 \t 0.0126 \t 0.0126\n",
      "\t 1e-09\t \t  0.000 \t 0.0126 \t 0.0126\n",
      "\t 1e-08\t \t  0.000 \t 0.0126 \t 0.0126\n",
      "\t 1e-07\t \t  0.000 \t 0.0126 \t 0.0126\n",
      "\t 1e-06\t \t  0.000 \t 0.0127 \t 0.0128\n",
      "\t 1e-05\t \t  0.000 \t 0.0143 \t 0.0155\n",
      "\t 0.0001\t \t  0.000 \t 0.0284 \t 0.0365\n",
      "\t 0.001\t \t  0.003 \t 0.1825 \t 0.2267\n",
      "\t 0.01\t \t  0.034 \t 2.0557 \t 2.7499\n",
      "2\n",
      "\t 0\t \t  0.000 \t 0.0002 \t 0.0001\n",
      "\t 1e-10\t \t  0.000 \t 0.0002 \t 0.0001\n",
      "\t 1e-09\t \t  0.000 \t 0.0002 \t 0.0001\n",
      "\t 1e-08\t \t  0.000 \t 0.0002 \t 0.0001\n",
      "\t 1e-07\t \t  0.000 \t 0.0002 \t 0.0001\n",
      "\t 1e-06\t \t  0.000 \t 0.0004 \t 0.0002\n",
      "\t 1e-05\t \t  0.000 \t 0.0023 \t 0.0014\n",
      "\t 0.0001\t \t  0.000 \t 0.0256 \t 0.0120\n",
      "\t 0.001\t \t  0.003 \t 0.2010 \t 0.1365\n",
      "\t 0.01\t \t  0.031 \t 2.8581 \t 1.2141\n",
      "3\n",
      "\t 0\t \t  0.000 \t 0.0000 \t 0.0000\n",
      "\t 1e-10\t \t  0.000 \t 0.0000 \t 0.0000\n",
      "\t 1e-09\t \t  0.000 \t 0.0000 \t 0.0000\n",
      "\t 1e-08\t \t  0.000 \t 0.0000 \t 0.0000\n",
      "\t 1e-07\t \t  0.000 \t 0.0000 \t 0.0001\n",
      "\t 1e-06\t \t  0.000 \t 0.0003 \t 0.0008\n",
      "\t 1e-05\t \t  0.000 \t 0.0028 \t 0.0080\n",
      "\t 0.0001\t \t  0.000 \t 0.0354 \t 0.0888\n",
      "\t 0.001\t \t  0.003 \t 0.3525 \t 0.8164\n",
      "\t 0.01\t \t  0.030 \t 3.3298 \t 7.8946\n",
      "4\n",
      "\t 0\t \t  0.000 \t 0.0000 \t 0.0000\n",
      "\t 1e-10\t \t  0.000 \t 0.0000 \t 0.0000\n",
      "\t 1e-09\t \t  0.000 \t 0.0000 \t 0.0000\n",
      "\t 1e-08\t \t  0.000 \t 0.0000 \t 0.0000\n",
      "\t 1e-07\t \t  0.000 \t 0.0000 \t 0.0000\n",
      "\t 1e-06\t \t  0.000 \t 0.0006 \t 0.0002\n",
      "\t 1e-05\t \t  0.000 \t 0.0038 \t 0.0018\n",
      "\t 0.0001\t \t  0.000 \t 0.0488 \t 0.0185\n",
      "\t 0.001\t \t  0.004 \t 0.4828 \t 0.2274\n",
      "\t 0.01\t \t  0.033 \t 4.9804 \t 1.9487\n",
      "5\n",
      "\t 0\t \t  0.000 \t 0.0000 \t 0.0000\n",
      "\t 1e-10\t \t  0.000 \t 0.0000 \t 0.0000\n",
      "\t 1e-09\t \t  0.000 \t 0.0000 \t 0.0000\n",
      "\t 1e-08\t \t  0.000 \t 0.0000 \t 0.0000\n",
      "\t 1e-07\t \t  0.000 \t 0.0001 \t 0.0002\n",
      "\t 1e-06\t \t  0.000 \t 0.0008 \t 0.0022\n",
      "\t 1e-05\t \t  0.000 \t 0.0070 \t 0.0185\n",
      "\t 0.0001\t \t  0.000 \t 0.0721 \t 0.2051\n",
      "\t 0.001\t \t  0.003 \t 0.7329 \t 2.1783\n",
      "\t 0.01\t \t  0.030 \t 7.7584 \t 20.5989\n",
      "6\n",
      "\t 0\t \t  0.000 \t 0.0000 \t 0.0000\n",
      "\t 1e-10\t \t  0.000 \t 0.0000 \t 0.0000\n",
      "\t 1e-09\t \t  0.000 \t 0.0000 \t 0.0000\n",
      "\t 1e-08\t \t  0.000 \t 0.0000 \t 0.0000\n",
      "\t 1e-07\t \t  0.000 \t 0.0001 \t 0.0000\n",
      "\t 1e-06\t \t  0.000 \t 0.0010 \t 0.0002\n",
      "\t 1e-05\t \t  0.000 \t 0.0112 \t 0.0024\n",
      "\t 0.0001\t \t  0.000 \t 0.0964 \t 0.0221\n",
      "\t 0.001\t \t  0.003 \t 1.1165 \t 0.2255\n",
      "\t 0.01\t \t  0.032 \t 12.0435 \t 2.3352\n",
      "7\n",
      "\t 0\t \t  0.000 \t 0.0000 \t 0.0000\n",
      "\t 1e-10\t \t  0.000 \t 0.0000 \t 0.0000\n",
      "\t 1e-09\t \t  0.000 \t 0.0000 \t 0.0000\n",
      "\t 1e-08\t \t  0.000 \t 0.0000 \t 0.0001\n",
      "\t 1e-07\t \t  0.000 \t 0.0002 \t 0.0005\n",
      "\t 1e-06\t \t  0.000 \t 0.0016 \t 0.0052\n",
      "\t 1e-05\t \t  0.000 \t 0.0178 \t 0.0528\n",
      "\t 0.0001\t \t  0.000 \t 0.1768 \t 0.5697\n",
      "\t 0.001\t \t  0.003 \t 1.7989 \t 5.5727\n",
      "\t 0.01\t \t  0.028 \t 16.5180 \t 51.9268\n",
      "8\n",
      "\t 0\t \t  0.000 \t 0.0000 \t 0.0000\n",
      "\t 1e-10\t \t  0.000 \t 0.0000 \t 0.0000\n",
      "\t 1e-09\t \t  0.000 \t 0.0000 \t 0.0000\n",
      "\t 1e-08\t \t  0.000 \t 0.0000 \t 0.0000\n",
      "\t 1e-07\t \t  0.000 \t 0.0003 \t 0.0000\n",
      "\t 1e-06\t \t  0.000 \t 0.0023 \t 0.0002\n",
      "\t 1e-05\t \t  0.000 \t 0.0292 \t 0.0024\n",
      "\t 0.0001\t \t  0.000 \t 0.2866 \t 0.0239\n",
      "\t 0.001\t \t  0.003 \t 3.3689 \t 0.2497\n",
      "\t 0.01\t \t  0.030 \t 31.2508 \t 2.4938\n",
      "9\n",
      "\t 0\t \t  0.000 \t 0.0000 \t 0.0000\n",
      "\t 1e-10\t \t  0.000 \t 0.0000 \t 0.0000\n",
      "\t 1e-09\t \t  0.000 \t 0.0000 \t 0.0000\n",
      "\t 1e-08\t \t  0.000 \t 0.0000 \t 0.0002\n",
      "\t 1e-07\t \t  0.000 \t 0.0005 \t 0.0016\n",
      "\t 1e-06\t \t  0.000 \t 0.0050 \t 0.0156\n",
      "\t 1e-05\t \t  0.000 \t 0.0593 \t 0.1621\n",
      "\t 0.0001\t \t  0.000 \t 0.5399 \t 1.6772\n",
      "\t 0.001\t \t  0.003 \t 4.4661 \t 17.2705\n",
      "\t 0.01\t \t  0.030 \t 47.5044 \t 162.1059\n"
     ]
    }
   ],
   "source": [
    "M=infinity_norm(uxxx)\n",
    "number_noise=10 #<=10\n",
    "noise_levels = [0]+[10**(-10+i) for i in range(0,number_noise-1)]\n",
    "orders=range(1,10,1)\n",
    "print(\"Order \\t Noise level \\t  eps \\t \\t|ux-ux_noise| \\t bound\")\n",
    "diff_list = []\n",
    "bound_list = []\n",
    "for order in orders:\n",
    "    print(f\"{order}\")\n",
    "    avg_diff=0\n",
    "    avg_bound=0\n",
    "    for target_noise in noise_levels:\n",
    "        var = target_noise * np.sqrt(np.mean(np.square(u)))\n",
    "        noise = np.random.normal(0, var, size=u.shape)\n",
    "        u_noise = u + noise\n",
    "        ux_noise = ps.FiniteDifference(order=order,d=1, axis=0, drop_endpoints=False)._differentiate(u_noise, dx)\n",
    "        eps = infinity_norm(u_noise-u)\n",
    "        bound = error_bound(eps,dx,M,order)\n",
    "        diff = infinity_norm(ux-ux_noise)\n",
    "        avg_bound+=bound\n",
    "        avg_diff+=diff\n",
    "        print(f\"\\t {target_noise}\\t \\t  {eps:.3f} \\t {diff:.4f} \\t {bound:.4f}\")\n",
    "    avg_bound/=number_noise\n",
    "    avg_diff/=number_noise\n",
    "    bound_list.append(avg_bound)\n",
    "    diff_list.append(avg_diff)"
   ]
  },
  {
   "cell_type": "code",
   "execution_count": 166,
   "id": "3429124f-1aab-43d1-acc7-c6ec9a41b0c3",
   "metadata": {
    "scrolled": true
   },
   "outputs": [
    {
     "data": {
      "text/plain": [
       "<matplotlib.legend.Legend at 0x7f9de0c5bd30>"
      ]
     },
     "execution_count": 166,
     "metadata": {},
     "output_type": "execute_result"
    },
    {
     "data": {
      "image/png": "[encoded data removed]",
      "text/plain": [
       "<Figure size 640x480 with 1 Axes>"
      ]
     },
     "metadata": {},
     "output_type": "display_data"
    }
   ],
   "source": [
    "plt.title(\"Average bound and  |ux-ux_noise|\")\n",
    "plt.xlabel(\"Order\")\n",
    "plt.plot(orders,bound_list, marker='o',label='bounds')\n",
    "plt.plot(orders,diff_list,marker='x',label='|ux-ux_noise|')\n",
    "plt.legend()"
   ]
  },
  {
   "cell_type": "markdown",
   "id": "930d4197-0c43-4887-8f11-2d6121acf5bf",
   "metadata": {},
   "source": [
    "#### Without boundary values"
   ]
  },
  {
   "cell_type": "code",
   "execution_count": 171,
   "id": "f9707b01-2d4f-41f1-8167-f3503e0a49bc",
   "metadata": {
    "scrolled": true
   },
   "outputs": [
    {
     "name": "stdout",
     "output_type": "stream",
     "text": [
      "Order \t Noise level \t  eps \t \t|ux-ux_noise| \t bound\n",
      "1\n",
      "\t 0\t \t  0.000 \t 0.0126 \t 0.0126\n",
      "\t 1e-10\t \t  0.000 \t 0.0126 \t 0.0126\n",
      "\t 1e-09\t \t  0.000 \t 0.0126 \t 0.0126\n",
      "\t 1e-08\t \t  0.000 \t 0.0126 \t 0.0126\n",
      "\t 1e-07\t \t  0.000 \t 0.0126 \t 0.0126\n",
      "\t 1e-06\t \t  0.000 \t 0.0127 \t 0.0128\n",
      "\t 1e-05\t \t  0.000 \t 0.0138 \t 0.0149\n",
      "\t 0.0001\t \t  0.000 \t 0.0264 \t 0.0347\n",
      "2\n",
      "\t 0\t \t  0.000 \t 0.0001 \t 0.0001\n",
      "\t 1e-10\t \t  0.000 \t 0.0001 \t 0.0001\n",
      "\t 1e-09\t \t  0.000 \t 0.0001 \t 0.0001\n",
      "\t 1e-08\t \t  0.000 \t 0.0001 \t 0.0001\n",
      "\t 1e-07\t \t  0.000 \t 0.0001 \t 0.0001\n",
      "\t 1e-06\t \t  0.000 \t 0.0002 \t 0.0002\n",
      "\t 1e-05\t \t  0.000 \t 0.0009 \t 0.0014\n",
      "\t 0.0001\t \t  0.000 \t 0.0084 \t 0.0125\n",
      "3\n",
      "\t 0\t \t  0.000 \t 0.0000 \t 0.0000\n",
      "\t 1e-10\t \t  0.000 \t 0.0000 \t 0.0000\n",
      "\t 1e-09\t \t  0.000 \t 0.0000 \t 0.0000\n",
      "\t 1e-08\t \t  0.000 \t 0.0000 \t 0.0000\n",
      "\t 1e-07\t \t  0.000 \t 0.0000 \t 0.0001\n",
      "\t 1e-06\t \t  0.000 \t 0.0002 \t 0.0008\n",
      "\t 1e-05\t \t  0.000 \t 0.0014 \t 0.0084\n",
      "\t 0.0001\t \t  0.000 \t 0.0138 \t 0.0837\n",
      "4\n",
      "\t 0\t \t  0.000 \t 0.0000 \t 0.0000\n",
      "\t 1e-10\t \t  0.000 \t 0.0000 \t 0.0000\n",
      "\t 1e-09\t \t  0.000 \t 0.0000 \t 0.0000\n",
      "\t 1e-08\t \t  0.000 \t 0.0000 \t 0.0000\n",
      "\t 1e-07\t \t  0.000 \t 0.0000 \t 0.0000\n",
      "\t 1e-06\t \t  0.000 \t 0.0001 \t 0.0002\n",
      "\t 1e-05\t \t  0.000 \t 0.0012 \t 0.0019\n",
      "\t 0.0001\t \t  0.000 \t 0.0130 \t 0.0173\n",
      "5\n",
      "\t 0\t \t  0.000 \t 0.0000 \t 0.0000\n",
      "\t 1e-10\t \t  0.000 \t 0.0000 \t 0.0000\n",
      "\t 1e-09\t \t  0.000 \t 0.0000 \t 0.0000\n",
      "\t 1e-08\t \t  0.000 \t 0.0000 \t 0.0000\n",
      "\t 1e-07\t \t  0.000 \t 0.0000 \t 0.0002\n",
      "\t 1e-06\t \t  0.000 \t 0.0002 \t 0.0020\n",
      "\t 1e-05\t \t  0.000 \t 0.0014 \t 0.0190\n",
      "\t 0.0001\t \t  0.000 \t 0.0136 \t 0.1985\n",
      "6\n",
      "\t 0\t \t  0.000 \t 0.0000 \t 0.0000\n",
      "\t 1e-10\t \t  0.000 \t 0.0000 \t 0.0000\n",
      "\t 1e-09\t \t  0.000 \t 0.0000 \t 0.0000\n",
      "\t 1e-08\t \t  0.000 \t 0.0000 \t 0.0000\n",
      "\t 1e-07\t \t  0.000 \t 0.0000 \t 0.0000\n",
      "\t 1e-06\t \t  0.000 \t 0.0001 \t 0.0002\n",
      "\t 1e-05\t \t  0.000 \t 0.0012 \t 0.0021\n",
      "\t 0.0001\t \t  0.000 \t 0.0119 \t 0.0241\n",
      "7\n",
      "\t 0\t \t  0.000 \t 0.0000 \t 0.0000\n",
      "\t 1e-10\t \t  0.000 \t 0.0000 \t 0.0000\n",
      "\t 1e-09\t \t  0.000 \t 0.0000 \t 0.0000\n",
      "\t 1e-08\t \t  0.000 \t 0.0000 \t 0.0001\n",
      "\t 1e-07\t \t  0.000 \t 0.0000 \t 0.0006\n",
      "\t 1e-06\t \t  0.000 \t 0.0002 \t 0.0055\n",
      "\t 1e-05\t \t  0.000 \t 0.0015 \t 0.0672\n",
      "\t 0.0001\t \t  0.000 \t 0.0139 \t 0.6050\n",
      "8\n",
      "\t 0\t \t  0.000 \t 0.0000 \t 0.0000\n",
      "\t 1e-10\t \t  0.000 \t 0.0000 \t 0.0000\n",
      "\t 1e-09\t \t  0.000 \t 0.0000 \t 0.0000\n",
      "\t 1e-08\t \t  0.000 \t 0.0000 \t 0.0000\n",
      "\t 1e-07\t \t  0.000 \t 0.0000 \t 0.0000\n",
      "\t 1e-06\t \t  0.000 \t 0.0002 \t 0.0003\n",
      "\t 1e-05\t \t  0.000 \t 0.0013 \t 0.0025\n",
      "\t 0.0001\t \t  0.000 \t 0.0139 \t 0.0255\n",
      "9\n",
      "\t 0\t \t  0.000 \t 0.0000 \t 0.0000\n",
      "\t 1e-10\t \t  0.000 \t 0.0000 \t 0.0000\n",
      "\t 1e-09\t \t  0.000 \t 0.0000 \t 0.0000\n",
      "\t 1e-08\t \t  0.000 \t 0.0000 \t 0.0002\n",
      "\t 1e-07\t \t  0.000 \t 0.0000 \t 0.0016\n",
      "\t 1e-06\t \t  0.000 \t 0.0002 \t 0.0167\n",
      "\t 1e-05\t \t  0.000 \t 0.0015 \t 0.1527\n",
      "\t 0.0001\t \t  0.000 \t 0.0170 \t 1.7611\n"
     ]
    }
   ],
   "source": [
    "M=infinity_norm(uxxx)\n",
    "number_noise=8 #<=10\n",
    "noise_levels = [0]+[10**(-10+i) for i in range(0,number_noise-1)]\n",
    "orders=range(1,10,1)\n",
    "print(\"Order \\t Noise level \\t  eps \\t \\t|ux-ux_noise| \\t bound\")\n",
    "diff_list = []\n",
    "bound_list = []\n",
    "for order in orders:\n",
    "    print(f\"{order}\")\n",
    "    avg_diff=0\n",
    "    avg_bound=0\n",
    "    for target_noise in noise_levels:\n",
    "        var = target_noise * np.sqrt(np.mean(np.square(u)))\n",
    "        noise = np.random.normal(0, var, size=u.shape)\n",
    "        u_noise = u + noise\n",
    "        ux_noise = ps.FiniteDifference(order=order,d=1, axis=0, drop_endpoints=True)._differentiate(u_noise, dx)\n",
    "        row_mask = ~np.isnan(ux_noise).all(axis=1)\n",
    "        col_mask = ~np.isnan(ux_noise).all(axis=0)\n",
    "        eps = infinity_norm(u_noise[row_mask][:, col_mask]-u[row_mask][:, col_mask])\n",
    "        bound = error_bound(eps,dx,M,order)\n",
    "        diff = infinity_norm(ux[row_mask][:, col_mask]-ux_noise[row_mask][:, col_mask])\n",
    "        avg_bound+=bound\n",
    "        avg_diff+=diff\n",
    "        print(f\"\\t {target_noise}\\t \\t  {eps:.3f} \\t {diff:.4f} \\t {bound:.4f}\")\n",
    "    avg_bound/=number_noise\n",
    "    avg_diff/=number_noise\n",
    "    bound_list.append(avg_bound)\n",
    "    diff_list.append(avg_diff)"
   ]
  },
  {
   "cell_type": "code",
   "execution_count": 172,
   "id": "8b75c93b-8bb7-49da-bd8c-2578e9ab792f",
   "metadata": {},
   "outputs": [
    {
     "data": {
      "text/plain": [
       "<matplotlib.legend.Legend at 0x7f9de0a7a700>"
      ]
     },
     "execution_count": 172,
     "metadata": {},
     "output_type": "execute_result"
    },
    {
     "data": {
      "image/png": "[encoded data removed]",
      "text/plain": [
       "<Figure size 640x480 with 1 Axes>"
      ]
     },
     "metadata": {},
     "output_type": "display_data"
    }
   ],
   "source": [
    "plt.title(\"Average bound and  |ux-ux_noise|\")\n",
    "plt.xlabel(\"Order\")\n",
    "plt.plot(orders,bound_list, marker='o',label='bounds')\n",
    "plt.plot(orders,diff_list,marker='x',label='|ux-ux_noise|')\n",
    "plt.legend()"
   ]
  },
  {
   "cell_type": "code",
   "execution_count": null,
   "id": "d3c90fe6-d584-475e-9e28-2efa415ff30c",
   "metadata": {},
   "outputs": [],
   "source": []
  }
 ],
 "metadata": {
  "kernelspec": {
   "display_name": "Python 3 (ipykernel)",
   "language": "python",
   "name": "python3"
  },
  "language_info": {
   "codemirror_mode": {
    "name": "ipython",
    "version": 3
   },
   "file_extension": ".py",
   "mimetype": "text/x-python",
   "name": "python",
   "nbconvert_exporter": "python",
   "pygments_lexer": "ipython3",
   "version": "3.8.17"
  }
 },
 "nbformat": 4,
 "nbformat_minor": 5
}
