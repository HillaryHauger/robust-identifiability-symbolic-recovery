{
 "cells": [
  {
   "cell_type": "markdown",
   "id": "087b45a4-1419-405a-8c3a-ceada3aeb5eb",
   "metadata": {},
   "source": [
    "# Robustness Noise \n",
    "In order to understand the results better from the testing so far, in particular the plots, we want to analyse how noise influences our computations.\n",
    "This serves the overall goal of improving our method with noisy data.\n",
    "Following questions arise:\n",
    "\n",
    "How can we bound the finite difference method?\n",
    "\n",
    "How stable is the SVD to noise?\n",
    "\n",
    "We only consider noise which is normally distributed? Does this influence our result?\n",
    "\n",
    "What is the relation between the highest and the lowest singular value? Do they grow/shrink in a similar way when confronted with noise?"
   ]
  },
  {
   "cell_type": "markdown",
   "id": "74baf2a1-eb93-46e3-b50e-b936828e23c2",
   "metadata": {},
   "source": [
    "## SVD Robustness Noise\n",
    "There is a theorem and a corollary:\n",
    "\n",
    "Theorem 2.18 (Mirsky). If $A,E \\in K^{IxI}$ are two arbitrary matrices, then $\\sqrt{\\sum_{k=1}^{r}|\\sigma_k(A+E) - \\sigma_k(A)|} \\leq \\lVert E \\rVert_F$\n",
    "\n",
    "Corollary:\n",
    "If $A,E \\in K^{IxI}$ are two arbitrary matrices, then $\\forall k \\ |\\sigma_k(A+E) - \\sigma_k(A)| \\leq \\lVert E \\rVert$"
   ]
  },
  {
   "cell_type": "markdown",
   "id": "bbde1ca4-8db6-460a-9262-69c0c0b08ff2",
   "metadata": {},
   "source": [
    "1. What is the spectral and Frobenius norm of random noise matrices?"
   ]
  },
  {
   "cell_type": "code",
   "execution_count": 165,
   "id": "de720195-11b5-43f7-b900-8b65deece61e",
   "metadata": {},
   "outputs": [],
   "source": [
    "import numpy as np\n",
    "from numpy.linalg import matrix_rank, svd\n",
    "from test_data import experiment_data,add_noise\n",
    "import pysindy as ps"
   ]
  },
  {
   "cell_type": "code",
   "execution_count": 166,
   "id": "1a7d83ee-b748-4229-abbf-f184eb3d30df",
   "metadata": {},
   "outputs": [
    {
     "name": "stdout",
     "output_type": "stream",
     "text": [
      "[[ 5.51247314 -7.97141108 -8.65231561]\n",
      " [-1.95473907  6.40081464  6.94756146]\n",
      " [ 4.72324461  6.75677805  7.33393067]]\n"
     ]
    }
   ],
   "source": [
    "rows,cols = 3,3 #let rows be more than columns\n",
    "min_value,max_value = -10,10\n",
    "matrix = np.random.uniform(min_value, max_value, size=(rows, cols))\n",
    "# Set col 2 equal to col 1\n",
    "alpha = np.random.rand()\n",
    "matrix[:, 1] = alpha*matrix[:,2]\n",
    "print(matrix)"
   ]
  },
  {
   "cell_type": "code",
   "execution_count": 167,
   "id": "3f5c47c7-52ba-46d0-9e78-ab99b8055f9d",
   "metadata": {},
   "outputs": [
    {
     "name": "stdout",
     "output_type": "stream",
     "text": [
      "2 [1.82167427e+01 7.19397514e+00 1.02472235e-15]\n",
      "19.585785446432766\n",
      "18.21674266443416\n"
     ]
    }
   ],
   "source": [
    "print(matrix_rank(matrix),svd(matrix, compute_uv=False))\n",
    "print(np.linalg.norm(matrix))\n",
    "print(np.linalg.norm(matrix,ord=2))"
   ]
  },
  {
   "cell_type": "markdown",
   "id": "3d94287d-0bd2-4f48-a99b-48235a1c8ce3",
   "metadata": {},
   "source": [
    "Add noise"
   ]
  },
  {
   "cell_type": "code",
   "execution_count": 168,
   "id": "be86121c-591d-42f2-bc49-414dd1ff8b77",
   "metadata": {},
   "outputs": [
    {
     "name": "stdout",
     "output_type": "stream",
     "text": [
      "Added Gaussian noise with variance 0.006528595148810923\n"
     ]
    }
   ],
   "source": [
    "#np.random.seed(12)\n",
    "target_noise=1e-3\n",
    "var = target_noise * np.sqrt(np.mean(np.square(matrix)))\n",
    "noise = np.random.normal(0, var, size=matrix.shape)\n",
    "matrix_noise = matrix + noise\n",
    "print(f\"Added Gaussian noise with variance {var}\")"
   ]
  },
  {
   "cell_type": "code",
   "execution_count": 169,
   "id": "47205cab-b830-4bd7-b66b-7be0f2915b46",
   "metadata": {},
   "outputs": [
    {
     "name": "stdout",
     "output_type": "stream",
     "text": [
      "Noise Matrix\n",
      "Matrix rank: 3, SVD: [0.01939426 0.00693597 0.00419482]\n",
      "Frobenius norm:\t 0.02102002855355578\n",
      "Spectral norm:\t 0.019394261301622036\n"
     ]
    }
   ],
   "source": [
    "print(\"Noise Matrix\")\n",
    "#print(noise)\n",
    "print(f\"Matrix rank: {matrix_rank(noise)}, SVD: {svd(noise, compute_uv=False)}\")\n",
    "print(f\"Frobenius norm:\\t {np.linalg.norm(noise)}\")\n",
    "print(f\"Spectral norm:\\t {np.linalg.norm(noise,ord=2)}\")"
   ]
  },
  {
   "cell_type": "markdown",
   "id": "094604a5-eaa2-46c9-bdfc-28970b0bc03f",
   "metadata": {},
   "source": [
    "Print SVD and matrix rank with additional noise"
   ]
  },
  {
   "cell_type": "code",
   "execution_count": 171,
   "id": "56de0019-079f-4504-8d73-86d46f1a818c",
   "metadata": {},
   "outputs": [
    {
     "name": "stdout",
     "output_type": "stream",
     "text": [
      "Noise level \t \t matrix rank \t svd \t \t \t \t \t \t \t Frobenius \t \t \t Spectral\n",
      " 0      \t \t 2 \t \t [1.82167427e+01 7.19397514e+00 1.02472235e-15]     \t 0.0      \t 0.0\n",
      " 1e-10      \t \t 3 \t \t [1.82167427e+01 7.19397513e+00 4.03147296e-10]     \t 1.7488295677824028e-09      \t 1.5414851495545185e-09\n",
      " 1e-09      \t \t 3 \t \t [1.82167427e+01 7.19397513e+00 1.64794909e-08]     \t 2.4530256296252335e-08      \t 2.156580542829979e-08\n",
      " 1e-08      \t \t 3 \t \t [1.82167425e+01 7.19397512e+00 6.72304086e-08]     \t 2.873412847280544e-07      \t 2.769787401068656e-07\n",
      " 1e-07      \t \t 3 \t \t [1.82167425e+01 7.19397516e+00 5.31594832e-08]     \t 1.4517904709995478e-06      \t 1.148501214455034e-06\n",
      " 1e-06      \t \t 3 \t \t [1.82167393e+01 7.19397438e+00 1.23063560e-06]     \t 1.6187937101639972e-05      \t 1.3223100848050117e-05\n",
      " 1e-05      \t \t 3 \t \t [1.82166119e+01 7.19395850e+00 8.00689528e-05]     \t 0.00028200995826593877      \t 0.00027570851975976403\n",
      " 0.0001      \t \t 3 \t \t [1.82159972e+01 7.19534427e+00 5.00826228e-04]     \t 0.002068678500343341      \t 0.0018254152549413132\n",
      " 0.001      \t \t 3 \t \t [1.82086328e+01 7.19243360e+00 3.95273703e-03]     \t 0.013921742573175574      \t 0.013491607569173045\n",
      " 0.01      \t \t 3 \t \t [18.29831734  7.19382759  0.04932185]     \t 0.18941188250925833      \t 0.15319634740758192\n",
      " 0.1      \t \t 3 \t \t [18.97894946  7.22693721  0.19529324]     \t 1.332772310948531      \t 1.1042816404100462\n"
     ]
    }
   ],
   "source": [
    "noise_levels = [0]+[10**(-10+i) for i in range(0,10)]\n",
    "print(\"Noise level \\t \\t matrix rank \\t svd \\t \\t \\t \\t \\t \\t \\t Frobenius \\t \\t \\t Spectral\")\n",
    "for target_noise in noise_levels:\n",
    "    var = target_noise * np.sqrt(np.mean(np.square(matrix)))\n",
    "    noise = np.random.normal(0, var, size=matrix.shape)\n",
    "    matrix_noise = matrix + noise\n",
    "    print(f\" {target_noise}      \\t \\t {matrix_rank(matrix_noise)} \\t \\t {svd(matrix_noise, compute_uv=False)}     \\t {np.linalg.norm(noise)}      \\t {np.linalg.norm(noise,ord=2)}\")"
   ]
  },
  {
   "cell_type": "markdown",
   "id": "76b8306e-dcf0-4fd1-a1e7-76b4eb27fbc8",
   "metadata": {},
   "source": [
    "## Finite Difference Noise"
   ]
  },
  {
   "cell_type": "code",
   "execution_count": null,
   "id": "8f29394b-3330-4227-a663-06539bd05ceb",
   "metadata": {},
   "outputs": [],
   "source": []
  },
  {
   "cell_type": "code",
   "execution_count": null,
   "id": "44e22d32-2cbd-4400-b683-5936cddb67b2",
   "metadata": {},
   "outputs": [],
   "source": []
  },
  {
   "cell_type": "code",
   "execution_count": 27,
   "id": "dfb8488a-9d57-4623-a276-1c55b602a5cd",
   "metadata": {},
   "outputs": [
    {
     "name": "stdout",
     "output_type": "stream",
     "text": [
      "(10000, 2)\n",
      "Matrix rank = 1, svd = [2.28823062e+04 3.02436615e-08]\n"
     ]
    }
   ],
   "source": [
    "\n",
    "experiment_name = \"linear_nonunique_1\"\n",
    "u,x,t,formula = experiment_data(n_samples=100,experiment_name=experiment_name)\n",
    "dx=x[1]-x[0]\n",
    "u_noise = u\n",
    "ux_noise = ps.FiniteDifference(order=10,d=1, axis=0, drop_endpoints=False)._differentiate(u_noise, dx)\n",
    "u_flat_noise, u_x_flat_noise = u_noise.flatten(), ux_noise.flatten()\n",
    "g_noise = np.concatenate([u_flat_noise.reshape(len(u_flat_noise),1), u_x_flat_noise.reshape(len(u_flat_noise),1)], axis=1)\n",
    "print(g_noise.shape)\n",
    "print(f\"Matrix rank = {matrix_rank(g_noise)}, svd = {svd(g_noise, compute_uv=False)}\")"
   ]
  },
  {
   "cell_type": "code",
   "execution_count": 28,
   "id": "f86dae6e-664f-4b2a-b4ec-5900d1346e7d",
   "metadata": {},
   "outputs": [
    {
     "data": {
      "text/plain": [
       "(4, 3)"
      ]
     },
     "execution_count": 28,
     "metadata": {},
     "output_type": "execute_result"
    }
   ],
   "source": [
    "matrix.shape"
   ]
  },
  {
   "cell_type": "code",
   "execution_count": 110,
   "id": "d85df897-1c37-4311-84dc-c3557724cb77",
   "metadata": {},
   "outputs": [
    {
     "name": "stdout",
     "output_type": "stream",
     "text": [
      "[[ 9.52816513 -0.86153446 -2.546406  ]\n",
      " [-5.74752964  2.88366887  8.52315494]\n",
      " [-7.11123871  1.40931187  4.16545171]]\n"
     ]
    }
   ],
   "source": [
    "print(matrix)"
   ]
  },
  {
   "cell_type": "code",
   "execution_count": 111,
   "id": "44c5cc81-62cb-4343-9767-9438b6134b89",
   "metadata": {},
   "outputs": [
    {
     "name": "stdout",
     "output_type": "stream",
     "text": [
      "[[ 9.73985977 -1.92402838 -1.97164702]\n",
      " [-5.57282292  2.91257473  9.36994399]\n",
      " [-7.04261599  1.62266081  5.10828879]]\n"
     ]
    }
   ],
   "source": [
    "print(matrix_noise)"
   ]
  },
  {
   "cell_type": "code",
   "execution_count": 112,
   "id": "55228c0d-84ec-4f21-9692-67e6bf3541a4",
   "metadata": {},
   "outputs": [
    {
     "data": {
      "text/plain": [
       "array([[ 0.21169464, -1.06249392,  0.57475898],\n",
       "       [ 0.17470672,  0.02890585,  0.84678905],\n",
       "       [ 0.06862271,  0.21334894,  0.94283708]])"
      ]
     },
     "execution_count": 112,
     "metadata": {},
     "output_type": "execute_result"
    }
   ],
   "source": [
    "noise"
   ]
  },
  {
   "cell_type": "code",
   "execution_count": null,
   "id": "053c649f-10ac-461a-bbcb-b067d14796a9",
   "metadata": {},
   "outputs": [],
   "source": []
  }
 ],
 "metadata": {
  "kernelspec": {
   "display_name": "Python 3 (ipykernel)",
   "language": "python",
   "name": "python3"
  },
  "language_info": {
   "codemirror_mode": {
    "name": "ipython",
    "version": 3
   },
   "file_extension": ".py",
   "mimetype": "text/x-python",
   "name": "python",
   "nbconvert_exporter": "python",
   "pygments_lexer": "ipython3",
   "version": "3.8.17"
  }
 },
 "nbformat": 4,
 "nbformat_minor": 5
}
