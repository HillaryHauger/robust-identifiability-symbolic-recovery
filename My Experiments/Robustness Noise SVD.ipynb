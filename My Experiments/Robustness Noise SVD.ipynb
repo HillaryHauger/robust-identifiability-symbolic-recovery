{
 "cells": [
  {
   "cell_type": "markdown",
   "id": "087b45a4-1419-405a-8c3a-ceada3aeb5eb",
   "metadata": {},
   "source": [
    "# Robustness Noise \n",
    "In order to understand the results better from the testing so far, in particular the plots, we want to analyse how noise influences our computations.\n",
    "This serves the overall goal of improving our method with noisy data.\n",
    "Following questions arise:\n",
    "\n",
    "How can we bound the finite difference method?\n",
    "\n",
    "How stable is the SVD to noise?\n",
    "\n",
    "We only consider noise which is normally distributed? Does this influence our result?\n",
    "\n",
    "What is the relation between the highest and the lowest singular value? Do they grow/shrink in a similar way when confronted with noise?"
   ]
  },
  {
   "cell_type": "markdown",
   "id": "74baf2a1-eb93-46e3-b50e-b936828e23c2",
   "metadata": {},
   "source": [
    "## SVD Robustness Noise\n",
    "There is a theorem and a corollary:\n",
    "\n",
    "Theorem 2.18 (Mirsky). If $A,E \\in K^{IxI}$ are two arbitrary matrices, then $\\sqrt{\\sum_{k=1}^{r}|\\sigma_k(A+E) - \\sigma_k(A)|} \\leq \\lVert E \\rVert_F$\n",
    "\n",
    "Corollary:\n",
    "If $A,E \\in K^{IxI}$ are two arbitrary matrices, then $\\forall k \\ |\\sigma_k(A+E) - \\sigma_k(A)| \\leq \\lVert E \\rVert$"
   ]
  },
  {
   "cell_type": "markdown",
   "id": "bbde1ca4-8db6-460a-9262-69c0c0b08ff2",
   "metadata": {
    "jp-MarkdownHeadingCollapsed": true
   },
   "source": [
    "#### 1. What is the spectral and Frobenius norm of random noise matrices?"
   ]
  },
  {
   "cell_type": "code",
   "execution_count": 1,
   "id": "de720195-11b5-43f7-b900-8b65deece61e",
   "metadata": {},
   "outputs": [],
   "source": [
    "import numpy as np\n",
    "from numpy.linalg import matrix_rank, svd\n",
    "from test_data import experiment_data,add_noise\n",
    "import pysindy as ps\n",
    "import matplotlib.pyplot as plt"
   ]
  },
  {
   "cell_type": "code",
   "execution_count": 2,
   "id": "1a7d83ee-b748-4229-abbf-f184eb3d30df",
   "metadata": {},
   "outputs": [
    {
     "name": "stdout",
     "output_type": "stream",
     "text": [
      "[[ 6.66562441 -0.76762407 -1.00446053]\n",
      " [ 8.34727277 -6.05521043 -7.92343562]\n",
      " [ 7.92623669  1.83994298  2.40762396]\n",
      " [-9.5471367   3.23763898  4.23655368]\n",
      " [ 8.03703868 -6.28227756 -8.22056019]\n",
      " [-7.34977118 -0.97541584 -1.27636268]\n",
      " [ 3.94674179  6.8205043   8.92484703]\n",
      " [-6.53621316 -2.74778225 -3.59556056]\n",
      " [-0.05338975 -5.22337025 -6.83494627]\n",
      " [ 3.07790248  0.36209434  0.47381197]]\n"
     ]
    }
   ],
   "source": [
    "rows,cols = 10,3 #let rows be more than columns\n",
    "min_value,max_value = -10,10\n",
    "matrix = np.random.uniform(min_value, max_value, size=(rows, cols))\n",
    "# Set col 2 equal to col 1\n",
    "alpha = np.random.rand()\n",
    "matrix[:, 1] = alpha*matrix[:,2]\n",
    "print(matrix)"
   ]
  },
  {
   "cell_type": "code",
   "execution_count": 3,
   "id": "3f5c47c7-52ba-46d0-9e78-ab99b8055f9d",
   "metadata": {},
   "outputs": [
    {
     "name": "stdout",
     "output_type": "stream",
     "text": [
      "2 [2.39961825e+01 1.86531719e+01 2.11036688e-15]\n",
      "30.393380788364958\n",
      "23.996182477906387\n"
     ]
    }
   ],
   "source": [
    "print(matrix_rank(matrix),svd(matrix, compute_uv=False))\n",
    "print(np.linalg.norm(matrix))\n",
    "print(np.linalg.norm(matrix,ord=2))"
   ]
  },
  {
   "cell_type": "markdown",
   "id": "3d94287d-0bd2-4f48-a99b-48235a1c8ce3",
   "metadata": {},
   "source": [
    "Add noise"
   ]
  },
  {
   "cell_type": "code",
   "execution_count": 4,
   "id": "be86121c-591d-42f2-bc49-414dd1ff8b77",
   "metadata": {},
   "outputs": [
    {
     "name": "stdout",
     "output_type": "stream",
     "text": [
      "Added Gaussian noise with variance 0.005549046752210546\n"
     ]
    }
   ],
   "source": [
    "#np.random.seed(12)\n",
    "target_noise=1e-3\n",
    "var = target_noise * np.sqrt(np.mean(np.square(matrix)))\n",
    "noise = np.random.normal(0, var, size=matrix.shape)\n",
    "matrix_noise = matrix + noise\n",
    "print(f\"Added Gaussian noise with variance {var}\")"
   ]
  },
  {
   "cell_type": "code",
   "execution_count": 5,
   "id": "47205cab-b830-4bd7-b66b-7be0f2915b46",
   "metadata": {},
   "outputs": [
    {
     "name": "stdout",
     "output_type": "stream",
     "text": [
      "Noise Matrix\n",
      "Matrix rank: 3, SVD: [0.02323391 0.01318877 0.00861189]\n",
      "Frobenius norm:\t 0.028069965626892308\n",
      "Spectral norm:\t 0.023233908649571117\n"
     ]
    }
   ],
   "source": [
    "print(\"Noise Matrix\")\n",
    "#print(noise)\n",
    "print(f\"Matrix rank: {matrix_rank(noise)}, SVD: {svd(noise, compute_uv=False)}\")\n",
    "print(f\"Frobenius norm:\\t {np.linalg.norm(noise)}\")\n",
    "print(f\"Spectral norm:\\t {np.linalg.norm(noise,ord=2)}\")"
   ]
  },
  {
   "cell_type": "markdown",
   "id": "094604a5-eaa2-46c9-bdfc-28970b0bc03f",
   "metadata": {},
   "source": [
    "Print SVD and matrix rank with additional noise"
   ]
  },
  {
   "cell_type": "code",
   "execution_count": 6,
   "id": "56de0019-079f-4504-8d73-86d46f1a818c",
   "metadata": {},
   "outputs": [
    {
     "name": "stdout",
     "output_type": "stream",
     "text": [
      "Noise level \t \t matrix rank \t svd \t \t \t \t \t \t \t Frobenius \t \t \t Spectral\n",
      " 0      \t \t 2 \t \t [2.39961825e+01 1.86531719e+01 2.11036688e-15]     \t 0.0      \t 0.0\n",
      " 1e-10      \t \t 3 \t \t [2.39961825e+01 1.86531719e+01 1.81789407e-09]     \t 3.1287472580974682e-09      \t 2.0729768842151004e-09\n",
      " 1e-09      \t \t 3 \t \t [2.39961825e+01 1.86531719e+01 1.82109851e-08]     \t 2.7130037759048294e-08      \t 1.9565171347580528e-08\n",
      " 1e-08      \t \t 3 \t \t [2.39961825e+01 1.86531719e+01 9.57945783e-08]     \t 2.8046150381403314e-07      \t 2.072792857946648e-07\n",
      " 1e-07      \t \t 3 \t \t [2.39961822e+01 1.86531719e+01 1.60265258e-06]     \t 2.620569876147372e-06      \t 1.943756058501899e-06\n",
      " 1e-06      \t \t 3 \t \t [2.39961910e+01 1.86531737e+01 1.32646444e-05]     \t 2.973444612169634e-05      \t 2.1971930105793356e-05\n",
      " 1e-05      \t \t 3 \t \t [2.39961844e+01 1.86532097e+01 1.51620628e-04]     \t 0.00027272567005420144      \t 0.00017252510215640522\n",
      " 0.0001      \t \t 3 \t \t [2.39960209e+01 1.86529741e+01 2.01561199e-03]     \t 0.003312448189748579      \t 0.0024447276711789625\n",
      " 0.001      \t \t 3 \t \t [2.39906334e+01 1.86531294e+01 1.17790720e-02]     \t 0.02526567595591971      \t 0.01803237962797041\n",
      " 0.01      \t \t 3 \t \t [23.96926481 18.61997055  0.16238718]     \t 0.3024533112168128      \t 0.2358925641734131\n",
      " 0.1      \t \t 3 \t \t [24.23962137 18.95481939  1.7271334 ]     \t 3.2670444324301666      \t 2.2894025382441456\n"
     ]
    }
   ],
   "source": [
    "noise_levels = [0]+[10**(-10+i) for i in range(0,10)]\n",
    "print(\"Noise level \\t \\t matrix rank \\t svd \\t \\t \\t \\t \\t \\t \\t Frobenius \\t \\t \\t Spectral\")\n",
    "for target_noise in noise_levels:\n",
    "    var = target_noise * np.sqrt(np.mean(np.square(matrix)))\n",
    "    noise = np.random.normal(0, var, size=matrix.shape)\n",
    "    matrix_noise = matrix + noise\n",
    "    print(f\" {target_noise}      \\t \\t {matrix_rank(matrix_noise)} \\t \\t {svd(matrix_noise, compute_uv=False)}     \\t {np.linalg.norm(noise)}      \\t {np.linalg.norm(noise,ord=2)}\")"
   ]
  },
  {
   "cell_type": "markdown",
   "id": "4eb56aa0-ac13-49b5-8f78-46d7a49ce7a5",
   "metadata": {},
   "source": [
    "Although the Frobenius Norm might not be that high in relation to the highest singular value. In relation to the smallest singular value it can be quite significant. Thus, the changes in the smallest singular value can be more disturbing for our purpose."
   ]
  },
  {
   "cell_type": "markdown",
   "id": "ba5ba61f-5f97-4b7d-98ef-871647ffc86e",
   "metadata": {},
   "source": [
    "#### 2. What is the ratio between the smallest and biggest singular value?"
   ]
  },
  {
   "cell_type": "markdown",
   "id": "7c378a35-2cc4-42e5-9d96-da93f2214bba",
   "metadata": {},
   "source": [
    "The idea is if $A \\in \\mathbb{R}^{nxm}$ for $m<n$ has full rank $\\frac{\\sigma_1}{\\sigma_m} < \\infty$, but if it does not have full rank $\\frac{\\sigma_1}{\\sigma_m} = \\infty$"
   ]
  },
  {
   "cell_type": "code",
   "execution_count": 7,
   "id": "adf78f39-582d-4471-8216-e1d0eb3ac7d5",
   "metadata": {},
   "outputs": [],
   "source": [
    "#This can be negative and thus is not a correct bound on sv_max/sv_min\n",
    "def calc_bound_ratio(sv_max,sv_min,noisematrix):\n",
    "    #E=np.linalg.norm(noisematrix) #Spectral: order=2, Frobenius: default\n",
    "    #B=1/sv_min+sv_max/sv_min**2\n",
    "    E=np.linalg.norm(noisematrix,ord=2) #Spectral: order=2, Frobenius: default\n",
    "    B=max(1/sv_min,sv_max/sv_min**2)\n",
    "    return E*B"
   ]
  },
  {
   "cell_type": "code",
   "execution_count": 8,
   "id": "657f4cbb-bf9e-4d4b-bf55-ecb92535bdff",
   "metadata": {},
   "outputs": [
    {
     "name": "stdout",
     "output_type": "stream",
     "text": [
      "0.17942386120429055\n",
      "[[ 2.89858542e-04  1.57136307e-04  8.75782665e-04]\n",
      " [-5.28721303e-05  8.41100812e-06  4.68778682e-05]\n",
      " [ 9.10819416e-04 -2.47456658e-05 -1.37917363e-04]\n",
      " [ 9.53839408e-04  1.58538508e-05  8.83597684e-05]\n",
      " [ 9.42488968e-04 -1.26291842e-04 -7.03874284e-04]\n",
      " [ 8.81264927e-04  9.28196316e-05  5.17320444e-04]\n",
      " [ 4.65858680e-04  1.34582469e-04  7.50081220e-04]\n",
      " [-4.16504613e-04 -1.03292747e-04 -5.75691252e-04]\n",
      " [-6.60273042e-05 -1.47693442e-04 -8.23153851e-04]\n",
      " [ 8.38914954e-04  8.29977344e-05  4.62579134e-04]]\n"
     ]
    }
   ],
   "source": [
    "rows,cols = 10,3 #let rows be more than columns\n",
    "min_value,max_value = -1/1000,1/1000\n",
    "matrix = np.random.uniform(min_value, max_value, size=(rows, cols))\n",
    "# Set col 2 equal to col 1\n",
    "alpha = np.random.rand()\n",
    "print(alpha)\n",
    "matrix[:, 1] = alpha*matrix[:,2]\n",
    "#matrix[:, 2] *=1/10000\n",
    "#matrix[:, 1] *=1/10000\n",
    "print(matrix)"
   ]
  },
  {
   "cell_type": "code",
   "execution_count": 9,
   "id": "e3e8010e-1bcf-4b5f-af01-7fe4fd0cb040",
   "metadata": {},
   "outputs": [
    {
     "name": "stdout",
     "output_type": "stream",
     "text": [
      "matrix shape: (10, 3), rank: 2\n",
      "Singular values : [2.28380860e-03 1.68117370e-03 7.81183361e-20]\n",
      "Ratio big/smalles singular value: 2.923524386091933e+16\n",
      "Bound: 0.0\n"
     ]
    }
   ],
   "source": [
    "sv = svd(matrix, compute_uv=False)\n",
    "sv_max = sv[0]\n",
    "sv_min = sv[-1]\n",
    "print(f\"matrix shape: {matrix.shape}, rank: {matrix_rank(matrix)}\" )\n",
    "print(f\"Singular values : {sv}\" )\n",
    "print(f\"Ratio big/smalles singular value: {sv[0]/sv[-1]}\")\n",
    "print(f\"Bound: {calc_bound_ratio(sv_max,sv_min,np.zeros(shape=matrix.shape))}\")"
   ]
  },
  {
   "cell_type": "code",
   "execution_count": 11,
   "id": "70a247d5-8007-4d19-9daa-ce16bbe3c36c",
   "metadata": {},
   "outputs": [
    {
     "name": "stdout",
     "output_type": "stream",
     "text": [
      "Noise level \t matrix rank \t sv \t \t \t \t \t  ratio \t \t bound\n",
      " 0\t \t 2 \t \t [2.28380860e-03 1.68117370e-03 7.81183361e-20] \t  2.923524386091933e+16  \t 0.0\n",
      " 1e-10\t \t 3 \t \t [2.28380860e-03 1.68117370e-03 1.45214918e-13] \t  15727093597.293333  \t 8.412736215642676e+22\n",
      " 1e-09\t \t 3 \t \t [2.28380860e-03 1.68117370e-03 1.03876909e-12] \t  2198571960.4897475  \t 6.277132902507586e+23\n",
      " 1e-08\t \t 3 \t \t [2.28380860e-03 1.68117371e-03 1.77671631e-11] \t  128540982.15321995  \t 8.416352523226794e+24\n",
      " 1e-07\t \t 3 \t \t [2.28380863e-03 1.68117370e-03 1.11087285e-10] \t  20558686.254647616  \t 4.953413914875971e+25\n",
      " 1e-06\t \t 3 \t \t [2.28380825e-03 1.68117433e-03 1.40386291e-09] \t  1626802.9026847377  \t 8.181370822911596e+26\n",
      " 1e-05\t \t 3 \t \t [2.28380928e-03 1.68116712e-03 1.27687334e-08] \t  178859.50020037135  \t 5.46556662778185e+27\n",
      " 0.0001\t \t 3 \t \t [2.28375577e-03 1.68107048e-03 1.28072503e-07] \t  17831.741512301676  \t 7.7868166436336415e+28\n",
      " 0.001\t \t 3 \t \t [2.28452049e-03 1.68174556e-03 1.25606774e-06] \t  1818.787647430704  \t 8.05187849488446e+29\n",
      " 0.01\t \t 3 \t \t [2.28328485e-03 1.68079860e-03 1.34446537e-05] \t  169.8284611038117  \t 7.956673025312781e+30\n",
      " 0.1\t \t 3 \t \t [0.00239424 0.00169192 0.00017515] \t  13.669988269455978  \t 1.1507010287054037e+32\n"
     ]
    }
   ],
   "source": [
    "noise_levels = [0]+[10**(-10+i) for i in range(0,10)]\n",
    "print(\"Noise level \\t matrix rank \\t sv \\t \\t \\t \\t \\t  ratio \\t \\t bound\")\n",
    "for target_noise in noise_levels:\n",
    "    var = target_noise * np.sqrt(np.mean(np.square(matrix)))\n",
    "    noise = np.random.normal(0, var, size=matrix.shape)\n",
    "    matrix_noise = matrix+noise\n",
    "    sv = svd(matrix_noise, compute_uv=False)\n",
    "    print(f\" {target_noise}\\t \\t {matrix_rank(matrix_noise)} \\t \\t {sv} \\t  {sv[0]/sv[-1]}  \\t {calc_bound_ratio(sv_max,sv_min,noise)}\")"
   ]
  },
  {
   "cell_type": "markdown",
   "id": "f7aa8ed5-670f-4f61-975a-d0b6a586f169",
   "metadata": {},
   "source": [
    "Since for matrix with not full rank the bound is very high, I want to test the deviation for the same noise level"
   ]
  },
  {
   "cell_type": "code",
   "execution_count": 20,
   "id": "4616fd2e-c799-476c-adcc-bae7774139e6",
   "metadata": {},
   "outputs": [
    {
     "name": "stdout",
     "output_type": "stream",
     "text": [
      "Noise level:  1e-20, Number trials: 10\n",
      "Trial \t matrix rank \t sv \t \t \t \t \t \t \t  ratio \t \t bound \t \t \t difference\n",
      " 0\t \t 2 \t [2.28380860e-03 1.68117370e-03 7.81183361e-20]   \t  2.923524386091933e+16   \t 7461141177660.98 \t \t   7461141177660.98\n",
      " 1\t \t 2 \t [2.28380860e-03 1.68117370e-03 7.81183361e-20]   \t  2.923524386091933e+16   \t 10461507617493.658 \t \t   10461507617493.658\n",
      " 2\t \t 2 \t [2.28380860e-03 1.68117370e-03 7.81183361e-20]   \t  2.923524386091933e+16   \t 7149389622935.361 \t \t   7149389622935.361\n",
      " 3\t \t 2 \t [2.28380860e-03 1.68117370e-03 7.81183361e-20]   \t  2.923524386091933e+16   \t 7051346197861.786 \t \t   7051346197861.786\n",
      " 4\t \t 2 \t [2.28380860e-03 1.68117370e-03 7.81183361e-20]   \t  2.923524386091933e+16   \t 8460836717359.868 \t \t   8460836717359.868\n",
      " 5\t \t 2 \t [2.28380860e-03 1.68117370e-03 7.81183361e-20]   \t  2.923524386091933e+16   \t 7842799190085.322 \t \t   7842799190085.322\n",
      " 6\t \t 2 \t [2.28380860e-03 1.68117370e-03 7.81183361e-20]   \t  2.923524386091933e+16   \t 6085147433042.157 \t \t   6085147433042.157\n",
      " 7\t \t 2 \t [2.28380860e-03 1.68117370e-03 7.81183361e-20]   \t  2.923524386091933e+16   \t 7933380651723.812 \t \t   7933380651723.812\n",
      " 8\t \t 2 \t [2.28380860e-03 1.68117370e-03 7.81183361e-20]   \t  2.923524386091933e+16   \t 8340389953851.979 \t \t   8340389953851.979\n",
      " 9\t \t 2 \t [2.28380860e-03 1.68117370e-03 7.81183361e-20]   \t  2.923524386091933e+16   \t 8622342955258.101 \t \t   8622342955258.101\n"
     ]
    }
   ],
   "source": [
    "trials=10\n",
    "noise_level=1e-20\n",
    "print(f\"Noise level:  {noise_level}, Number trials: {trials}\")\n",
    "print(\"Trial \\t matrix rank \\t sv \\t \\t \\t \\t \\t \\t \\t  ratio \\t \\t bound \\t \\t \\t difference\")\n",
    "for trial in range(trials):\n",
    "    var = noise_level * np.sqrt(np.mean(np.square(matrix)))\n",
    "    noise = np.random.normal(0, var, size=matrix.shape)\n",
    "    matrix_noise = matrix+noise\n",
    "    sv = svd(matrix_noise, compute_uv=False)\n",
    "    ratio=sv[0]/sv[-1]\n",
    "    bound = calc_bound_ratio(sv_max,sv_min,noise)\n",
    "    print(f\" {trial}\\t \\t {matrix_rank(matrix_noise)} \\t {sv}   \\t  {ratio}   \\t {bound} \\t \\t   {bound-np.abs(ratio-sv_max/sv_min)}\")"
   ]
  },
  {
   "cell_type": "markdown",
   "id": "76b8306e-dcf0-4fd1-a1e7-76b4eb27fbc8",
   "metadata": {},
   "source": [
    "## Finite Difference Noise"
   ]
  },
  {
   "cell_type": "markdown",
   "id": "6e8921db-d084-4e19-b0fc-432e565e34bc",
   "metadata": {},
   "source": [
    "We can find the coefficients use to calculate the finite differences for different orders in https://en.wikipedia.org/wiki/Finite_difference_coefficient. Calculator https://web.media.mit.edu/~crtaylor/calculator.html<br>\n",
    "Assuming we have equispaced data for x,and we can bound the measurement error by $\\epsilon > 0$ i.e. $||u-\\tilde{u}||_{\\infty}< \\epsilon$ and the third derivative of u\n",
    "is bounded by $M(t, x) > 0$ on each interval $[x − h, x + h]$. Then, we get tha\n",
    "$$|u_x(t, x) − \\tilde{u}_x(t, x)| ≤ \\frac{\\epsilon}{h} + \\frac{h^2}{6}M(t,x)$$\n",
    "is the 2nd order centered finite differences approximation of the derivative of $\\tilde{u}$."
   ]
  },
  {
   "cell_type": "markdown",
   "id": "e1f434fb-6008-4812-8977-e6eb74b93e01",
   "metadata": {},
   "source": [
    "TODO: error bound for different orders, centered and left-off-centered/backward differences (even/odd order)?<br>\n",
    "Question: do the same error bounds count at the boundary values of u?? For centered Differences no-> can lead to wron errorbound especially since exp has high values at boundary point"
   ]
  },
  {
   "cell_type": "markdown",
   "id": "67380a38-d736-46ce-955e-ef745c171462",
   "metadata": {},
   "source": [
    "For even order: centered differenced, for uneven order backward differences:<br>\n",
    "order = 1: <br>\n",
    "Approximation: $\\frac{u(x)-u(x-h)}{h}$,    Bound: $||u-\\tilde{u}||_{\\infty}<\\frac{h}{2}||u'||_{\\infty}+\\frac{2\\epsilon}{h}$ \n",
    "<br>\n",
    "order = 2: <br>\n",
    "Approximation: $\\frac{u(x+\\frac{h}{2})-u(x-\\frac{h}{2})}{h}$,    Bound: $||u-\\tilde{u}||_{\\infty}<\\frac{h^2}{3}||u^3||_{\\infty}+\\frac{2\\epsilon}{h}$ <br>\n",
    "(Here we use h/2 since for h the calculation did not work out -> makes more sense???)\n",
    "order = 4: <br>\n",
    "Approximation: see book or wiki,    Bound: $||u-\\tilde{u}||_{\\infty}<\\frac{h^4}{30}||u^5||_{\\infty}+\\frac{9 \\epsilon}{6h}$ <br>"
   ]
  },
  {
   "cell_type": "code",
   "execution_count": null,
   "id": "dfb8488a-9d57-4623-a276-1c55b602a5cd",
   "metadata": {},
   "outputs": [],
   "source": [
    "from test_data import create_data_2d\n",
    "experiment_name = \"linear_nonunique_1\"\n",
    "n_samples=200\n",
    "T,X,t,x = create_data_2d(T_start=0, T_end=5, L_x_start=0,L_x_end=5, N_t=n_samples, N_x=n_samples)\n",
    "a=np.random.randn()\n",
    "#u = np.exp(X-a*T)\n",
    "#ux = u\n",
    "#uxx = u\n",
    "#uxxx = u\n",
    "#ut = -a*u\n",
    "\n",
    "u = np.cos(X-a*T)\n",
    "ux = -np.sin(X-a*T)\n",
    "uxx = -np.cos(X-a*T)\n",
    "uxxx = np.sin(X-a*T)\n",
    "ut = a*np.sin(X-a*T)\n",
    "dx=x[1]-x[0]"
   ]
  },
  {
   "cell_type": "code",
   "execution_count": null,
   "id": "f86dae6e-664f-4b2a-b4ec-5900d1346e7d",
   "metadata": {},
   "outputs": [],
   "source": [
    "ux_fd = ps.FiniteDifference(order=3,d=1, axis=0, drop_endpoints=False)._differentiate(u, dx)\n",
    "u_flat, u_x_flat = u.flatten(), ux_fd.flatten()\n",
    "g= np.concatenate([u_flat.reshape(len(u_flat),1), u_x_flat.reshape(len(u_flat),1)], axis=1)\n",
    "print(g.shape)\n",
    "print(f\"Matrix rank = {matrix_rank(g)}, svd = {svd(g, compute_uv=False)}\")"
   ]
  },
  {
   "cell_type": "markdown",
   "id": "2b0491aa-ec5f-4ab7-b616-81d138398961",
   "metadata": {},
   "source": [
    "### Check difference between noisy derivative and correct derivative"
   ]
  },
  {
   "cell_type": "markdown",
   "id": "909eaf74-1106-42b5-988c-bc61400171f5",
   "metadata": {},
   "source": [
    "General formula for central differences: $$ \\text{sum over ceofficients} \\frac{\\epsilon}{h} + h^{order}\\frac{(order/2)!^2}{(order+1)!}$$\n",
    "\n",
    "For backward differences: $$ \\text{sum over ceofficients}\\frac{\\epsilon}{h} + h^{order} 1/(order+1)$$"
   ]
  },
  {
   "cell_type": "markdown",
   "id": "5cf99fec-dc69-4fc4-ad33-2877c8d81c75",
   "metadata": {},
   "source": [
    "Here compute functions for computing lagrange coefficients and sum(for calculating measurment error)\n",
    "$$L_{n,k}(x) =\\prod_{i=0,i\\neq k}^n \\frac{x-x_i}{x_k-x_i}$$\n",
    "$$  L'_{n,k}(x) = [\\prod_{i=0,i\\neq k}^n \\frac{1}{x_k-x_i}] \\sum_{j=0,j\\neq k}^n \\prod_{i=0,i\\neq k,j}^n (x-x_i)\n",
    "  = h^{-1}[\\prod_{i=0,i\\neq k}^n \\frac{1}{k-i}] \\sum_{j=0,j\\neq k}^n \\prod_{i=0,i\\neq k,j}^n (l-i) $$"
   ]
  },
  {
   "cell_type": "code",
   "execution_count": null,
   "id": "23570e90-ce51-4359-86a3-787bf2a811f7",
   "metadata": {},
   "outputs": [],
   "source": [
    "\"\"\"\n",
    "n: number of data points\n",
    "k: number of lagrange coefficient\n",
    "l: number of data point where L is evaluated at: x = x_l = x+ hl\n",
    "\"\"\"\n",
    "#Computes the coefficients of the derivitve of the kth Lagrangian Coefficients\n",
    "#These are also the coefficients used for finite differences\n",
    "def lagrange_coefficient_derivative(n,k,l):\n",
    "    erg=0.0\n",
    "    \n",
    "    prod = 1.0\n",
    "    for i in range(n+1):\n",
    "        if i!=k:\n",
    "            prod *= 1.0/(k-i)\n",
    "            \n",
    "    for j in range(n+1):\n",
    "        if j!=k:\n",
    "            tmp =1.0\n",
    "            for i in range(n+1):\n",
    "                if i!=k and i!=j:\n",
    "                    tmp *=(l-i)\n",
    "                    #print(f\"l-k = {l}-{i}\")\n",
    "            erg+=tmp\n",
    "    erg*=prod\n",
    "    return erg\n",
    "    \n",
    "#Sums up the above coefficients\n",
    "#needed for measurment error\n",
    "def sum_lagrange_coefficient_derivative(n,l):\n",
    "    erg=0.0\n",
    "    for k in range(n+1):\n",
    "        #print(f\"L({n},{k},{l}) = {lagrange_coefficient_derivative(n,k,l)}\")\n",
    "        erg+= np.abs(lagrange_coefficient_derivative(n,k,l))\n",
    "    return erg"
   ]
  },
  {
   "cell_type": "code",
   "execution_count": null,
   "id": "e047a5b8-1048-446c-9a7c-d7b62f0c1520",
   "metadata": {},
   "outputs": [],
   "source": [
    "# Approximation error central differences: reduces with higher order n\n",
    "def appr_error_central_diff(n):\n",
    "    assert(n%2==0) #Check if n is even\n",
    "    bound = (np.math.factorial(int(n/2))**2)/np.math.factorial(n+1)\n",
    "    return bound\n",
    "    \n",
    "# Approximation error backward differences: reduces with higher order n\n",
    "def appr_error_backward_diff(n):\n",
    "    return 1/(n+1)\n",
    "\n",
    "# Measurement error central differences\n",
    "def meas_error_central_diff(n):\n",
    "    assert(n%2==0) #Check if n is even\n",
    "    erg=sum_lagrange_coefficient_derivative(n,n/2)\n",
    "    return erg\n",
    "    \n",
    "# Measurement error backward differences\n",
    "def meas_error_backward_diff(n):\n",
    "    erg=sum_lagrange_coefficient_derivative(n,0)\n",
    "    return erg"
   ]
  },
  {
   "cell_type": "code",
   "execution_count": null,
   "id": "1099c8fd-20b8-4b0c-a4a3-f5cadd955c95",
   "metadata": {},
   "outputs": [],
   "source": [
    "for i in range(1,20,2):\n",
    "    print(f\"Order: {i}, Error: {meas_error_backward_diff(i)}\")"
   ]
  },
  {
   "cell_type": "code",
   "execution_count": null,
   "id": "b8135279-5ca5-49b5-86be-a69f10440a16",
   "metadata": {},
   "outputs": [],
   "source": [
    "#eps: measurement error+roundof error (Does it make sense to add machine precision?)\n",
    "#h: dx for equispaced data\n",
    "#M: bound on nth derivative depending on the order\n",
    "def error_bound(eps,h,M,order=2):\n",
    "    eps+=np.finfo(float).eps # add machine precisoin\n",
    "    if order%2==0: #even order\n",
    "        C_app=appr_error_central_diff(order)\n",
    "        C_meas=meas_error_central_diff(order)\n",
    "    else: # odd order\n",
    "        C_app=appr_error_backward_diff(order)\n",
    "        C_meas=meas_error_backward_diff(order)\n",
    "        \n",
    "    return C_meas*eps/h + (h**order)*M*C_app\n",
    "            \n",
    "def infinity_norm(x):\n",
    "    return np.max(np.abs(x))"
   ]
  },
  {
   "cell_type": "code",
   "execution_count": null,
   "id": "44c5cc81-62cb-4343-9767-9438b6134b89",
   "metadata": {},
   "outputs": [],
   "source": [
    "target_noise=1e-9\n",
    "var = target_noise * np.sqrt(np.mean(np.square(u)))\n",
    "noise = np.random.normal(0, var, size=u.shape)\n",
    "u_noise = u + noise\n",
    "order=2\n",
    "ux_noise = ps.FiniteDifference(order=order,d=1, axis=0, drop_endpoints=False)._differentiate(u_noise, dx)"
   ]
  },
  {
   "cell_type": "code",
   "execution_count": null,
   "id": "eaa47759-70e6-4336-b7f4-6eaf4d319522",
   "metadata": {},
   "outputs": [],
   "source": [
    "infinity_norm(ux-ux_noise)"
   ]
  },
  {
   "cell_type": "code",
   "execution_count": null,
   "id": "053c649f-10ac-461a-bbcb-b067d14796a9",
   "metadata": {},
   "outputs": [],
   "source": [
    "eps=infinity_norm(u_noise-u)\n",
    "M=infinity_norm(uxxx)\n",
    "h=dx\n",
    "print(f\"eps: {eps}, M: {M}, h: {h}\")"
   ]
  },
  {
   "cell_type": "code",
   "execution_count": null,
   "id": "ffecf0b8-6690-4bd0-96b1-f513e347d39c",
   "metadata": {},
   "outputs": [],
   "source": [
    "error_bound(eps,h,M,order=order)"
   ]
  },
  {
   "cell_type": "markdown",
   "id": "4ea1bc40-ad30-4d97-824e-0865bbe220fb",
   "metadata": {},
   "source": [
    "Error bound smaller than difference for oder =^1? -> wrong formula\n",
    "three poiint midpoint ?/ numerical mistakes in error bound calcuation?<br>\n",
    "What about the boundary values for central diff??? -> I think they are the reason the bound fails for some noise levels since we can not use central differnce at the boundary values!"
   ]
  },
  {
   "cell_type": "code",
   "execution_count": null,
   "id": "9704e4f3-dff0-4b9c-aefd-78de47d3eb7b",
   "metadata": {},
   "outputs": [],
   "source": [
    "M=infinity_norm(uxxx)\n",
    "noise_levels = [0]+[10**(-10+i) for i in range(0,10)]\n",
    "print(\"Noise level \\t  eps \\t \\t $max|ux-ux_noise|$ \\t bound\")\n",
    "plt.title(\"Derivative Cutout\")\n",
    "order=2\n",
    "for target_noise in noise_levels:\n",
    "    var = target_noise * np.sqrt(np.mean(np.square(u)))\n",
    "    noise = np.random.normal(0, var, size=u.shape)\n",
    "    u_noise = u + noise\n",
    "    ux_noise = ps.FiniteDifference(order=order,d=1, axis=0, drop_endpoints=False)._differentiate(u_noise, dx)\n",
    "    plt.plot(ux_noise[0,:],label=str(target_noise))\n",
    "    eps = infinity_norm(u_noise-u)\n",
    "    bound = error_bound(eps,dx,M,order)\n",
    "    diff = infinity_norm(ux-ux_noise)\n",
    "    print(f\"{target_noise} \\t \\t  {eps:.4f} \\t {diff:.4f} \\t \\t {bound:.4f}\")\n",
    "plt.legend()\n",
    "plt.show()"
   ]
  },
  {
   "cell_type": "code",
   "execution_count": null,
   "id": "e11979f4-ece2-4185-b041-434f0a05bf89",
   "metadata": {
    "scrolled": true
   },
   "outputs": [],
   "source": [
    "M=infinity_norm(uxxx)\n",
    "number_noise=10 #<=10\n",
    "noise_levels = [0]+[10**(-10+i) for i in range(0,number_noise-1)]\n",
    "orders=range(1,10,1)\n",
    "print(\"Order \\t Noise level \\t  eps \\t \\t|ux-ux_noise| \\t bound\")\n",
    "diff_list = []\n",
    "bound_list = []\n",
    "for order in orders:\n",
    "    print(f\"{order}\")\n",
    "    avg_diff=0\n",
    "    avg_bound=0\n",
    "    for target_noise in noise_levels:\n",
    "        var = target_noise * np.sqrt(np.mean(np.square(u)))\n",
    "        noise = np.random.normal(0, var, size=u.shape)\n",
    "        u_noise = u + noise\n",
    "        ux_noise = ps.FiniteDifference(order=order,d=1, axis=0, drop_endpoints=False)._differentiate(u_noise, dx)\n",
    "        eps = infinity_norm(u_noise-u)\n",
    "        bound = error_bound(eps,dx,M,order)\n",
    "        diff = infinity_norm(ux-ux_noise)\n",
    "        avg_bound+=bound\n",
    "        avg_diff+=diff\n",
    "        print(f\"\\t {target_noise}\\t \\t  {eps:.3f} \\t {diff:.4f} \\t {bound:.4f}\")\n",
    "    avg_bound/=number_noise\n",
    "    avg_diff/=number_noise\n",
    "    bound_list.append(avg_bound)\n",
    "    diff_list.append(avg_diff)"
   ]
  },
  {
   "cell_type": "code",
   "execution_count": null,
   "id": "3429124f-1aab-43d1-acc7-c6ec9a41b0c3",
   "metadata": {
    "scrolled": true
   },
   "outputs": [],
   "source": [
    "plt.title(\"Average bound and  |ux-ux_noise|\")\n",
    "plt.xlabel(\"Order\")\n",
    "plt.plot(orders,bound_list, marker='o',label='bounds')\n",
    "plt.plot(orders,diff_list,marker='x',label='|ux-ux_noise|')\n",
    "plt.legend()"
   ]
  },
  {
   "cell_type": "markdown",
   "id": "930d4197-0c43-4887-8f11-2d6121acf5bf",
   "metadata": {},
   "source": [
    "#### Without boundary values"
   ]
  },
  {
   "cell_type": "code",
   "execution_count": null,
   "id": "f9707b01-2d4f-41f1-8167-f3503e0a49bc",
   "metadata": {
    "scrolled": true
   },
   "outputs": [],
   "source": [
    "M=infinity_norm(uxxx)\n",
    "number_noise=8 #<=10\n",
    "noise_levels = [0]+[10**(-10+i) for i in range(0,number_noise-1)]\n",
    "orders=range(1,10,1)\n",
    "print(\"Order \\t Noise level \\t  eps \\t \\t|ux-ux_noise| \\t bound\")\n",
    "diff_list = []\n",
    "bound_list = []\n",
    "for order in orders:\n",
    "    print(f\"{order}\")\n",
    "    avg_diff=0\n",
    "    avg_bound=0\n",
    "    for target_noise in noise_levels:\n",
    "        var = target_noise * np.sqrt(np.mean(np.square(u)))\n",
    "        noise = np.random.normal(0, var, size=u.shape)\n",
    "        u_noise = u + noise\n",
    "        ux_noise = ps.FiniteDifference(order=order,d=1, axis=0, drop_endpoints=True)._differentiate(u_noise, dx)\n",
    "        row_mask = ~np.isnan(ux_noise).all(axis=1)\n",
    "        col_mask = ~np.isnan(ux_noise).all(axis=0)\n",
    "        eps = infinity_norm(u_noise[row_mask][:, col_mask]-u[row_mask][:, col_mask])\n",
    "        bound = error_bound(eps,dx,M,order)\n",
    "        diff = infinity_norm(ux[row_mask][:, col_mask]-ux_noise[row_mask][:, col_mask])\n",
    "        avg_bound+=bound\n",
    "        avg_diff+=diff\n",
    "        print(f\"\\t {target_noise}\\t \\t  {eps:.3f} \\t {diff:.4f} \\t {bound:.4f}\")\n",
    "    avg_bound/=number_noise\n",
    "    avg_diff/=number_noise\n",
    "    bound_list.append(avg_bound)\n",
    "    diff_list.append(avg_diff)"
   ]
  },
  {
   "cell_type": "code",
   "execution_count": null,
   "id": "8b75c93b-8bb7-49da-bd8c-2578e9ab792f",
   "metadata": {},
   "outputs": [],
   "source": [
    "plt.title(\"Average bound and  |ux-ux_noise|\")\n",
    "plt.xlabel(\"Order\")\n",
    "plt.plot(orders,bound_list, marker='o',label='bounds')\n",
    "plt.plot(orders,diff_list,marker='x',label='|ux-ux_noise|')\n",
    "plt.legend()"
   ]
  },
  {
   "cell_type": "code",
   "execution_count": null,
   "id": "d3c90fe6-d584-475e-9e28-2efa415ff30c",
   "metadata": {},
   "outputs": [],
   "source": []
  }
 ],
 "metadata": {
  "kernelspec": {
   "display_name": "Python 3 (ipykernel)",
   "language": "python",
   "name": "python3"
  },
  "language_info": {
   "codemirror_mode": {
    "name": "ipython",
    "version": 3
   },
   "file_extension": ".py",
   "mimetype": "text/x-python",
   "name": "python",
   "nbconvert_exporter": "python",
   "pygments_lexer": "ipython3",
   "version": "3.8.17"
  }
 },
 "nbformat": 4,
 "nbformat_minor": 5
}
