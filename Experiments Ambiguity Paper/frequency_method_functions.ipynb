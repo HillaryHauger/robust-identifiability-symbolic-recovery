{
 "cells": [
  {
   "cell_type": "markdown",
   "id": "ac309a9f",
   "metadata": {},
   "source": [
    "# Implementation of Frequency Methods\n",
    "Following functions are implemented:\n",
    "- Calulate derivative with FFT\n",
    "- Calculate extension of a function(one and multidimensional)\n",
    "- Calculate derivative with FFT and extension of a function"
   ]
  },
  {
   "cell_type": "code",
   "execution_count": 1,
   "id": "e988e5a2",
   "metadata": {},
   "outputs": [],
   "source": [
    "# Packages\n",
    "import numpy as np\n",
    "import math\n",
    "import matplotlib.pyplot as plt\n",
    "import scipy.linalg\n",
    "import itertools\n",
    "import pysindy as ps\n",
    "\n",
    "from scipy.optimize import minimize\n",
    "from scipy.fft import fftn, ifftn, fftfreq,fft"
   ]
  },
  {
   "cell_type": "markdown",
   "id": "d60578b4",
   "metadata": {},
   "source": [
    "### Functions for calculating derivative and extension"
   ]
  },
  {
   "cell_type": "code",
   "execution_count": 2,
   "id": "bc35d9c5",
   "metadata": {},
   "outputs": [],
   "source": [
    "# Calculates the spectral derivative for n-dimensional input and order\n",
    "# Takes ax and d as liste e.g. ax = [0], d =[0.1]\n",
    "def calc_deriv_fftn(f,ax,d):\n",
    "    if isinstance(ax, list) == False or isinstance(ax, list) == False:\n",
    "        print(\"ax and d are only valid as a list\")\n",
    "        print(\"Exit calc_deriv_fftn\")\n",
    "        return None\n",
    "    order = len(ax)\n",
    "    fftf = fftn(f)\n",
    "    frequencies = []\n",
    "    # Calculate frequencies\n",
    "    for i in range(order):\n",
    "        frequencies.append(fftfreq(f.shape[ax[i]],d[i]))\n",
    "\n",
    "    #Expand frequencies so we can  multiply\n",
    "    for j in range(order):\n",
    "        liste = list(range(f.ndim)) \n",
    "        liste.remove(ax[j])\n",
    "        for i in liste:\n",
    "            frequencies[j] = np.expand_dims(frequencies[j],axis=i)\n",
    "            frequencies[j] = np.repeat(frequencies[j],f.shape[i],axis=i)\n",
    "        fftf *=2*np.pi*1j*frequencies[j]\n",
    "    return ifftn(fftf).real\n",
    "\n",
    "\n",
    "def create_data_2d(T_start, T_end, L_x, N_t, N_x):\n",
    "    t = np.linspace(T_start, T_end, num=N_t)\n",
    "    x = np.linspace(-L_x/2.0, L_x/2.0, num=N_x)\n",
    "    T,X = np.meshgrid(t,x)\n",
    "    return T,X,t,x\n",
    "\n",
    "def create_data_3d(T_start, T_end, L_x,L_y, N_t, N_x,N_y):\n",
    "    t = np.linspace(T_start, T_end, num=N_t)\n",
    "    x = np.linspace(-L_x/2.0, L_x/2.0, num=N_x)\n",
    "    y = np.linspace(-L_y/2.0, L_y/2.0, num=N_y)\n",
    "    T,X,Y = np.meshgrid(t,x,y)\n",
    "    return T,X,Y,t,x,y"
   ]
  },
  {
   "cell_type": "code",
   "execution_count": 3,
   "id": "fbdc91c8",
   "metadata": {},
   "outputs": [],
   "source": [
    "# This function takes f and x, creates more datapoints s.t. f \n",
    "# can be extended to a periodic function with value 0 at end and beginning\n",
    "# return newf, newx, newn, only works for one_dim function\n",
    "def flattenandextendfunc_1d(f,x):\n",
    "    # error handling\n",
    "    if f.size!=x.size:\n",
    "        print(\"Error: f and x do not have same size: f.size=\"\n",
    "              +str(f.size)+\",x.size=\"+str(x.size))\n",
    "        print(\"Exit flattenandextendfu\")\n",
    "        return None\n",
    "    # Get necessary data to extend f\n",
    "    dx = x[1]-x[0]\n",
    "    A=x[0]\n",
    "    B=x[x.size-1]\n",
    "    n=max(int(x.size/10),20) \n",
    "    # Create new data\n",
    "    newx=np.arange(A-n*dx,B +n*dx,dx)\n",
    "    newf=np.empty(newx.size, dtype=float)\n",
    "    oldf=newf.copy()\n",
    "    # Get slope at beg and end\n",
    "    slope_start = (f[1]-f[0])/dx\n",
    "    slope_end = (f[f.size-1]-f[f.size-2])/dx\n",
    "    # Extend oldf\n",
    "    oldf[n:n+f.size]=f\n",
    "    oldf[n+f.size:]=slope_end*dx*np.arange(1, oldf[n+f.size:].size+1)+f[f.size-1]\n",
    "    oldf[:n]=f[0]-slope_start*dx*np.arange(1, oldf[:n].size+1)[::-1] #[::-1] means reverse array\n",
    "    # Create newf: in the middle equal to f, continuous extension such that \n",
    "    # start and endpoint are equal to one\n",
    "    a=30\n",
    "    half = A+(B-A)/2\n",
    "    newf[newx<=half]=1.0/(1.0 + np.exp(-a*(newx[newx<=half]-(A-n/2*dx))))\n",
    "    newf[newx>half]=-1.0/(1.0 + np.exp(-a*(newx[newx>half]-(B+n/2*dx))))+1.0\n",
    "    newf = newf*oldf\n",
    "    return newf,newx,n\n",
    "\n",
    "def getnewsize(x):\n",
    "    dx = x[1]-x[0]\n",
    "    A=x[0]\n",
    "    B=x[x.size-1]\n",
    "    n=max(int(x.size/10),20) \n",
    "    newx=np.arange(A-n*dx,B +n*dx,dx)\n",
    "    return newx.size\n",
    "\n",
    "# Extends multidimensional function\n",
    "def flattenandextendfunc_nd(f,inp):\n",
    "    dim = f.ndim # get dimension\n",
    "    newsize=[getnewsize(myinp) for myinp in inp]\n",
    "    n=[]\n",
    "    newinp=inp.copy()\n",
    "    temp=[]\n",
    "    liste = list(range(dim))\n",
    "    # Iterate through axis: extend function for selected axis\n",
    "    for axis in liste:\n",
    "        liste_drop = liste.copy()\n",
    "        liste_drop.remove(axis)\n",
    "        \n",
    "        # Calculate new shape\n",
    "        shape = list(f.shape)\n",
    "        shape[axis]=newsize[axis]\n",
    "        shape = tuple(shape)\n",
    "        temp = np.zeros(shape) #Create array with new extended shape\n",
    "\n",
    "        start = np.zeros(dim, dtype=int) #for slicing\n",
    "        end = np.zeros(dim, dtype=int)+f.shape[axis] # for slicing\n",
    "        newend = np.zeros(dim, dtype=int)+newsize[axis] #for slicing new array\n",
    "\n",
    "        # Select and save ranges in rangelist for iterating\n",
    "        rangelist =[]\n",
    "        for otheraxis in liste_drop:\n",
    "            rangelist.append(range(f.shape[otheraxis]))  \n",
    "\n",
    "        #Extend function for axis\n",
    "        for J in itertools.product(*rangelist):\n",
    "            i=0\n",
    "            #Calculate slice\n",
    "            for otheraxis in liste_drop:\n",
    "                start[otheraxis] = J[i]\n",
    "                end[otheraxis]=J[i]+1\n",
    "                newend[otheraxis] = end[otheraxis]\n",
    "                i+=1\n",
    "            myslice =tuple(slice(*indexes) for indexes in zip(start, end))\n",
    "            newslice =tuple(slice(*indexes) for indexes in zip(start, newend))\n",
    "\n",
    "            #Extend one dimensional version\n",
    "            col, newinp_axis, n_axis =flattenandextendfunc_1d(f[myslice].ravel(),newinp[axis])\n",
    "            temp[newslice] = col.reshape(temp[newslice].shape)\n",
    "\n",
    "        f = temp #Set f equal to temp    \n",
    "        # Save new Input and new numbers f data\n",
    "        newinp[axis]=newinp_axis\n",
    "        n.append(n_axis)\n",
    "\n",
    "    return f,newinp,n"
   ]
  },
  {
   "cell_type": "markdown",
   "id": "95316042",
   "metadata": {},
   "source": [
    "### Calculate derivative with FFT and extension of a function"
   ]
  },
  {
   "cell_type": "code",
   "execution_count": 4,
   "id": "b93c58fb-92ae-4e0c-a7bd-ca872f2528c6",
   "metadata": {},
   "outputs": [],
   "source": [
    "# inp list of arrays: e.g. inp = [x,t]\n",
    "# u function to be differentiated\n",
    "# axis decides which value should be differentiated\n",
    "def calc_deriv_fftn_with_ext(u,inp,axis,dist):\n",
    "    #Extension\n",
    "    newu,newinp,n = flattenandextendfunc_nd(u,inp)\n",
    "    #Define slice to get right values from extension\n",
    "    start = n\n",
    "    end = [sum(x) for x in zip(n, list(u.shape))] #end = n0+u.shape[0],n1+u.shape[1],...\n",
    "    myslice =tuple(slice(*indexes) for indexes in zip(start, end))\n",
    "    #Derivative \n",
    "    ux = calc_deriv_fftn(newu,axis,dist)\n",
    "    ux = ux[myslice]\n",
    "    return ux,newu,myslice"
   ]
  },
  {
   "cell_type": "code",
   "execution_count": 5,
   "id": "3342da25-7b09-4804-b6ef-1817e0728ace",
   "metadata": {},
   "outputs": [],
   "source": [
    "a = 1\n",
    "b = 2\n",
    "nx, nt = (300, 200)\n",
    "x = np.linspace(0, 10, nx)\n",
    "t = np.linspace(0, 10, nt)\n",
    "tv, xv = np.meshgrid(t, x)\n",
    "\n",
    "#u = (xv + b*tv) * np.exp(a*tv)\n",
    "u= np.exp(xv-a*tv)\n",
    "dx = x[1] - x[0]\n",
    "ux = ps.FiniteDifference(d=1, axis=0,drop_endpoints=False)._differentiate(u, dx)\n",
    "ux_noise_myfft,newu,myslice = calc_deriv_fftn_with_ext(u,[x,t],[0],[dx])"
   ]
  },
  {
   "cell_type": "code",
   "execution_count": 8,
   "id": "37e82ba7-2b6e-4d3c-8c88-93e2169ecd31",
   "metadata": {},
   "outputs": [
    {
     "data": {
      "image/png": "[encoded data removed]",
      "text/plain": [
       "<Figure size 640x480 with 1 Axes>"
      ]
     },
     "metadata": {},
     "output_type": "display_data"
    }
   ],
   "source": [
    "plt.plot(ux[0],label='ux without noise')\n",
    "#plt.plot(ux_noise[0][:n],label='ux with noise finite differences')\n",
    "#plt.plot(ux_noise_sindy[0][:n],label='ux with noise sindy')\n",
    "plt.plot(ux_noise_myfft[0],label='ux with noise fft')\n",
    "plt.legend()\n",
    "plt.show()"
   ]
  },
  {
   "cell_type": "code",
   "execution_count": 7,
   "id": "d734b68e-a0b4-47fa-ac12-078c52c3ff6a",
   "metadata": {},
   "outputs": [
    {
     "data": {
      "text/plain": [
       "[<matplotlib.lines.Line2D at 0x7f3f60237730>]"
      ]
     },
     "execution_count": 7,
     "metadata": {},
     "output_type": "execute_result"
    },
    {
     "data": {
      "image/png": "[encoded data removed]",
      "text/plain": [
       "<Figure size 640x480 with 1 Axes>"
      ]
     },
     "metadata": {},
     "output_type": "display_data"
    }
   ],
   "source": [
    "plt.plot(ux[0])\n",
    "plt.plot(newu[myslice][0])"
   ]
  },
  {
   "cell_type": "code",
   "execution_count": 19,
   "id": "fb5a30f6-c126-4d4b-8451-305319eb0b69",
   "metadata": {},
   "outputs": [],
   "source": [
    "n_samples=20\n",
    "n_input=2\n",
    "x1 = 20 * np.random.randn(n_samples, n_input) - 10\n",
    "def func(x, module): \n",
    "    if module == sympy:\n",
    "        x0 = sympy.Symbol('x0')\n",
    "        x1 = sympy.Symbol('x1')\n",
    "    else:\n",
    "        x0 = x[:, 0]\n",
    "        x1 = x[:, 1]\n",
    "    return module.exp(x0-a*x1)"
   ]
  },
  {
   "cell_type": "code",
   "execution_count": 20,
   "id": "529459ec-6506-4f1e-946b-a08a1a828156",
   "metadata": {},
   "outputs": [],
   "source": [
    " n_input = 2\n",
    "x = np.linspace(0, 10, nx)\n",
    "t = np.linspace(0, 10, nt)\n",
    "tv, xv = np.meshgrid(t, x)\n",
    "def func2(x, module): \n",
    "    if module == sympy:\n",
    "        x0 = sympy.Symbol('x0')\n",
    "        x1 = sympy.Symbol('x1')\n",
    "    else:\n",
    "        x0 = x[:, 0]\n",
    "        x1 = x[:, 1]\n",
    "    return module.exp(xv-a*tv)"
   ]
  },
  {
   "cell_type": "code",
   "execution_count": 21,
   "id": "2d5d08c7-f620-4241-bf38-906ba8befa14",
   "metadata": {},
   "outputs": [
    {
     "ename": "NameError",
     "evalue": "name 'sympy' is not defined",
     "output_type": "error",
     "traceback": [
      "\u001b[0;31m---------------------------------------------------------------------------\u001b[0m",
      "\u001b[0;31mNameError\u001b[0m                                 Traceback (most recent call last)",
      "Cell \u001b[0;32mIn[21], line 1\u001b[0m\n\u001b[0;32m----> 1\u001b[0m \u001b[43mfunc\u001b[49m\u001b[43m(\u001b[49m\u001b[43mx1\u001b[49m\u001b[43m,\u001b[49m\u001b[43mnp\u001b[49m\u001b[43m)\u001b[49m\n",
      "Cell \u001b[0;32mIn[19], line 5\u001b[0m, in \u001b[0;36mfunc\u001b[0;34m(x, module)\u001b[0m\n\u001b[1;32m      4\u001b[0m \u001b[38;5;28;01mdef\u001b[39;00m \u001b[38;5;21mfunc\u001b[39m(x, module): \n\u001b[0;32m----> 5\u001b[0m     \u001b[38;5;28;01mif\u001b[39;00m module \u001b[38;5;241m==\u001b[39m \u001b[43msympy\u001b[49m:\n\u001b[1;32m      6\u001b[0m         x0 \u001b[38;5;241m=\u001b[39m sympy\u001b[38;5;241m.\u001b[39mSymbol(\u001b[38;5;124m'\u001b[39m\u001b[38;5;124mx0\u001b[39m\u001b[38;5;124m'\u001b[39m)\n\u001b[1;32m      7\u001b[0m         x1 \u001b[38;5;241m=\u001b[39m sympy\u001b[38;5;241m.\u001b[39mSymbol(\u001b[38;5;124m'\u001b[39m\u001b[38;5;124mx1\u001b[39m\u001b[38;5;124m'\u001b[39m)\n",
      "\u001b[0;31mNameError\u001b[0m: name 'sympy' is not defined"
     ]
    }
   ],
   "source": [
    "func(x1,np)"
   ]
  },
  {
   "cell_type": "code",
   "execution_count": 24,
   "id": "05b2498c-a43a-4ee8-87d2-ab03789c80af",
   "metadata": {},
   "outputs": [
    {
     "data": {
      "text/plain": [
       "(20,)"
      ]
     },
     "execution_count": 24,
     "metadata": {},
     "output_type": "execute_result"
    }
   ],
   "source": [
    "xt = 20 * np.random.randn(n_samples, n_input)\n",
    "x0 = xt[:, 0]\n",
    "x1 = xt[:, 1]\n",
    "f=np.exp(x0-a*x1)\n",
    "f.shape"
   ]
  },
  {
   "cell_type": "code",
   "execution_count": 27,
   "id": "76ca6fbe-a44a-4f12-b8e8-b18e14ce3a94",
   "metadata": {},
   "outputs": [
    {
     "data": {
      "text/plain": [
       "(20, 20)"
      ]
     },
     "execution_count": 27,
     "metadata": {},
     "output_type": "execute_result"
    }
   ],
   "source": [
    "x = np.linspace(0, 10, n_samples)\n",
    "t = np.linspace(0, 10, n_samples)\n",
    "tv, xv = np.meshgrid(t, x)\n",
    "f = np.exp(xv-a*tv)\n",
    "f.shape"
   ]
  },
  {
   "cell_type": "code",
   "execution_count": 29,
   "id": "279a7d5c-aebc-4ab1-8e92-e766274d62f7",
   "metadata": {},
   "outputs": [],
   "source": [
    "a,b = np.random.randn(2)"
   ]
  },
  {
   "cell_type": "code",
   "execution_count": 30,
   "id": "752349f4-6370-4fdf-a254-9a79fd786bf9",
   "metadata": {},
   "outputs": [
    {
     "data": {
      "text/plain": [
       "0.35652374210078264"
      ]
     },
     "execution_count": 30,
     "metadata": {},
     "output_type": "execute_result"
    }
   ],
   "source": [
    "a"
   ]
  },
  {
   "cell_type": "code",
   "execution_count": 31,
   "id": "ef8eb7bd-7ca5-49bf-a337-7c88367c268f",
   "metadata": {},
   "outputs": [
    {
     "data": {
      "text/plain": [
       "-1.7254378552563223"
      ]
     },
     "execution_count": 31,
     "metadata": {},
     "output_type": "execute_result"
    }
   ],
   "source": [
    "b"
   ]
  },
  {
   "cell_type": "code",
   "execution_count": null,
   "id": "842c30e2-f643-431d-ac1f-09d47edc04d6",
   "metadata": {},
   "outputs": [],
   "source": []
  }
 ],
 "metadata": {
  "kernelspec": {
   "display_name": "Python 3 (ipykernel)",
   "language": "python",
   "name": "python3"
  },
  "language_info": {
   "codemirror_mode": {
    "name": "ipython",
    "version": 3
   },
   "file_extension": ".py",
   "mimetype": "text/x-python",
   "name": "python",
   "nbconvert_exporter": "python",
   "pygments_lexer": "ipython3",
   "version": "3.8.17"
  }
 },
 "nbformat": 4,
 "nbformat_minor": 5
}
