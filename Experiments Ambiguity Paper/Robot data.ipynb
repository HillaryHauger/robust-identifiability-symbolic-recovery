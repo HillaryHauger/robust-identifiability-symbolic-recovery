{
 "cells": [
  {
   "cell_type": "code",
   "execution_count": 1,
   "id": "426b5b65",
   "metadata": {},
   "outputs": [],
   "source": [
    "import numpy as np\n",
    "import matplotlib.pyplot as plt\n",
    "from mpl_toolkits.mplot3d import Axes3D\n",
    "import numpy as np\n",
    "from sklearn.linear_model import Lasso\n",
    "from scipy.io import loadmat\n",
    "from sklearn.metrics import mean_squared_error\n",
    "from scipy.integrate import solve_ivp\n",
    "import os\n",
    "\n",
    "import pysindy as ps\n",
    "\n",
    "# Ignore matplotlib deprecation warnings\n",
    "import warnings\n",
    "warnings.filterwarnings(\"ignore\", category=UserWarning)\n",
    "\n",
    "# Seed the random number generators for reproducibility\n",
    "np.random.seed(100)\n",
    "\n",
    "integrator_keywords = {}\n",
    "integrator_keywords['rtol'] = 1e-12\n",
    "integrator_keywords['method'] = 'LSODA'\n",
    "integrator_keywords['atol'] = 1e-12\n",
    "\n",
    "pysindy_path = r'C:\\Users\\phili\\PycharmProjects\\pysindy'"
   ]
  },
  {
   "cell_type": "markdown",
   "id": "2a10e28b",
   "metadata": {},
   "source": [
    "# Function with non unqiue PDE: $u(t,x)=sin(x+t)$\n",
    "We have here that $u$ solves the equations $u_t = u_x$ and $u_t= u_x+\\lambda (u^2+u_x^2-1)$. Two things we can do here: show that the Jacobi criterion for analytic PDEs does not help and then apply the methods for polynomials to show non-uniqueness."
   ]
  }
 ],
 "metadata": {
  "kernelspec": {
   "display_name": "Python 3 (ipykernel)",
   "language": "python",
   "name": "python3"
  },
  "language_info": {
   "codemirror_mode": {
    "name": "ipython",
    "version": 3
   },
   "file_extension": ".py",
   "mimetype": "text/x-python",
   "name": "python",
   "nbconvert_exporter": "python",
   "pygments_lexer": "ipython3",
   "version": "3.10.4"
  }
 },
 "nbformat": 4,
 "nbformat_minor": 5
}
