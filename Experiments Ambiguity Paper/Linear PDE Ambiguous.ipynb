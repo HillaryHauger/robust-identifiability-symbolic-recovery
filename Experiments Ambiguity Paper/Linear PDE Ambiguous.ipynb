{
 "cells": [
  {
   "cell_type": "code",
   "execution_count": 1,
   "id": "4e10730b",
   "metadata": {},
   "outputs": [],
   "source": [
    "import numpy as np\n",
    "import matplotlib.pyplot as plt\n",
    "from mpl_toolkits.mplot3d import Axes3D\n",
    "import numpy as np\n",
    "from sklearn.linear_model import Lasso\n",
    "from scipy.io import loadmat\n",
    "from sklearn.metrics import mean_squared_error\n",
    "from scipy.integrate import solve_ivp\n",
    "import os\n",
    "\n",
    "import pysindy as ps\n",
    "\n",
    "# Ignore matplotlib deprecation warnings\n",
    "import warnings\n",
    "warnings.filterwarnings(\"ignore\", category=UserWarning)\n",
    "\n",
    "# Seed the random number generators for reproducibility\n",
    "np.random.seed(100)\n",
    "\n",
    "integrator_keywords = {}\n",
    "integrator_keywords['rtol'] = 1e-12\n",
    "integrator_keywords['method'] = 'LSODA'\n",
    "integrator_keywords['atol'] = 1e-12\n",
    "\n",
    "pysindy_path = r'C:\\Users\\phili\\PycharmProjects\\pysindy'"
   ]
  },
  {
   "cell_type": "markdown",
   "id": "27c94088",
   "metadata": {},
   "source": [
    "# Exponential function: $u(t,x)=exp(x-at)$"
   ]
  },
  {
   "cell_type": "markdown",
   "id": "3cd9a828",
   "metadata": {},
   "source": [
    "The function $u$ solves $u_t = -a u_x$ and $u_t= -a u$."
   ]
  },
  {
   "cell_type": "code",
   "execution_count": 2,
   "id": "aa075658",
   "metadata": {},
   "outputs": [],
   "source": [
    "a = 3\n",
    "nx, nt = (300, 200)\n",
    "x = np.linspace(0, 10, nx)\n",
    "t = np.linspace(0, 10, nt)\n",
    "tv, xv = np.meshgrid(t, x)\n",
    "\n",
    "u = np.exp(xv-a*tv)\n",
    "\n",
    "dx = x[1] - x[0]\n",
    "ux = ps.FiniteDifference(d=1, axis=0,drop_endpoints=False)._differentiate(u, dx)"
   ]
  },
  {
   "cell_type": "code",
   "execution_count": 3,
   "id": "7c1b2dcc",
   "metadata": {},
   "outputs": [
    {
     "data": {
      "image/png": "[encoded data removed]",
      "text/plain": [
       "<Figure size 432x288 with 2 Axes>"
      ]
     },
     "metadata": {
      "needs_background": "light"
     },
     "output_type": "display_data"
    },
    {
     "data": {
      "image/png": "[encoded data removed]",
      "text/plain": [
       "<Figure size 432x288 with 2 Axes>"
      ]
     },
     "metadata": {
      "needs_background": "light"
     },
     "output_type": "display_data"
    }
   ],
   "source": [
    "# Plot u and u_dot\n",
    "plt.figure()\n",
    "plt.pcolormesh(t, x, u)\n",
    "plt.xlabel('t', fontsize=16)\n",
    "plt.ylabel('x', fontsize=16)\n",
    "plt.title(r'$u(x, t)$', fontsize=16)\n",
    "plt.colorbar()\n",
    "plt.figure()\n",
    "\n",
    "dt = t[1] - t[0]\n",
    "u_dot = ps.FiniteDifference(axis=1)._differentiate(u, t=dt)\n",
    "\n",
    "plt.pcolormesh(t, x, u_dot)\n",
    "plt.xlabel('t', fontsize=16)\n",
    "plt.ylabel('x', fontsize=16)\n",
    "plt.title(r'$\\dot{u}(x, t)$', fontsize=16)\n",
    "\n",
    "plt.colorbar()\n",
    "plt.show()"
   ]
  },
  {
   "cell_type": "code",
   "execution_count": 4,
   "id": "8bc414e5",
   "metadata": {},
   "outputs": [
    {
     "name": "stdout",
     "output_type": "stream",
     "text": [
      "STLSQ model: \n",
      "(x0)' = 0.143 1 + -15.268 x0 + 12.250 x0_1\n",
      "SR3 model, L0 norm: \n"
     ]
    },
    {
     "name": "stderr",
     "output_type": "stream",
     "text": [
      "D:\\programs\\miniconda3\\envs\\tf-gpu\\envs\\pysindy\\lib\\site-packages\\pysindy\\optimizers\\sr3.py:388: ConvergenceWarning: SR3._reduce did not converge after 10000 iterations.\n",
      "  warnings.warn(\n"
     ]
    },
    {
     "name": "stdout",
     "output_type": "stream",
     "text": [
      "(x0)' = 0.143 1 + -15.268 x0 + 12.250 x0_1\n",
      "SR3 model, L1 norm: \n"
     ]
    },
    {
     "name": "stderr",
     "output_type": "stream",
     "text": [
      "D:\\programs\\miniconda3\\envs\\tf-gpu\\envs\\pysindy\\lib\\site-packages\\pysindy\\optimizers\\sr3.py:388: ConvergenceWarning: SR3._reduce did not converge after 10000 iterations.\n",
      "  warnings.warn(\n"
     ]
    },
    {
     "name": "stdout",
     "output_type": "stream",
     "text": [
      "(x0)' = 0.143 1 + -15.268 x0 + 12.250 x0_1\n",
      "SSR model: \n",
      "(x0)' = -15.254 x0 + 12.235 x0_1\n",
      "SSR (metric = model residual) model: \n",
      "(x0)' = -0.308 1 + -3.052 x0 + 0.049 x0_1\n",
      "FROLs model: \n",
      "(x0)' = -3.003 x0\n"
     ]
    }
   ],
   "source": [
    "u = u.reshape(len(x), len(t), 1)\n",
    "\n",
    "# Define PDE library that is quadratic in u, and\n",
    "# third-order in spatial derivatives of u.\n",
    "library_functions = [lambda x: x]\n",
    "library_function_names = [lambda x: x]\n",
    "pde_lib = ps.PDELibrary(library_functions=library_functions,\n",
    "                        function_names=library_function_names,\n",
    "                        derivative_order=1, spatial_grid=x,\n",
    "                        include_bias=True, is_uniform=True)\n",
    "\n",
    "# Fit the model with different optimizers.\n",
    "# Using normalize_columns = True to improve performance.\n",
    "print('STLSQ model: ')\n",
    "optimizer = ps.STLSQ(threshold=5, alpha=1e-5, normalize_columns=True)\n",
    "model = ps.SINDy(feature_library=pde_lib, optimizer=optimizer)\n",
    "model.fit(u, t=dt)\n",
    "model.print()\n",
    "\n",
    "print('SR3 model, L0 norm: ')\n",
    "optimizer = ps.SR3(threshold=7, max_iter=10000, tol=1e-15, nu=1e2,\n",
    "                   thresholder='l0', normalize_columns=True)\n",
    "model = ps.SINDy(feature_library=pde_lib, optimizer=optimizer)\n",
    "model.fit(u, t=dt)\n",
    "model.print()\n",
    "\n",
    "print('SR3 model, L1 norm: ')\n",
    "optimizer = ps.SR3(threshold=0.05, max_iter=10000, tol=1e-15,\n",
    "                   thresholder='l1', normalize_columns=True)\n",
    "model = ps.SINDy(feature_library=pde_lib, optimizer=optimizer)\n",
    "model.fit(u, t=dt)\n",
    "model.print()\n",
    "\n",
    "print('SSR model: ')\n",
    "optimizer = ps.SSR(normalize_columns=True, kappa=5e-3)\n",
    "model = ps.SINDy(feature_library=pde_lib, optimizer=optimizer)\n",
    "model.fit(u, t=dt)\n",
    "model.print()\n",
    "\n",
    "print('SSR (metric = model residual) model: ')\n",
    "optimizer = ps.SSR(criteria='model_residual', normalize_columns=True, kappa=5e-3)\n",
    "model = ps.SINDy(feature_library=pde_lib, optimizer=optimizer)\n",
    "model.fit(u, t=dt)\n",
    "model.print()\n",
    "\n",
    "print('FROLs model: ')\n",
    "optimizer = ps.FROLS(normalize_columns=True, kappa=1e-5)\n",
    "model = ps.SINDy(feature_library=pde_lib, optimizer=optimizer)\n",
    "model.fit(u, t=dt)\n",
    "model.print()"
   ]
  },
  {
   "cell_type": "markdown",
   "id": "9f79a147",
   "metadata": {},
   "source": [
    "So, we clearly see that all models find the approximately correct solution, however they find different ones, which even look more complicated than the easiest ones in most cases. Also, they do not provide any information themselves that there might be an ambiguity problem, except for the \"not converging\" warning."
   ]
  },
  {
   "cell_type": "markdown",
   "id": "4d856d22",
   "metadata": {},
   "source": [
    "## Check the rank of the matrix, as we have non uniqueness for linear PDEs"
   ]
  },
  {
   "cell_type": "markdown",
   "id": "6b455b84",
   "metadata": {},
   "source": [
    "We cannot directly check the matrix rank of $(u(t_i,x_j),u_x(t_i,x_j))(\\mathbb{R}^{n\\times m})^2$ as both are themselves already matrices or even higher dimensional linear forms. Linear dependence of the function is equal to linear dependence of the matrices, which translates to linear dependence of the vectorized versions of $(u(t_i,x_j),u_x(t_i,x_j))\\in\\mathbb{R}^{nm\\times2}$."
   ]
  },
  {
   "cell_type": "code",
   "execution_count": 5,
   "id": "70a2c005",
   "metadata": {},
   "outputs": [],
   "source": [
    "from numpy.linalg import matrix_rank, svd"
   ]
  },
  {
   "cell_type": "code",
   "execution_count": 6,
   "id": "5628da96",
   "metadata": {},
   "outputs": [
    {
     "data": {
      "text/plain": [
       "(2, array([2.40049017e+05, 1.62391338e+01]))"
      ]
     },
     "execution_count": 6,
     "metadata": {},
     "output_type": "execute_result"
    }
   ],
   "source": [
    "ux = ps.FiniteDifference(order=2, d=1, axis=0, drop_endpoints=False)._differentiate(u, dx)\n",
    "u_flat, u_x_flat = u.flatten(), ux.flatten()\n",
    "g = np.concatenate([u_flat.reshape(len(u_flat),1), u_x_flat.reshape(len(u_flat),1)], axis=1)\n",
    "matrix_rank(g), svd(g, compute_uv=False)"
   ]
  },
  {
   "cell_type": "code",
   "execution_count": 7,
   "id": "d69c0ca7",
   "metadata": {},
   "outputs": [
    {
     "data": {
      "text/plain": [
       "34.39464458346127"
      ]
     },
     "execution_count": 7,
     "metadata": {},
     "output_type": "execute_result"
    }
   ],
   "source": [
    "np.linalg.norm(u_flat - u_x_flat)"
   ]
  },
  {
   "cell_type": "code",
   "execution_count": 8,
   "id": "01b66bbc",
   "metadata": {},
   "outputs": [],
   "source": [
    "u = np.exp(xv-a*tv)"
   ]
  },
  {
   "cell_type": "code",
   "execution_count": 9,
   "id": "f42ccf4e",
   "metadata": {},
   "outputs": [
    {
     "data": {
      "text/plain": [
       "(8.009785020665731, -3.9714635601412738)"
      ]
     },
     "execution_count": 9,
     "metadata": {},
     "output_type": "execute_result"
    }
   ],
   "source": [
    "np.max(u_flat - u_x_flat), -np.max(-(u_flat - u_x_flat))"
   ]
  },
  {
   "cell_type": "code",
   "execution_count": 10,
   "id": "dec04a8e",
   "metadata": {},
   "outputs": [],
   "source": [
    "distance_svs = []\n",
    "fd_orders = range(2, 8)\n",
    "for fd_order in fd_orders:\n",
    "    ux = ps.FiniteDifference(order=fd_order, d=1, axis=0,\n",
    "                         drop_endpoints=False)._differentiate(u, dx)\n",
    "\n",
    "    u_flat, u_x_flat = u.flatten(), ux.flatten()\n",
    "    features = np.concatenate([u_flat.reshape(len(u_flat),-1), u_x_flat.reshape(len(u_flat),-1)], axis=1).T \n",
    "    svs = svd(features, compute_uv=False)\n",
    "    distance_svs.append(svs[-1])"
   ]
  },
  {
   "cell_type": "code",
   "execution_count": 11,
   "id": "a8458e7d",
   "metadata": {},
   "outputs": [
    {
     "data": {
      "image/png": "[encoded data removed]",
      "text/plain": [
       "<Figure size 504x360 with 1 Axes>"
      ]
     },
     "metadata": {
      "needs_background": "light"
     },
     "output_type": "display_data"
    }
   ],
   "source": [
    "# Journal paper\n",
    "titlesize = 20\n",
    "labelsize = titlesize - 2\n",
    "tickssize = labelsize - 2\n",
    "plt.figure(figsize=(7,5))\n",
    "plt.plot(range(2,8), distance_svs, linewidth=2.3)\n",
    "plt.title('Singular value plot', size=titlesize, fontname=\"Times New Roman\", y=1.05)\n",
    "plt.xlabel('Finite differences order', size=labelsize, fontname=\"Times New Roman\")\n",
    "plt.ylabel('Smallest singular value', size=labelsize, fontname=\"Times New Roman\")\n",
    "# plt.ylim((10**(-7),10**2))\n",
    "plt.xticks(fontsize=tickssize)\n",
    "plt.yticks(fontsize=tickssize)\n",
    "plt.yscale('log')\n",
    "plt.savefig(r'D:\\OneDrive\\Dokumente\\Uni\\Doktor\\Paper\\Projects\\Physical Law Learning\\Images\\Experiments\\Uniqueness\\SV_Plot_linear_PDE_ambiguous.eps', format='eps')"
   ]
  },
  {
   "cell_type": "markdown",
   "id": "97593ede",
   "metadata": {},
   "source": [
    "## Regression check\n",
    "Another possibility is to perform a regression with one of the variables as the dependent one, to basically find the lienar relation. This is only possible that easy if it is only 2 variables, otherwise it is not given that both have to have a non-zero coefficient when looking at the linear function mapping all variables to 0. The fitness can be shown by using the R squared curve."
   ]
  },
  {
   "cell_type": "code",
   "execution_count": 12,
   "id": "1e7c22be",
   "metadata": {},
   "outputs": [
    {
     "data": {
      "text/plain": [
       "array([1.])"
      ]
     },
     "execution_count": 12,
     "metadata": {},
     "output_type": "execute_result"
    }
   ],
   "source": [
    "from sklearn.linear_model import LinearRegression\n",
    "reg = LinearRegression().fit(ux.flatten().reshape(-1, 1), u.flatten())\n",
    "reg.coef_"
   ]
  },
  {
   "cell_type": "code",
   "execution_count": 13,
   "id": "9fab65cc",
   "metadata": {},
   "outputs": [],
   "source": [
    "scores = []\n",
    "distances = []\n",
    "fd_orders = range(2, 8)\n",
    "for fd_order in fd_orders:\n",
    "    ux = ps.FiniteDifference(order=fd_order, d=1, axis=0, drop_endpoints=False)._differentiate(u, dx)\n",
    "    reg = LinearRegression().fit(ux.flatten().reshape(-1, 1), u.flatten())\n",
    "    scores.append(reg.score(ux.flatten().reshape(-1, 1), u.flatten()))\n",
    "    distances.append(reg.predict)"
   ]
  },
  {
   "cell_type": "code",
   "execution_count": 14,
   "id": "e379abd6",
   "metadata": {},
   "outputs": [
    {
     "data": {
      "text/plain": [
       "[<matplotlib.lines.Line2D at 0x1ee37678f40>]"
      ]
     },
     "execution_count": 14,
     "metadata": {},
     "output_type": "execute_result"
    },
    {
     "data": {
      "image/png": "[encoded data removed]",
      "text/plain": [
       "<Figure size 432x288 with 1 Axes>"
      ]
     },
     "metadata": {
      "needs_background": "light"
     },
     "output_type": "display_data"
    }
   ],
   "source": [
    "plt.plot(range(2,8), scores)"
   ]
  },
  {
   "cell_type": "markdown",
   "id": "ebc975ca",
   "metadata": {},
   "source": [
    "## Fourier check\n",
    "A possibility might be to check the functions in the fourier space to check for linear independence. E.g., here we look at $u$ and $u_x$, where $\\mathcal{F}(u_x)=i\\xi\\hat{u}$."
   ]
  },
  {
   "cell_type": "code",
   "execution_count": 15,
   "id": "ed15111a",
   "metadata": {},
   "outputs": [
    {
     "data": {
      "text/plain": [
       "array([2.40030533e+05, 2.55986899e-01])"
      ]
     },
     "execution_count": 15,
     "metadata": {},
     "output_type": "execute_result"
    }
   ],
   "source": [
    "fd_order = 3\n",
    "ux = ps.FiniteDifference(order=fd_order, d=1, axis=0, drop_endpoints=False)._differentiate(u, dx)\n",
    "u_flat, u_x_flat = u.flatten(), ux.flatten()\n",
    "features = np.concatenate([u_flat.reshape(len(u_flat),-1), u_x_flat.reshape(len(u_flat),-1)], axis=1)\n",
    "svd(features, compute_uv=False)"
   ]
  },
  {
   "cell_type": "code",
   "execution_count": 16,
   "id": "3f913bf1",
   "metadata": {},
   "outputs": [],
   "source": [
    "import scipy\n",
    "u_hat = scipy.fft.fft(u, axis=0)"
   ]
  },
  {
   "cell_type": "code",
   "execution_count": 17,
   "id": "3b51bc9a",
   "metadata": {},
   "outputs": [
    {
     "data": {
      "text/plain": [
       "array([18314149.44067344,  2939552.85667545])"
      ]
     },
     "execution_count": 17,
     "metadata": {},
     "output_type": "execute_result"
    }
   ],
   "source": [
    "u_x_hat = u_hat.T * x * 1j\n",
    "u_hat_flat, u_x_hat_flat = u_hat.flatten(), u_x_hat.flatten()\n",
    "features = np.concatenate([u_hat_flat.reshape(len(u_hat_flat),-1), u_x_hat_flat.reshape(len(u_hat_flat),-1)], axis=1)\n",
    "svd(features, compute_uv=False)"
   ]
  },
  {
   "cell_type": "code",
   "execution_count": 18,
   "id": "e9b7bdba",
   "metadata": {},
   "outputs": [
    {
     "data": {
      "text/plain": [
       "(array([[0, 1],\n",
       "        [2, 3],\n",
       "        [4, 5]]),\n",
       " array([0, 1]),\n",
       " array([[0, 1],\n",
       "        [0, 3],\n",
       "        [0, 5]]))"
      ]
     },
     "execution_count": 18,
     "metadata": {},
     "output_type": "execute_result"
    }
   ],
   "source": [
    "a = np.arange(6).reshape(3,2)\n",
    "b = np.arange(2)\n",
    "a, b, a * b"
   ]
  },
  {
   "cell_type": "markdown",
   "id": "862680e2",
   "metadata": {},
   "source": [
    "## Integration check\n",
    "A possibility might be to integrate the functions to check for linear independence."
   ]
  }
 ],
 "metadata": {
  "kernelspec": {
   "display_name": "Python 3 (ipykernel)",
   "language": "python",
   "name": "python3"
  },
  "language_info": {
   "codemirror_mode": {
    "name": "ipython",
    "version": 3
   },
   "file_extension": ".py",
   "mimetype": "text/x-python",
   "name": "python",
   "nbconvert_exporter": "python",
   "pygments_lexer": "ipython3",
   "version": "3.10.4"
  }
 },
 "nbformat": 4,
 "nbformat_minor": 5
}
