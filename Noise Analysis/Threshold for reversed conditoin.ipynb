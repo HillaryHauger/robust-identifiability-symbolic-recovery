{
 "cells": [
  {
   "cell_type": "markdown",
   "id": "0bdd5f6e-77d9-4201-ac0c-0359692fc924",
   "metadata": {},
   "source": [
    "# Reversed condition"
   ]
  },
  {
   "cell_type": "code",
   "execution_count": 1,
   "id": "04e4b850-e02a-468f-80e2-9903e2df234c",
   "metadata": {},
   "outputs": [],
   "source": [
    "import numpy as np\n",
    "import matplotlib.pyplot as plt\n",
    "from numpy.linalg import matrix_rank, svd\n",
    "import sys\n",
    "sys.path.append('../')\n",
    "from test_data import experiment_data,add_noise,create_data_2d\n",
    "from error_bounds import *"
   ]
  },
  {
   "cell_type": "markdown",
   "id": "a13ba6bb-3a65-48c6-a3d7-72e6585b8622",
   "metadata": {},
   "source": [
    "Instead of looking at the condition it might be sensible to look at the reversed condition function\n",
    "$$h(A):= \\frac{\\sigma_n}{\\sigma_1} \\geq \\frac{\\sigma_n}{\\|A\\|_F} := g(A)$$"
   ]
  },
  {
   "cell_type": "markdown",
   "id": "51656048-27dc-44fc-8e81-6548ea5ad478",
   "metadata": {},
   "source": [
    "### What is the ratio between the smallest and biggest singular value?"
   ]
  },
  {
   "cell_type": "markdown",
   "id": "702ce902-f449-4190-b1bf-c630ad29dcf7",
   "metadata": {},
   "source": [
    "The idea is if $A \\in \\mathbb{R}^{nxm}$ for $m<n$ has full rank $C>\\frac{\\sigma_m}{\\sigma_1} > 0$ for some $C>0$, but if it does not have full rank $\\frac{\\sigma_m}{\\sigma_1} \\approx 0$"
   ]
  },
  {
   "cell_type": "markdown",
   "id": "3f801e2f-1d7b-4fe7-991c-9e2749efd671",
   "metadata": {},
   "source": [
    "If we assume that the relative condition can bound our problem, then we have:\n",
    "\\begin{equation}\n",
    "    | \\frac{\\sigma_n(A+E)}{\\sigma_1(A+E)} - \\frac{\\sigma_n(A)}{\\sigma_1(A)} | < (\\frac{1}{\\sigma_1}^2+\\frac{\\sigma_n}{\\sigma_1^2}^2)\\|E\\|_F\n",
    "\\end{equation}\n",
    "and\n",
    "\\begin{equation}\n",
    "    | \\frac{\\sigma_n(A+E)}{\\|A+E\\|_F} - \\frac{\\sigma_n(A)}{\\|A\\|_F} | < (\\frac{1}{\\|A\\|_F}+\\frac{\\sigma_n(A)}{\\|A\\|_F^2}) \\ \\|E\\|_F\n",
    "\\end{equation}"
   ]
  },
  {
   "cell_type": "code",
   "execution_count": 2,
   "id": "abec7d10-df39-4172-b61c-de3b11d164f7",
   "metadata": {},
   "outputs": [],
   "source": [
    "\"\"\"\n",
    "This calculates o_n/o_1\n",
    "\"\"\"\n",
    "def reverse_condition(A):\n",
    "    sv = svd(A, compute_uv=False)\n",
    "    return sv[-1]/sv[0]\n",
    "    \n",
    "\"\"\"\n",
    "This calculates o_n/Frobenius_norm(A)\n",
    "\"\"\"    \n",
    "def reverse_condition_approx(A):\n",
    "    sv = svd(A, compute_uv=False)\n",
    "    return sv[-1]/np.linalg.norm(A)\n",
    "    \n",
    "def reverse_condition_bound(sv_max,sv_min,noisematrix):\n",
    "    B=np.sqrt(1/sv_max+(sv_min/sv_max**2)**2)\n",
    "    E=np.linalg.norm(noisematrix) \n",
    "    #print(f\"(1/{sv_max:.3f} + {sv_min:.3f}/{sv_max**2:.3f})* {E:.3e} = {B:.3f}*{E:.3e}\")\n",
    "    return E*B\n",
    "\n",
    "def reverse_condition_bound_approx(sv_max,sv_min,frobenius_norm_A, noisematrix):\n",
    "    B=1/frobenius_norm_A + sv_min/frobenius_norm_A**2\n",
    "    E=np.linalg.norm(noisematrix) \n",
    "    #print(f\"(1/{frobenius_norm_A:.3f} + {sv_min:.3f}/{frobenius_norm_A**2:.3f} )* {E:.3e}= {B:.3f}*{E:.3e}\")\n",
    "    \n",
    "    return E*B"
   ]
  },
  {
   "cell_type": "code",
   "execution_count": 3,
   "id": "a38e2bec-daf1-4fc5-ac12-38b2f1eff1ce",
   "metadata": {},
   "outputs": [
    {
     "name": "stdout",
     "output_type": "stream",
     "text": [
      "0.959166082461457\n",
      "[[-2688683.69336214 -4384311.47209403 -2803147.17390998]\n",
      " [ -449528.26473508 -1453176.75299528  -468665.72218805]\n",
      " [-1965549.20570861 -1815835.88393691 -2049227.17936869]\n",
      " [-3829216.42376583 -3361233.37057277 -3992235.01934004]\n",
      " [-1361774.87776296 -2568699.32788777 -1419748.78247187]\n",
      " [-1658638.88298301  -117783.75795775 -1729250.97468681]\n",
      " [-3783739.66542936  -641209.13649672 -3944822.21026764]\n",
      " [-1991929.14625601 -2838156.90400425 -2076730.17497056]\n",
      " [-4648131.90492862 -2509760.76245096 -4846013.62571158]\n",
      " [ -804436.54787181  -372318.27621195  -838683.27141785]]\n"
     ]
    }
   ],
   "source": [
    "rows,cols = 10,3 #let rows be more than columns\n",
    "min_value,max_value = -5e6,50\n",
    "matrix = np.random.uniform(min_value, max_value, size=(rows, cols))\n",
    "# Set col 2 equal to col 1\n",
    "alpha = np.random.rand()\n",
    "print(alpha)\n",
    "matrix[:,0] = alpha*matrix[:,2]\n",
    "print(matrix)"
   ]
  },
  {
   "cell_type": "code",
   "execution_count": 4,
   "id": "5ae2c502-fb7a-4d79-9634-2fb55fccaa62",
   "metadata": {},
   "outputs": [
    {
     "name": "stdout",
     "output_type": "stream",
     "text": [
      "matrix shape: (10, 3), rank: 2\n",
      "Singular values : [1.38379777e+07 3.78644323e+06 4.67450550e-10]\n",
      "Ratio smallest/biggest singular value: 3.3780264876416834e-17\n",
      "Bound: 0.0\n",
      "Ratio smallest/Frobenius norm: 3.258252505227846e-17\n",
      "Bound: 0.0\n"
     ]
    }
   ],
   "source": [
    "sv = svd(matrix, compute_uv=False)\n",
    "sv_max = sv[0]\n",
    "sv_min = sv[-1]\n",
    "frobenius_norm_A=np.linalg.norm(matrix)\n",
    "print(f\"matrix shape: {matrix.shape}, rank: {matrix_rank(matrix)}\" )\n",
    "print(f\"Singular values : {sv}\" )\n",
    "print(f\"Ratio smallest/biggest singular value: {sv[-1]/sv[0]}\")\n",
    "print(f\"Bound: {reverse_condition_bound(sv_max,sv_min,np.zeros(shape=matrix.shape))}\")\n",
    "print(f\"Ratio smallest/Frobenius norm: {sv[-1]/frobenius_norm_A}\")\n",
    "print(f\"Bound: {reverse_condition_bound_approx(sv_max,sv_min,np.linalg.norm(matrix),np.zeros(shape=matrix.shape))}\")"
   ]
  },
  {
   "cell_type": "code",
   "execution_count": 5,
   "id": "a754221d-2e47-4fa7-b1a3-180872f45f53",
   "metadata": {},
   "outputs": [
    {
     "name": "stdout",
     "output_type": "stream",
     "text": [
      "Noise level \t matrix rank \t diff \t \t bound \t \t diff_approx \t bound_approx\n",
      " 0\t \t 2 \t \t 0.000e+00  \t 0.000e+00\t0.000e+00  \t 0.000e+00\n",
      " 1e-10\t \t 3 \t \t 6.392e-11  \t 3.445e-07\t6.165e-11  \t 8.931e-11\n",
      " 1e-09\t \t 3 \t \t 5.842e-10  \t 4.046e-06\t5.635e-10  \t 1.049e-09\n",
      " 1e-08\t \t 3 \t \t 3.605e-09  \t 3.013e-05\t3.477e-09  \t 7.813e-09\n",
      " 1e-07\t \t 3 \t \t 2.747e-08  \t 3.346e-04\t2.650e-08  \t 8.675e-08\n",
      " 1e-06\t \t 3 \t \t 3.530e-07  \t 3.247e-03\t3.405e-07  \t 8.419e-07\n",
      " 1e-05\t \t 3 \t \t 5.096e-06  \t 3.546e-02\t4.915e-06  \t 9.194e-06\n",
      " 0.0001\t \t 3 \t \t 3.961e-05  \t 3.994e-01\t3.820e-05  \t 1.036e-04\n",
      " 0.001\t \t 3 \t \t 7.298e-04  \t 4.588e+00\t7.039e-04  \t 1.190e-03\n",
      " 0.01\t \t 3 \t \t 5.736e-03  \t 3.880e+01\t5.533e-03  \t 1.006e-02\n",
      " 0.1\t \t 3 \t \t 5.558e-02  \t 3.922e+02\t5.352e-02  \t 1.017e-01\n"
     ]
    }
   ],
   "source": [
    "noise_levels = [0]+[10**(-10+i) for i in range(0,10)]\n",
    "print(\"Noise level \\t matrix rank \\t diff \\t \\t bound \\t \\t diff_approx \\t bound_approx\")\n",
    "ratios =[]\n",
    "differences=[]\n",
    "bounds =[]\n",
    "ratios_approx =[]\n",
    "differences_approx=[]\n",
    "bounds_approx =[]\n",
    "for target_noise in noise_levels:\n",
    "    var = target_noise * np.sqrt(np.mean(np.square(matrix)))\n",
    "    noise = np.random.normal(0, var, size=matrix.shape)\n",
    "    matrix_noise = matrix+noise\n",
    "    sv = svd(matrix_noise, compute_uv=False)\n",
    "    # Compute h\n",
    "    ratio = sv[-1]/sv[0]\n",
    "    difference = np.abs(ratio-sv_min/sv_max)\n",
    "    bound=reverse_condition_bound(sv_max,sv_min,noise)\n",
    "    # Compute g\n",
    "    ratio_approx= sv[-1]/np.linalg.norm(matrix_noise)    \n",
    "    difference_approx = np.abs(ratio_approx-sv_min/frobenius_norm_A)\n",
    "    bound_approx=reverse_condition_bound_approx(sv_max,sv_min,frobenius_norm_A,noise)\n",
    "    \n",
    "    ratios.append(ratio)\n",
    "    differences.append(difference)\n",
    "    bounds.append(bound)\n",
    "    \n",
    "    ratios_approx.append(ratio_approx)\n",
    "    differences_approx.append(difference_approx)\n",
    "    bounds_approx.append(bound_approx)\n",
    "    print(f\" {target_noise}\\t \\t {matrix_rank(matrix_noise)} \\t \\t {difference:3.3e}  \\t {bound:3.3e}\\t{difference_approx:3.3e}  \\t {bound_approx:3.3e}\")"
   ]
  },
  {
   "cell_type": "code",
   "execution_count": 6,
   "id": "37a5cf6c-af76-4ef2-a9b5-31aa2148a6d5",
   "metadata": {},
   "outputs": [
    {
     "data": {
      "text/plain": [
       "<matplotlib.legend.Legend at 0x7fc7916a0760>"
      ]
     },
     "execution_count": 6,
     "metadata": {},
     "output_type": "execute_result"
    },
    {
     "data": {
      "image/png": "[encoded data removed]",
      "text/plain": [
       "<Figure size 1200x400 with 2 Axes>"
      ]
     },
     "metadata": {},
     "output_type": "display_data"
    }
   ],
   "source": [
    "plt.figure(figsize=(12,4))\n",
    "plt.subplot(1,2,1)\n",
    "plt.plot(differences,marker='x',label=\"diff\")\n",
    "plt.plot(bounds,marker='o',label=\"Bounds\")\n",
    "plt.xticks(np.arange(len(noise_levels)),noise_levels,rotation=90)\n",
    "plt.yscale('log')\n",
    "plt.xlabel('Noise')\n",
    "plt.legend()\n",
    "plt.subplot(1,2,2)\n",
    "plt.plot(differences_approx,marker='x',label=\"diff_approx\")\n",
    "plt.plot(bounds_approx,marker='o',label=\"Bounds_approx\")\n",
    "plt.xticks(np.arange(len(noise_levels)),noise_levels,rotation=90)\n",
    "plt.yscale('log')\n",
    "plt.xlabel('Noise')\n",
    "plt.legend()"
   ]
  },
  {
   "cell_type": "markdown",
   "id": "2ad0b4bd-6f82-4fc8-9865-82f6c01f9d9e",
   "metadata": {},
   "source": [
    "### Threshold for $g(A) = \\frac{\\sigma_n}{\\|A\\|_F}$"
   ]
  },
  {
   "cell_type": "markdown",
   "id": "7c702b88-6b79-47bb-9b2b-db4d158fac77",
   "metadata": {},
   "source": [
    "#### Non uniqueness"
   ]
  },
  {
   "cell_type": "markdown",
   "id": "61fe13d2-4616-48fe-b9ce-3f209ad4ce62",
   "metadata": {},
   "source": [
    "We assume $\\sigma_n=0$. Denote the singular value of $\\tilde{A}=A+E$ by  $\\tilde{\\sigma}_n$ and $G=(u|u_x)$.\n",
    " $$\\frac{\\tilde{\\sigma}_n}{\\|\\tilde{G}\\|_F} \\leq \\frac{\\sigma_n + \\|G-\\tilde{G}\\|_F}{\\|\\tilde{G}\\|_F} \\leq  \\frac{ \\sqrt{C}}{\\|\\tilde{G}\\|_F} = T_1$$\n",
    "where $C = m(C_m \\frac{\\epsilon}{h} + h^{order} M C_a)^2 + \\|u-\\tilde{u}\\|_2^2$ and $\\epsilon = \\|u-u_{noise}\\|_{\\infty} + 10^{-16}$ and $h=dx$. If a value is smaller than T_1, the function u should be nonunique. Note in the following we also use the threshold\n",
    "$$T_2= \\frac{\\frac{\\epsilon}{h} + h^{order} }{\\|\\tilde{G}\\|_F}$$\n",
    "where we ignore all constants and guess \\epsilon, since we can not know these in practice."
   ]
  },
  {
   "cell_type": "code",
   "execution_count": 7,
   "id": "bdde1e69-4bbc-4a6c-bcfd-a9d41c85de04",
   "metadata": {},
   "outputs": [],
   "source": [
    "def calc_threshold_nonunique(frobenius_norm,eps,h,number_datapoints,order=2):\n",
    "    eps+=np.finfo(float).eps # add machine precisoin\n",
    "    return (eps/h+h**order)/frobenius_norm\n",
    "\n",
    "def calc_threshold2_nonunique(frobenius_norm,eps_two,eps_infty,h,number_datapoints,M,order=2): \n",
    "    E = error_bound_g(eps_two,eps_infty,h,number_datapoints,M,order)\n",
    "    return np.sqrt(E)/frobenius_norm"
   ]
  },
  {
   "cell_type": "code",
   "execution_count": 8,
   "id": "76982eaa-9f70-4984-8b9c-f1bc0047ec87",
   "metadata": {},
   "outputs": [],
   "source": [
    "n_samples=50\n",
    "T,X,t,x = create_data_2d(T_start=-5, T_end=1, L_x_start=0,L_x_end=1, N_t=n_samples, N_x=n_samples)\n",
    "a=np.random.randn()\n",
    "\"\"\"\n",
    "u = np.exp(X-a*T)\n",
    "ux = u\n",
    "uxx = u\n",
    "uxxx = u\n",
    "ut = -a*u\n",
    "\"\"\"\n",
    "u = np.cos(X-a*T)\n",
    "ux = -np.sin(X-a*T)\n",
    "uxx = -np.cos(X-a*T)\n",
    "uxxx = np.sin(X-a*T)\n",
    "ut = a*np.sin(X-a*T)\n",
    "\n",
    "dx=x[1]-x[0]"
   ]
  },
  {
   "cell_type": "code",
   "execution_count": 9,
   "id": "9bc9bfdb-4ef3-418d-8bb7-b64fbb04eccc",
   "metadata": {
    "scrolled": true
   },
   "outputs": [
    {
     "name": "stdout",
     "output_type": "stream",
     "text": [
      "M: 0.9999999989845257\n",
      "Singular values of g: (36.32026442692418, 34.363329174547474)\n",
      "sv_max/sv_min: 6.873e-01\n"
     ]
    }
   ],
   "source": [
    "u_flat, ux_flat = u.flatten(), ux.flatten()\n",
    "true_g = np.concatenate([u_flat.reshape(len(u_flat),1), ux_flat.reshape(len(ux_flat),1)], axis=1)\n",
    "sv = svd(true_g, compute_uv=False)\n",
    "sv_max,sv_min=sv[0],sv[-1]\n",
    "frobenius_norm_trueg = np.linalg.norm(true_g)\n",
    "print(f\"M: {np.max(u)}\")\n",
    "print(f\"Singular values of g: {sv_max,sv_min}\")\n",
    "print(f\"sv_max/sv_min: {sv_min/frobenius_norm_trueg:3.3e}\")"
   ]
  },
  {
   "cell_type": "code",
   "execution_count": 10,
   "id": "7cfa3368-86b2-405b-af12-c6916082be25",
   "metadata": {
    "scrolled": true
   },
   "outputs": [
    {
     "name": "stdout",
     "output_type": "stream",
     "text": [
      "True ratio: 1.057e+00\n",
      "Noise level \t order \t \t ratio \t \t threshold \t threshold2\n",
      "0\n",
      "0.0\n"
     ]
    },
    {
     "ename": "NameError",
     "evalue": "name 'ps' is not defined",
     "output_type": "error",
     "traceback": [
      "\u001b[0;31m---------------------------------------------------------------------------\u001b[0m",
      "\u001b[0;31mNameError\u001b[0m                                 Traceback (most recent call last)",
      "Cell \u001b[0;32mIn[10], line 23\u001b[0m\n\u001b[1;32m     20\u001b[0m eps_two \u001b[38;5;241m=\u001b[39m np\u001b[38;5;241m.\u001b[39mlinalg\u001b[38;5;241m.\u001b[39mnorm(u\u001b[38;5;241m-\u001b[39mu_noise)\n\u001b[1;32m     22\u001b[0m \u001b[38;5;28;01mfor\u001b[39;00m order \u001b[38;5;129;01min\u001b[39;00m orders:          \n\u001b[0;32m---> 23\u001b[0m     ux_noise \u001b[38;5;241m=\u001b[39m \u001b[43mps\u001b[49m\u001b[38;5;241m.\u001b[39mFiniteDifference(order\u001b[38;5;241m=\u001b[39morder,d\u001b[38;5;241m=\u001b[39m\u001b[38;5;241m1\u001b[39m, axis\u001b[38;5;241m=\u001b[39m\u001b[38;5;241m0\u001b[39m, drop_endpoints\u001b[38;5;241m=\u001b[39m\u001b[38;5;28;01mFalse\u001b[39;00m)\u001b[38;5;241m.\u001b[39m_differentiate(u_noise, dx)\n\u001b[1;32m     24\u001b[0m     u_flat_noise, u_x_flat_noise \u001b[38;5;241m=\u001b[39m u_noise\u001b[38;5;241m.\u001b[39mflatten(), ux_noise\u001b[38;5;241m.\u001b[39mflatten()\n\u001b[1;32m     25\u001b[0m     g_noise \u001b[38;5;241m=\u001b[39m np\u001b[38;5;241m.\u001b[39mconcatenate([u_flat_noise\u001b[38;5;241m.\u001b[39mreshape(\u001b[38;5;28mlen\u001b[39m(u_flat_noise),\u001b[38;5;241m1\u001b[39m), u_x_flat_noise\u001b[38;5;241m.\u001b[39mreshape(\u001b[38;5;28mlen\u001b[39m(u_flat_noise),\u001b[38;5;241m1\u001b[39m)], axis\u001b[38;5;241m=\u001b[39m\u001b[38;5;241m1\u001b[39m)\n",
      "\u001b[0;31mNameError\u001b[0m: name 'ps' is not defined"
     ]
    }
   ],
   "source": [
    "M=infinity_norm(uxxx)\n",
    "number_noise=10 #<=10\n",
    "noise_levels = [0]+[10**(-10+i) for i in range(0,number_noise-1)]\n",
    "orders=range(2,10,1)\n",
    "print(f\"True ratio: {sv_max/sv_min:3.3e}\")\n",
    "unorm2=np.sqrt(np.mean(np.square(u)))\n",
    "\n",
    "for target_noise in noise_levels:\n",
    "    print(\"Noise level \\t order \\t \\t ratio \\t \\t threshold \\t threshold2\")\n",
    "    print(f\"{target_noise}\")\n",
    "    threshold_list = []\n",
    "    threshold2_list = []\n",
    "    ratio_list=[]\n",
    "    \n",
    "    var = target_noise * unorm2\n",
    "    noise = np.random.normal(0, var, size=u.shape)\n",
    "    print(np.linalg.norm(noise))\n",
    "    u_noise = u + noise\n",
    "    eps_infty = infinity_norm(u-u_noise)\n",
    "    eps_two = np.linalg.norm(u-u_noise)\n",
    "    \n",
    "    for order in orders:          \n",
    "        ux_noise = ps.FiniteDifference(order=order,d=1, axis=0, drop_endpoints=False)._differentiate(u_noise, dx)\n",
    "        u_flat_noise, u_x_flat_noise = u_noise.flatten(), ux_noise.flatten()\n",
    "        g_noise = np.concatenate([u_flat_noise.reshape(len(u_flat_noise),1), u_x_flat_noise.reshape(len(u_flat_noise),1)], axis=1)\n",
    "        sv = svd(g_noise, compute_uv=False)\n",
    "        frobenius_norm_gnoise = np.linalg.norm(g_noise)\n",
    "        ratio=sv[-1]/frobenius_norm_gnoise\n",
    "        \n",
    "        threshold = calc_threshold_nonunique(frobenius_norm_gnoise,eps_infty,dx,true_g.shape[0],order)\n",
    "        threshold_list.append(threshold)\n",
    "        threshold2 = calc_threshold2_nonunique(frobenius_norm_gnoise,eps_two,eps_infty,dx,true_g.shape[0],M,order)\n",
    "        threshold2_list.append(threshold2)\n",
    "        ratio_list.append(ratio)\n",
    "                                               \n",
    "        print(f\"\\t  \\t {order} \\t \\t {ratio:3.3e} \\t {threshold:3.3e} \\t {threshold2:3.3e}\")\n",
    "    \n",
    "    plt.plot(ratio_list,label=f'ratio {target_noise}')\n",
    "    plt.plot(threshold_list,'--',label=f'threshold {target_noise}')\n",
    "    plt.plot(threshold2_list,'--',label=f'threshold2 {target_noise}')\n",
    "    plt.yscale('log')\n",
    "    plt.legend()\n",
    "    plt.show()"
   ]
  },
  {
   "cell_type": "markdown",
   "id": "393705b3-596d-4f2d-9df7-0f0bd0873154",
   "metadata": {},
   "source": [
    "### Uniqueness"
   ]
  },
  {
   "cell_type": "markdown",
   "id": "355043dd-5547-4c2e-a1a1-57f087e4b8fa",
   "metadata": {},
   "source": [
    "##### We try a threshold for unqiue values\n",
    "We choose $C>0$ such that $\\sigma_n \\geq C$. Then\n",
    "$$\\frac{\\tilde\\sigma_n}{\\|\\tilde{G}\\|} \\geq \\frac{\\sigma_n -\\|\\tilde{G}-G\\|}{\\|\\tilde{G}\\|} \\geq \\frac{C -\\|\\tilde{G}-G\\|}{\\|\\tilde{G}\\|} \\geq \\frac{C -\\sqrt{E}}{\\|\\tilde{G}\\|}$$\n",
    "The ideal $C$ would be $C = \\sigma_n$. However, in practice we do not know the true singular valuse. Thus, we can educately guess with:\n",
    "$$C =\\tilde\\sigma_n-\\sqrt{eps/h+h^{order}}$$\n",
    "This approximates deviation we get from the derivative calculation."
   ]
  },
  {
   "cell_type": "code",
   "execution_count": null,
   "id": "9855f658-8fd9-4f8c-a536-3e73792a9580",
   "metadata": {},
   "outputs": [],
   "source": [
    "\"\"\"\n",
    "u: function with noise\n",
    "eps: noise estimation infinity_norm(u-u_noise)\n",
    "\"\"\"\n",
    "def educated_guess_c(u,eps,h):\n",
    "    #Calculate omin omax\n",
    "    order=2\n",
    "    ux= ps.FiniteDifference(order=order,d=1, axis=0, drop_endpoints=False)._differentiate(u, h)\n",
    "    u_flat, u_x_flat = u.flatten(), ux.flatten()\n",
    "    g = np.concatenate([u_flat.reshape(len(u_flat),1), u_x_flat.reshape(len(u_flat),1)], axis=1)\n",
    "    omin = svd(g, compute_uv=False)[-1]\n",
    "    #Calculate C  \n",
    "    print(eps,h,order)\n",
    "    E = (eps/h+h**order)\n",
    "    print(omin,E)\n",
    "    assert omin - np.sqrt(E) >0\n",
    "    C = max(omin - np.sqrt(E) , 1e-14)\n",
    "    return C\n",
    "\n",
    "\"\"\"\n",
    "This calculates the threshold with minimal knowlegdede\n",
    "C: lower bound on >= C\n",
    "eps: noise estimation infinity_norm(u-u_noise)\n",
    "h: dx\n",
    "order: order of the derivative caluclation\n",
    "\"\"\"\n",
    "def calc_threshold_uniq(C,frobenius_norm,eps,h,order=2):\n",
    "    E = (eps/h+h**order)\n",
    "    #assert C-np.sqrt(E) >0\n",
    "    T = max((C-np.sqrt(E))/frobenius_norm,1e-13)\n",
    "    return T\n",
    "##This function calculates the threshold with all constants (we do not normally know)\n",
    "def calc_threshold_uniq2(C,frobenius_norm,eps_two,eps_infty,M,h,number_datapoints,order=2):\n",
    "    E = error_bound_g(eps_two,eps_infty,h,number_datapoints,M,order)\n",
    "    #assert C-np.sqrt(E) >0\n",
    "    T = max((C-np.sqrt(E))/frobenius_norm,1e-13)\n",
    "    return T"
   ]
  },
  {
   "cell_type": "code",
   "execution_count": null,
   "id": "266cd10c-197f-4458-843e-01fa2b959cbb",
   "metadata": {},
   "outputs": [],
   "source": [
    "n_samples=100\n",
    "T,X,t,x = create_data_2d(T_start=0, T_end=1, L_x_start=-2,L_x_end=3, N_t=n_samples, N_x=n_samples)\n",
    "a=np.random.randn()*1e-6\n",
    "b=np.random.randn()*1e-3\n",
    "C=0.1\n",
    "\n",
    "u = np.cos(X-a*T)*C\n",
    "ux = -np.sin(X-a*T)*C\n",
    "uxx = -np.cos(X-a*T)*C\n",
    "uxxx = np.sin(X-a*T)*C\n",
    "ut = a*np.sin(X-a*T)*C\n",
    "\"\"\"\n",
    "\n",
    "u=(X+b*T)*np.exp(a*T)\n",
    "ux = np.exp(a*T)\n",
    "uxx= 1\n",
    "uxxx= 0\n",
    "ut= b*np.exp(a*T) + a*(X*+b*T)*np.exp(a*T) #bux + aut\n",
    "\n",
    "u = np.exp(X-a*T)\n",
    "ux = u\n",
    "uxx = u\n",
    "uxxx = u\n",
    "ut = -a*u\n",
    "\"\"\"\n",
    "dx=x[1]-x[0]"
   ]
  },
  {
   "cell_type": "code",
   "execution_count": null,
   "id": "24e4b14e-e673-407b-a297-aa959e4cbf89",
   "metadata": {},
   "outputs": [],
   "source": [
    "u_flat, ux_flat = u.flatten(), ux.flatten()\n",
    "true_g = np.concatenate([u_flat.reshape(len(u_flat),1), ux_flat.reshape(len(ux_flat),1)], axis=1)\n",
    "sv = svd(true_g, compute_uv=False)\n",
    "frobenius_norm_trueg = np.linalg.norm(true_g)\n",
    "sv_max,sv_min=sv[0],sv[-1]\n",
    "print(f\"M: {np.max(u)}\")\n",
    "print(f\"Singular values of g: {sv_max,sv_min}\")\n",
    "print(f\"sv_max/sv_min: {sv_max/frobenius_norm_trueg:3.3f}\")"
   ]
  },
  {
   "cell_type": "code",
   "execution_count": null,
   "id": "197c37d9-ef63-4fa5-a72a-32af0a3b1263",
   "metadata": {},
   "outputs": [],
   "source": [
    "#Best choice C1 C2\n",
    "C=sv_min\n",
    "print(f\"C: {C}\")"
   ]
  },
  {
   "cell_type": "code",
   "execution_count": null,
   "id": "750b7197-3824-4316-860d-95027c6f2e06",
   "metadata": {
    "scrolled": true
   },
   "outputs": [],
   "source": [
    "M=infinity_norm(uxxx)\n",
    "number_noise=10 #<=10\n",
    "noise_levels = [0]+[10**(-10+i) for i in range(0,number_noise-1)]\n",
    "orders=range(2,10,1)\n",
    "print(f\"True ratio: {sv_max/sv_min:3.3e}\")\n",
    "unorm2=np.sqrt(np.mean(np.square(u)))\n",
    "\n",
    "for target_noise in noise_levels:\n",
    "    print(\"Noise level \\t order \\t \\t ratio \\t \\t threshold \\t threshold2\")\n",
    "    print(f\"{target_noise}\")\n",
    "    \n",
    "    threshold_list = []\n",
    "    threshold2_list = []\n",
    "    ratio_list=[]\n",
    "    \n",
    "    var = target_noise * unorm2\n",
    "    noise = np.random.normal(0, var, size=u.shape)\n",
    "    print(np.linalg.norm(noise))\n",
    "    u_noise = u + noise\n",
    "    eps_two = np.linalg.norm(u-u_noise)\n",
    "    eps_infty = infinity_norm(u-u_noise)\n",
    "\n",
    "    #Educated guess for C1 C2\n",
    "    C = educated_guess_c(u_noise,eps_infty,dx)\n",
    "    print(f\"C: {C}, Check \")\n",
    "    for order in orders:        \n",
    "        ux_noise = ps.FiniteDifference(order=order,d=1, axis=0, drop_endpoints=False)._differentiate(u_noise, dx)\n",
    "        u_flat_noise, u_x_flat_noise = u_noise.flatten(), ux_noise.flatten()\n",
    "        g_noise = np.concatenate([u_flat_noise.reshape(len(u_flat_noise),1), u_x_flat_noise.reshape(len(u_flat_noise),1)], axis=1)\n",
    "        sv = svd(g_noise, compute_uv=False)\n",
    "        frobenius_norm_gnoise=np.linalg.norm(g_noise)\n",
    "        \n",
    "        ratio=sv[-1]/frobenius_norm_gnoise        \n",
    "        threshold = calc_threshold_uniq(C,frobenius_norm_gnoise,eps_two,dx,order)\n",
    "        threshold2 = calc_threshold_uniq2(C,frobenius_norm_gnoise,eps_two,eps_infty,M,dx,true_g.shape[0],order)\n",
    "        threshold_list.append(threshold)\n",
    "        threshold2_list.append(threshold2)\n",
    "        ratio_list.append(ratio)\n",
    "\n",
    "        \n",
    "        print(f\"\\t  \\t {order} \\t \\t {ratio:3.3e} \\t \\t {threshold:3.3e} \\t \\t {threshold2:3.3e}\")\n",
    "    \n",
    "    plt.plot(ratio_list,label=f'ratio {target_noise}')\n",
    "    plt.plot(threshold_list,'--',label=f'threshold {target_noise}')\n",
    "    plt.plot(threshold2_list,'--',label=f'threshold2 {target_noise}')\n",
    "    plt.yscale('log')\n",
    "    plt.legend()\n",
    "    plt.show()"
   ]
  },
  {
   "cell_type": "code",
   "execution_count": null,
   "id": "8331198d-8755-461b-9718-f34c148ab0a8",
   "metadata": {},
   "outputs": [],
   "source": [
    "plt.plot(differences,marker='x',label=\"Differences\")\n",
    "plt.plot(bounds,marker='o',label=\"Bounds\")\n",
    "plt.yscale('log')\n",
    "plt.xlabel('Trial')\n",
    "plt.legend()"
   ]
  },
  {
   "cell_type": "markdown",
   "id": "4b30f5d8-8702-46d7-aa33-6d67ff3a4df5",
   "metadata": {},
   "source": [
    "### Combine non uniqueness and uniqueness bound"
   ]
  },
  {
   "cell_type": "code",
   "execution_count": null,
   "id": "20cd66a8-9e8a-486f-bafa-e73c87a93f63",
   "metadata": {},
   "outputs": [],
   "source": [
    "n_samples=100\n",
    "T,X,t,x = create_data_2d(T_start=0, T_end=1, L_x_start=-2,L_x_end=3, N_t=n_samples, N_x=n_samples)\n",
    "a=np.random.randn()\n",
    "b=np.random.randn()\n",
    "C=1\n",
    "\"\"\"\n",
    "u = np.cos(X-a*T)*C\n",
    "ux = -np.sin(X-a*T)*C\n",
    "uxx = -np.cos(X-a*T)*C\n",
    "uxxx = np.sin(X-a*T)*C\n",
    "ut = a*np.sin(X-a*T)*C\n",
    "\n",
    "\n",
    "u=(X+b*T)*np.exp(a*T)\n",
    "ux = np.exp(a*T)\n",
    "uxx= 1\n",
    "uxxx= 0\n",
    "ut= b*np.exp(a*T) + a*(X*+b*T)*np.exp(a*T) #bux + aut\n",
    "\"\"\"\n",
    "u = np.exp(X-a*T)\n",
    "ux = u\n",
    "uxx = u\n",
    "uxxx = u\n",
    "ut = -a*u\n",
    "\n",
    "dx=x[1]-x[0]\n",
    "\n",
    "u_flat, ux_flat = u.flatten(), ux.flatten()\n",
    "true_g = np.concatenate([u_flat.reshape(len(u_flat),1), ux_flat.reshape(len(ux_flat),1)], axis=1)\n",
    "sv = svd(true_g, compute_uv=False)\n",
    "frobenius_norm_trueg = np.linalg.norm(true_g)\n",
    "sv_max,sv_min=sv[0],sv[-1]\n",
    "print(f\"M: {np.max(u)}\")\n",
    "print(f\"Singular values of g: {sv_max,sv_min}\")\n",
    "print(f\"sv_max/sv_min: {sv_max/frobenius_norm_trueg:3.3f}\")"
   ]
  },
  {
   "cell_type": "code",
   "execution_count": null,
   "id": "00a73ad8-569d-497f-9b74-a4848131266f",
   "metadata": {},
   "outputs": [],
   "source": [
    "M=infinity_norm(uxxx)\n",
    "number_noise=2 #<=10\n",
    "noise_levels = [0]+[10**(-10+i) for i in range(0,number_noise-1)]\n",
    "orders=range(2,10,1)\n",
    "print(f\"True ratio: {sv_max/sv_min:3.3e}\")\n",
    "unorm2=np.sqrt(np.mean(np.square(u)))\n",
    "C=sv_min\n",
    "for target_noise in noise_levels:\n",
    "    print(\"Noise level \\t order \\t \\t ratio \\t \\t threshold \\t threshold2\")\n",
    "    print(f\"{target_noise}\")\n",
    "    \n",
    "    threshold_uniq_list = []\n",
    "    threshold2_uniq_list = []\n",
    "    threshold_nonunique_list = []\n",
    "    threshold2_nonunique_list = []\n",
    "    ratio_list=[]\n",
    "    \n",
    "    var = target_noise * unorm2\n",
    "    noise = np.random.normal(0, var, size=u.shape)\n",
    "    print(np.linalg.norm(noise))\n",
    "    u_noise = u + noise\n",
    "    eps_two = np.linalg.norm(u-u_noise)\n",
    "    eps_infty = infinity_norm(u-u_noise)\n",
    "\n",
    "    #Educated guess for C1 C2\n",
    "    #C = educated_guess_c(u_noise,eps_infty,dx)\n",
    "    print(f\"C: {C}, Check \")\n",
    "    for order in orders:        \n",
    "        ux_noise = ps.FiniteDifference(order=order,d=1, axis=0, drop_endpoints=False)._differentiate(u_noise, dx)\n",
    "        u_flat_noise, u_x_flat_noise = u_noise.flatten(), ux_noise.flatten()\n",
    "        g_noise = np.concatenate([u_flat_noise.reshape(len(u_flat_noise),1), u_x_flat_noise.reshape(len(u_flat_noise),1)], axis=1)\n",
    "        sv = svd(g_noise, compute_uv=False)\n",
    "        frobenius_norm_gnoise=np.linalg.norm(g_noise)\n",
    "        \n",
    "        ratio=sv[-1]/frobenius_norm_gnoise   \n",
    "        \n",
    "        threshold_uniq = calc_threshold_uniq(C,frobenius_norm_gnoise,eps_two,dx,order)\n",
    "        threshold2_uniq = calc_threshold_uniq2(C,frobenius_norm_gnoise,eps_two,eps_infty,M,dx,true_g.shape[0],order)\n",
    "        threshold_uniq_list.append(threshold_uniq)\n",
    "        threshold2_uniq_list.append(threshold2_uniq)\n",
    "  \n",
    "        threshold_nonunique = calc_threshold_nonunique(frobenius_norm_gnoise,eps_two,dx,order)\n",
    "        threshold2_nonunique = calc_threshold2_nonunique(frobenius_norm_gnoise,eps_two,eps_infty,M,dx,true_g.shape[0],order)\n",
    "        threshold_nonunique_list.append(threshold_nonunique)\n",
    "        threshold2_nonunique_list.append(threshold2_nonunique)\n",
    "        \n",
    "        ratio_list.append(ratio)\n",
    "\n",
    "    # Create subplots\n",
    "    fig, (ax1, ax2) = plt.subplots(1, 2, sharex=True, figsize=(10, 4))\n",
    "    fig.suptitle(f'Noise level {target_noise}', fontsize=16)\n",
    "    \n",
    "    # Subplot 1: ratio and green lines\n",
    "    ax1.set_title(\"Non uniqueness classification\")\n",
    "    ax1.plot(orders, ratio_list, label='ratio', color='blue')\n",
    "    ax1.plot(orders, threshold_nonunique_list, '--', label='Threshold approx', color='green')\n",
    "    ax1.plot(orders, threshold2_nonunique_list, ':', label='Threshold exact', color='limegreen')\n",
    "    ax1.fill_between(orders, threshold_nonunique_list, color='green', alpha=0.3)\n",
    "    ax1.fill_between(orders, threshold2_nonunique_list, color='limegreen', alpha=0.3)\n",
    "    ax1.set_yscale('log')\n",
    "    ax1.set_ylabel('Threshold/Ratio')\n",
    "    \n",
    "    # Subplot 2: ratio and red lines\n",
    "    ax2.set_title(\"Uniqueness classification\")\n",
    "    ax2.plot(orders, ratio_list, label='ratio', color='blue')\n",
    "    ax2.plot(orders, threshold_uniq_list, '--', label='Threshold approx', color='red')\n",
    "    ax2.plot(orders, threshold2_uniq_list, ':', label='Threshold exact', color='coral')\n",
    "    ax2.fill_between(orders, threshold_uniq_list, y2=np.max(ratio_list), color='red', alpha=0.3)\n",
    "    ax2.fill_between(orders, threshold2_uniq_list, y2=np.max(ratio_list), color='coral', alpha=0.3)\n",
    "    ax2.set_yscale('log')\n",
    "\n",
    "    \n",
    "    ax2.set_xlabel('Order')\n",
    "    ax1.legend(loc=4)\n",
    "    ax2.legend(loc=4)\n",
    "    \n",
    "    plt.show()"
   ]
  },
  {
   "cell_type": "code",
   "execution_count": null,
   "id": "df784822-5222-4bb3-a4f4-d486fd1d32b8",
   "metadata": {},
   "outputs": [],
   "source": [
    "threshold_uniq_list"
   ]
  },
  {
   "cell_type": "code",
   "execution_count": null,
   "id": "5f30b605-465e-498c-ad14-41ec49e5a7e9",
   "metadata": {},
   "outputs": [],
   "source": []
  }
 ],
 "metadata": {
  "kernelspec": {
   "display_name": "Python 3 (ipykernel)",
   "language": "python",
   "name": "python3"
  },
  "language_info": {
   "codemirror_mode": {
    "name": "ipython",
    "version": 3
   },
   "file_extension": ".py",
   "mimetype": "text/x-python",
   "name": "python",
   "nbconvert_exporter": "python",
   "pygments_lexer": "ipython3",
   "version": "3.8.17"
  }
 },
 "nbformat": 4,
 "nbformat_minor": 5
}
