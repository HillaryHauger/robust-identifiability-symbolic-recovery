{
 "cells": [
  {
   "cell_type": "code",
   "execution_count": 2,
   "id": "dfdc2837-897a-4b12-92da-0e3c5c48f34f",
   "metadata": {},
   "outputs": [],
   "source": [
    "import numpy as np"
   ]
  },
  {
   "cell_type": "code",
   "execution_count": 7,
   "id": "a113c425-cfb5-4faa-9029-66a5dbff86b6",
   "metadata": {},
   "outputs": [
    {
     "name": "stdout",
     "output_type": "stream",
     "text": [
      "Coefficients for interior points: [ 16. -32.  16.   0.]\n",
      "Coefficients for boundary points with forward differences: [[  46.66666667 -138.66666667  152.          -74.66666667   14.66666667]\n",
      " [  14.66666667  -26.66666667    8.            5.33333333   -1.33333333]\n",
      " [  46.66666667 -138.66666667  152.          -74.66666667   14.66666667]]\n",
      "Coefficients for boundary points with periodic differences: [[ 16. -32.  16.   0.]\n",
      " [ 16. -32.  16.  -0.]]\n"
     ]
    }
   ],
   "source": [
    "import numpy as np\n",
    "from pysindy.differentiation import FiniteDifference\n",
    "\n",
    "# Example usage\n",
    "t = np.linspace(0, 1, 5)\n",
    "X = np.vstack((np.sin(t), np.cos(t))).T\n",
    "fd = FiniteDifference(order=3,d=2)\n",
    "\n",
    "# Coefficients for interior points\n",
    "coeffs_interior = fd._constant_coefficients(t[1] - t[0])\n",
    "\n",
    "# Coefficients for boundary points with forward differences\n",
    "coeffs_boundary_forward = fd._coefficients_boundary_forward(t)\n",
    "\n",
    "# Coefficients for boundary points with periodic differences\n",
    "coeffs_boundary_periodic = fd._coefficients_boundary_periodic(t)\n",
    "\n",
    "# Print or use the coefficients as needed\n",
    "print(\"Coefficients for interior points:\", coeffs_interior)\n",
    "print(\"Coefficients for boundary points with forward differences:\", coeffs_boundary_forward)"
   ]
  },
  {
   "cell_type": "code",
   "execution_count": 21,
   "id": "723f3762-9212-4eed-9503-ae22f7d063b6",
   "metadata": {},
   "outputs": [
    {
     "name": "stdout",
     "output_type": "stream",
     "text": [
      "-1316818944000.0\n"
     ]
    }
   ],
   "source": [
    "n=20\n",
    "j=n/2\n",
    "for l in range(n+1):\n",
    "    sum=0.0\n",
    "    if l!=j:\n",
    "        prod=1.0\n",
    "        for k in range(n+1):\n",
    "            if k!=j and k!=l:\n",
    "                prod=prod*(j-k)\n",
    "        sum=sum+prod\n",
    "print(sum)"
   ]
  },
  {
   "cell_type": "code",
   "execution_count": null,
   "id": "8a972ef5-8c6e-4b7f-9481-ca3be1bc60dd",
   "metadata": {},
   "outputs": [],
   "source": [
    "# import library\n",
    "import sympy as sp\n",
    "\n",
    "# define symbolic variable\n",
    "t = sp.symbols('x')\n",
    "\n",
    "# define symbolic equation\n",
    "eq = sp.exp(t / 2) * (sp.sin(t / 3) ** 2)\n",
    "\n",
    "# find fourth order derivative\n",
    "fourth_order_derivative = eq.diff(t, t, t, t)"
   ]
  }
 ],
 "metadata": {
  "kernelspec": {
   "display_name": "Python 3 (ipykernel)",
   "language": "python",
   "name": "python3"
  },
  "language_info": {
   "codemirror_mode": {
    "name": "ipython",
    "version": 3
   },
   "file_extension": ".py",
   "mimetype": "text/x-python",
   "name": "python",
   "nbconvert_exporter": "python",
   "pygments_lexer": "ipython3",
   "version": "3.8.17"
  }
 },
 "nbformat": 4,
 "nbformat_minor": 5
}
