{
 "cells": [
  {
   "cell_type": "code",
   "execution_count": 2,
   "id": "239e68c8",
   "metadata": {},
   "outputs": [],
   "source": [
    "import numpy as np\n",
    "import matplotlib.pyplot as plt\n",
    "from mpl_toolkits.mplot3d import Axes3D\n",
    "import numpy as np\n",
    "from sklearn.linear_model import Lasso\n",
    "from scipy.io import loadmat\n",
    "from sklearn.metrics import mean_squared_error\n",
    "from scipy.integrate import solve_ivp\n",
    "import os\n",
    "import sys\n",
    "sys.path.append('../')  \n",
    "\n",
    "import pysindy as ps\n",
    "# Seed the random number generators for reproducibility\n",
    "np.random.seed(100)"
   ]
  },
  {
   "cell_type": "code",
   "execution_count": 128,
   "id": "cafd0d50-d7ab-4545-8a5e-fb224b36490e",
   "metadata": {},
   "outputs": [],
   "source": [
    "from test_data import experiment_data,add_noise,normalise_frobenius,normalise_minmax,create_data_2d\n",
    "from numpy.linalg import matrix_rank, svd\n",
    "from itertools import product\n",
    "from utils import plot_result_jacobi\n",
    "from error_bounds import *"
   ]
  },
  {
   "cell_type": "markdown",
   "id": "7a1235b4-2c84-4bd8-9f0c-14e422c930e4",
   "metadata": {},
   "source": [
    "We want to get a threshold and error bound for analysing a analytic or polynomial PDE as unique. We can reuse the functions from the SFranco method."
   ]
  },
  {
   "cell_type": "markdown",
   "id": "e95ff0ad-1f53-43eb-81f1-b3e0b7094e58",
   "metadata": {},
   "source": [
    "### Easy examples: $u_1 = x^2 + t^2$ and $u_2 = exp(x-at)$"
   ]
  },
  {
   "cell_type": "code",
   "execution_count": 246,
   "id": "72b468e4-7331-4bb0-945e-2893b24a2eed",
   "metadata": {},
   "outputs": [],
   "source": [
    "n_samples=50\n",
    "T,X,t,x = create_data_2d(T_start=-2, T_end=2, L_x_start=0,L_x_end=5, N_t=n_samples, N_x=n_samples)\n",
    "a=np.random.randn()\n",
    "\"\"\"\n",
    "#not unique\n",
    "u = X**2 + T**2\n",
    "ux = 2*X\n",
    "ut = 2*T\n",
    "utx = 0*T\n",
    "uxx = 2*np.ones(X.shape)\n",
    "\"\"\"\n",
    "\n",
    "#not unqiue\n",
    "u = np.exp(X-a*T)\n",
    "ux = u\n",
    "ut = -a*u\n",
    "utx = -a*u\n",
    "uxx = u\n",
    "\"\"\"\n",
    "#analytic unique\n",
    "u=(X + T)*np.arccos(1/np.cosh(a*T))\n",
    "ut = a*(T + X)*np.sinh(T*a)/(np.sqrt(1 - 1/np.cosh(T*a)**2)*np.cosh(T*a)**2) + np.arccos(1/np.cosh(T*a))\n",
    "ux = np.arccos(1/np.cosh(T*a))\n",
    "utx = a*np.sinh(T*a)/(np.sqrt(1 - 1/np.cosh(T*a)**2)*np.cosh(T*a)**2)\n",
    "uxx = np.zeros(X.shape)\n",
    "\"\"\"\n",
    "dt=t[1]-t[0]\n",
    "dx=x[1]-x[0]"
   ]
  },
  {
   "cell_type": "markdown",
   "id": "1575e015-762e-45ea-b7ef-1cc0efe6c78e",
   "metadata": {},
   "source": [
    "#### Compare the error on finite differences on the Jacobian of $g = ( u | u_x)$"
   ]
  },
  {
   "cell_type": "code",
   "execution_count": 249,
   "id": "ef154aba-0e4c-4681-ad8b-b130e49258b6",
   "metadata": {},
   "outputs": [
    {
     "name": "stdout",
     "output_type": "stream",
     "text": [
      " |ut_fd - ut | = 7.237e-02\n",
      " |utx_fd - utx | = 1.620e+00\n",
      " |ux_fd - ux | = 5.673e+00\n",
      " |uxx_fd - uxx | = 1.020e+01\n"
     ]
    }
   ],
   "source": [
    "#Compare the derivatives\n",
    "fd_order=2\n",
    "ut_fd = ps.FiniteDifference(order=fd_order, d=1, axis=1, drop_endpoints=False)._differentiate(u, t=dt)\n",
    "utx_fd = ps.FiniteDifference(order=fd_order, d=1, axis=0, drop_endpoints=False)._differentiate(ut_fd, dx)\n",
    "ux_fd = ps.FiniteDifference(order=fd_order, d=1, axis=0, drop_endpoints=False)._differentiate(u, dx)\n",
    "uxx_fd = ps.FiniteDifference(order=fd_order, d=2, axis=0, drop_endpoints=False)._differentiate(u, dx) \n",
    "\n",
    "print(f\" |ut_fd - ut | = {np.linalg.norm(ut_fd-ut):.3e}\")\n",
    "print(f\" |utx_fd - utx | = {np.linalg.norm(utx_fd-utx):.3e}\")\n",
    "print(f\" |ux_fd - ux | = {np.linalg.norm(ux_fd-ux):.3e}\")\n",
    "print(f\" |uxx_fd - uxx | = {np.linalg.norm(uxx_fd-uxx):.3e}\")"
   ]
  },
  {
   "cell_type": "code",
   "execution_count": 250,
   "id": "44becf01-8a1c-4a4c-9b42-3fab67d45f16",
   "metadata": {
    "scrolled": true
   },
   "outputs": [
    {
     "name": "stdout",
     "output_type": "stream",
     "text": [
      " Comparison at x = 10, t = 10 \n",
      " \t \t \t \t Original \t FD \t \t diff\n",
      " Smallest singular values \t 1.203e-16\t  1.931e-03 \t 1.931e-03\n",
      " Biggest singular values \t 5.687e+00\t  5.695e+00 \t 7.262e-03\n",
      " Differences Jacobian \t \t 7.774e-03\n",
      " Lower bound for uniqueness: \t  3.392e-04 >= 1.000e-10\n",
      " Upper bound for non uniqueness:  3.392e-04 <= 1.369e-03\n",
      " True ratio: \t  \t \t  2.115e-17 \n",
      " Comparison at x = 10, t = 20 \n",
      " \t \t \t \t Original \t FD \t \t diff\n",
      " Smallest singular values \t 1.203e-16\t  1.535e-03 \t 1.535e-03\n",
      " Biggest singular values \t 4.520e+00\t  4.526e+00 \t 5.771e-03\n",
      " Differences Jacobian \t \t 6.178e-03\n",
      " Lower bound for uniqueness: \t  3.392e-04 >= 1.000e-10\n",
      " Upper bound for non uniqueness:  3.392e-04 <= 1.369e-03\n",
      " True ratio: \t  \t \t  2.662e-17 \n",
      " Comparison at x = 10, t = 30 \n",
      " \t \t \t \t Original \t FD \t \t diff\n",
      " Smallest singular values \t 1.203e-16\t  1.220e-03 \t 1.220e-03\n",
      " Biggest singular values \t 3.592e+00\t  3.597e+00 \t 4.586e-03\n",
      " Differences Jacobian \t \t 4.910e-03\n",
      " Lower bound for uniqueness: \t  3.392e-04 >= 1.000e-10\n",
      " Upper bound for non uniqueness:  3.392e-04 <= 1.369e-03\n",
      " True ratio: \t  \t \t  3.349e-17 \n",
      " Comparison at x = 10, t = 40 \n",
      " \t \t \t \t Original \t FD \t \t diff\n",
      " Smallest singular values \t 0.000e+00\t  9.695e-04 \t 9.695e-04\n",
      " Biggest singular values \t 2.855e+00\t  2.858e+00 \t 3.645e-03\n",
      " Differences Jacobian \t \t 3.902e-03\n",
      " Lower bound for uniqueness: \t  3.392e-04 >= 1.000e-10\n",
      " Upper bound for non uniqueness:  3.392e-04 <= 1.369e-03\n",
      " True ratio: \t  \t \t  0.000e+00 \n",
      " Comparison at x = 20, t = 10 \n",
      " \t \t \t \t Original \t FD \t \t diff\n",
      " Smallest singular values \t 0.000e+00\t  5.359e-03 \t 5.359e-03\n",
      " Biggest singular values \t 1.578e+01\t  1.580e+01 \t 2.015e-02\n",
      " Differences Jacobian \t \t 2.157e-02\n",
      " Lower bound for uniqueness: \t  3.392e-04 >= 1.000e-10\n",
      " Upper bound for non uniqueness:  3.392e-04 <= 1.369e-03\n",
      " True ratio: \t  \t \t  0.000e+00 \n",
      " Comparison at x = 20, t = 20 \n",
      " \t \t \t \t Original \t FD \t \t diff\n",
      " Smallest singular values \t 4.813e-16\t  4.259e-03 \t 4.259e-03\n",
      " Biggest singular values \t 1.254e+01\t  1.256e+01 \t 1.601e-02\n",
      " Differences Jacobian \t \t 1.714e-02\n",
      " Lower bound for uniqueness: \t  3.392e-04 >= 1.000e-10\n",
      " Upper bound for non uniqueness:  3.392e-04 <= 1.369e-03\n",
      " True ratio: \t  \t \t  3.838e-17 \n",
      " Comparison at x = 20, t = 30 \n",
      " \t \t \t \t Original \t FD \t \t diff\n",
      " Smallest singular values \t 0.000e+00\t  3.384e-03 \t 3.384e-03\n",
      " Biggest singular values \t 9.966e+00\t  9.978e+00 \t 1.272e-02\n",
      " Differences Jacobian \t \t 1.362e-02\n",
      " Lower bound for uniqueness: \t  3.392e-04 >= 1.000e-10\n",
      " Upper bound for non uniqueness:  3.392e-04 <= 1.369e-03\n",
      " True ratio: \t  \t \t  0.000e+00 \n",
      " Comparison at x = 20, t = 40 \n",
      " \t \t \t \t Original \t FD \t \t diff\n",
      " Smallest singular values \t 0.000e+00\t  2.690e-03 \t 2.690e-03\n",
      " Biggest singular values \t 7.920e+00\t  7.930e+00 \t 1.011e-02\n",
      " Differences Jacobian \t \t 1.083e-02\n",
      " Lower bound for uniqueness: \t  3.392e-04 >= 1.000e-10\n",
      " Upper bound for non uniqueness:  3.392e-04 <= 1.369e-03\n",
      " True ratio: \t  \t \t  0.000e+00 \n",
      " Comparison at x = 30, t = 10 \n",
      " \t \t \t \t Original \t FD \t \t diff\n",
      " Smallest singular values \t 0.000e+00\t  1.487e-02 \t 1.487e-02\n",
      " Biggest singular values \t 4.377e+01\t  4.383e+01 \t 5.589e-02\n",
      " Differences Jacobian \t \t 5.983e-02\n",
      " Lower bound for uniqueness: \t  3.392e-04 >= 1.000e-10\n",
      " Upper bound for non uniqueness:  3.392e-04 <= 1.369e-03\n",
      " True ratio: \t  \t \t  0.000e+00 \n",
      " Comparison at x = 30, t = 20 \n",
      " \t \t \t \t Original \t FD \t \t diff\n",
      " Smallest singular values \t 0.000e+00\t  1.181e-02 \t 1.181e-02\n",
      " Biggest singular values \t 3.479e+01\t  3.483e+01 \t 4.442e-02\n",
      " Differences Jacobian \t \t 4.755e-02\n",
      " Lower bound for uniqueness: \t  3.392e-04 >= 1.000e-10\n",
      " Upper bound for non uniqueness:  3.392e-04 <= 1.369e-03\n",
      " True ratio: \t  \t \t  0.000e+00 \n",
      " Comparison at x = 30, t = 30 \n",
      " \t \t \t \t Original \t FD \t \t diff\n",
      " Smallest singular values \t 9.625e-16\t  9.390e-03 \t 9.390e-03\n",
      " Biggest singular values \t 2.765e+01\t  2.768e+01 \t 3.530e-02\n",
      " Differences Jacobian \t \t 3.779e-02\n",
      " Lower bound for uniqueness: \t  3.392e-04 >= 1.000e-10\n",
      " Upper bound for non uniqueness:  3.392e-04 <= 1.369e-03\n",
      " True ratio: \t  \t \t  3.481e-17 \n",
      " Comparison at x = 30, t = 40 \n",
      " \t \t \t \t Original \t FD \t \t diff\n",
      " Smallest singular values \t 4.813e-16\t  7.462e-03 \t 7.462e-03\n",
      " Biggest singular values \t 2.197e+01\t  2.200e+01 \t 2.805e-02\n",
      " Differences Jacobian \t \t 3.003e-02\n",
      " Lower bound for uniqueness: \t  3.392e-04 >= 1.000e-10\n",
      " Upper bound for non uniqueness:  3.392e-04 <= 1.369e-03\n",
      " True ratio: \t  \t \t  2.190e-17 \n",
      " Comparison at x = 40, t = 10 \n",
      " \t \t \t \t Original \t FD \t \t diff\n",
      " Smallest singular values \t 3.850e-15\t  4.124e-02 \t 4.124e-02\n",
      " Biggest singular values \t 1.214e+02\t  1.216e+02 \t 1.551e-01\n",
      " Differences Jacobian \t \t 1.660e-01\n",
      " Lower bound for uniqueness: \t  3.392e-04 >= 1.000e-10\n",
      " Upper bound for non uniqueness:  3.392e-04 <= 1.369e-03\n",
      " True ratio: \t  \t \t  3.170e-17 \n",
      " Comparison at x = 40, t = 20 \n",
      " \t \t \t \t Original \t FD \t \t diff\n",
      " Smallest singular values \t 0.000e+00\t  3.278e-02 \t 3.278e-02\n",
      " Biggest singular values \t 9.652e+01\t  9.664e+01 \t 1.232e-01\n",
      " Differences Jacobian \t \t 1.319e-01\n",
      " Lower bound for uniqueness: \t  3.392e-04 >= 1.000e-10\n",
      " Upper bound for non uniqueness:  3.392e-04 <= 1.369e-03\n",
      " True ratio: \t  \t \t  0.000e+00 \n",
      " Comparison at x = 40, t = 30 \n",
      " \t \t \t \t Original \t FD \t \t diff\n",
      " Smallest singular values \t 1.925e-15\t  2.605e-02 \t 2.605e-02\n",
      " Biggest singular values \t 7.670e+01\t  7.680e+01 \t 9.794e-02\n",
      " Differences Jacobian \t \t 1.048e-01\n",
      " Lower bound for uniqueness: \t  3.392e-04 >= 1.000e-10\n",
      " Upper bound for non uniqueness:  3.392e-04 <= 1.369e-03\n",
      " True ratio: \t  \t \t  2.510e-17 \n",
      " Comparison at x = 40, t = 40 \n",
      " \t \t \t \t Original \t FD \t \t diff\n",
      " Smallest singular values \t 0.000e+00\t  2.070e-02 \t 2.070e-02\n",
      " Biggest singular values \t 6.096e+01\t  6.104e+01 \t 7.783e-02\n",
      " Differences Jacobian \t \t 8.332e-02\n",
      " Lower bound for uniqueness: \t  3.392e-04 >= 1.000e-10\n",
      " Upper bound for non uniqueness:  3.392e-04 <= 1.369e-03\n",
      " True ratio: \t  \t \t  0.000e+00 \n"
     ]
    }
   ],
   "source": [
    "#Compare Jacobians and singular values\n",
    "space_range = int(len(x)/10-1)\n",
    "time_range = int(len(x)/10-1)\n",
    "\n",
    "#For saving results\n",
    "svs = np.zeros([space_range, time_range])\n",
    "svs_fd = np.zeros([space_range, time_range])\n",
    "upper_bounds = np.zeros([space_range, time_range])\n",
    "lower_bounds = np.zeros([space_range, time_range])\n",
    "\n",
    "\n",
    "for i in range(space_range):\n",
    "    for j in range(time_range):\n",
    "        x_i, t_j = i * 10 + 10, j * 10 + 10\n",
    "        jacobian_fd = np.array([[ut_fd[x_i,t_j], ux_fd[x_i,t_j]], [utx_fd[x_i,t_j], uxx_fd[x_i,t_j]]]).reshape(2,2)\n",
    "        jacobian = np.array([[ut[x_i,t_j], ux[x_i,t_j]], [utx[x_i,t_j], uxx[x_i,t_j]]]).reshape(2,2)\n",
    "        \n",
    "\n",
    "        sv = svd(jacobian, compute_uv=False)\n",
    "        sv_fd = svd(jacobian_fd, compute_uv=False)\n",
    "        sv_min,sv_min_fd =sv[-1],sv_fd[-1]\n",
    "        sv_max,sv_max_fd =sv[0],sv_fd[0]\n",
    "\n",
    "        #Save the results \n",
    "        svs[i,j] = sv_min/sv_max\n",
    "        svs_fd[i,j] =sv_min_fd/sv_max_fd\n",
    "        jacobian_diff=np.linalg.norm(jacobian_fd -jacobian)\n",
    "        C1=sv_max\n",
    "        C=sv_max\n",
    "        C2=1e-4\n",
    "        lower_bound = lower_bound_nonsingular_matrix(C1,C2,jacobian_diff)\n",
    "        upper_bound = upper_bound_singular_matrix(C,jacobian_diff)\n",
    "\n",
    "        lower_bounds[i,j]=lower_bound\n",
    "        upper_bounds[i,j]=upper_bound\n",
    "        \n",
    "        print(f\" Comparison at x = {x_i}, t = {t_j} \")\n",
    "        print(f\" \\t \\t \\t \\t Original \\t FD \\t \\t diff\")\n",
    "        print(f\" Smallest singular values \\t {sv_min:.3e}\\t  {sv_min_fd:.3e} \\t {np.abs(sv_min-sv_min_fd):.3e}\")\n",
    "        print(f\" Biggest singular values \\t {sv_max:.3e}\\t  {sv_max_fd:.3e} \\t {np.abs(sv_max-sv_max_fd):.3e}\")\n",
    "        print(f\" Differences Jacobian \\t \\t {jacobian_diff:.3e}\")\n",
    "        print(f\" Lower bound for uniqueness: \\t  {svs_fd[i,j]:.3e} >= {lower_bound:.3e}\")\n",
    "        print(f\" Upper bound for non uniqueness:  {svs_fd[i,j]:.3e} <= {upper_bound:.3e}\")\n",
    "        print(f\" True ratio: \\t  \\t \\t  {svs[i,j]:.3e} \")"
   ]
  },
  {
   "cell_type": "code",
   "execution_count": 251,
   "id": "8a2cb825-7484-4250-b09a-f2c152219db2",
   "metadata": {},
   "outputs": [],
   "source": [
    "from matplotlib.colors import LinearSegmentedColormap\n",
    "colors = [(0, 1, 0),(1, 0, 0)]  # green to red\n",
    "cmap_green_red = LinearSegmentedColormap.from_list('RedGreen', colors, N=256)\n",
    "colors = [(1, 0, 0),(0, 1, 0)]  # green to red\n",
    "cmap_red_green = LinearSegmentedColormap.from_list('GreenRed', colors, N=256)"
   ]
  },
  {
   "cell_type": "code",
   "execution_count": 271,
   "id": "9a65926e-f2b6-4956-a7b0-e5cba90c509d",
   "metadata": {},
   "outputs": [
    {
     "data": {
      "image/png": "[encoded data removed]",
      "text/plain": [
       "<Figure size 1200x400 with 6 Axes>"
      ]
     },
     "metadata": {},
     "output_type": "display_data"
    }
   ],
   "source": [
    "t_grid, x_grid = (np.arange(time_range) * 10 + 10) / len(t) * (t[len(t)-1] - t[0]) + t[0], (np.arange(space_range) * 10 + 10) / len(x) * (x[len(x)-1] - x[0]) + x[0]\n",
    "# Plot derivative results\n",
    "subtitle_size=16\n",
    "tickssize=16\n",
    "order=fd_order\n",
    "fig, axes = plt.subplots(1,3, figsize=(12,4))\n",
    "#plt.suptitle(f'{order}nd order finite differences', fontsize=subtitle_size)\n",
    "\n",
    "#Plot the ratios\n",
    "c = axes[0].pcolor(t_grid, x_grid, svs)\n",
    "axes[0].set_title('Ratio', fontsize=tickssize)\n",
    "axes[0].set_ylabel('x', fontsize=tickssize)\n",
    "axes[0].set_xlabel('t', fontsize=tickssize)\n",
    "fig.colorbar(c, ax=axes[0])\n",
    "\n",
    "upper_minus_svs = upper_bounds - svs\n",
    "lower_minus_svs = svs-lower_bounds\n",
    "max_svs= max(np.max(np.abs(upper_minus_svs)),np.max(np.abs(lower_minus_svs)))\n",
    "#Plot difference to upper bound\n",
    "\n",
    "axes[1].set_title('Upper bound', fontsize=tickssize)\n",
    "c=axes[1].pcolor(t_grid, x_grid, upper_minus_svs,cmap=cmap_red_green,vmin=-max_svs, vmax=max_svs)\n",
    "axes[1].set_yticks([])\n",
    "fig.colorbar(c, ax=axes[1])\n",
    "\n",
    "#Plot difference to lower bound\n",
    "lower_minus_svs = svs-lower_bounds\n",
    "axes[2].set_title('Lower bound', fontsize=tickssize)\n",
    "c = axes[2].pcolor(t_grid, x_grid, lower_minus_svs, cmap=cmap_green_red, vmin=-max_svs, vmax=max_svs)\n",
    "axes[2].set_yticks([])\n",
    "cb = fig.colorbar(c, ax=axes[2])\n",
    "ticks=np.linspace(-max_svs, max_svs,7) \n",
    "cb.set_ticks(ticks)\n",
    "cb.set_ticklabels(['Unique', f'{ticks[1]:.4f}',f'{ticks[2]:.4f}',f'{ticks[3]:.4f}', f'{ticks[4]:.4f}', f'{ticks[5]:.4f}', 'Non-unique'])\n",
    "plt.tight_layout()"
   ]
  },
  {
   "cell_type": "code",
   "execution_count": 265,
   "id": "65c1b400-67cb-4b96-b7da-2416ec330954",
   "metadata": {},
   "outputs": [
    {
     "data": {
      "text/plain": [
       "6.666666666666666e-11"
      ]
     },
     "execution_count": 265,
     "metadata": {},
     "output_type": "execute_result"
    }
   ],
   "source": [
    "ticks[5]"
   ]
  },
  {
   "cell_type": "code",
   "execution_count": 266,
   "id": "37822960-1752-4e82-85fe-d59c456a864e",
   "metadata": {},
   "outputs": [
    {
     "data": {
      "text/plain": [
       "array([-1.00000000e-10, -6.66666667e-11, -3.33333333e-11,  0.00000000e+00,\n",
       "        3.33333333e-11,  6.66666667e-11,  1.00000000e-10])"
      ]
     },
     "execution_count": 266,
     "metadata": {},
     "output_type": "execute_result"
    }
   ],
   "source": [
    "ticks"
   ]
  },
  {
   "cell_type": "code",
   "execution_count": null,
   "id": "45d39926-f1da-4283-936d-fdcca12a4708",
   "metadata": {},
   "outputs": [],
   "source": [
    "np.min(lower_minus_svs)"
   ]
  },
  {
   "cell_type": "markdown",
   "id": "6d9519cb",
   "metadata": {},
   "source": [
    "Function with unique PDE: $u(t,x)=(x+t)\\arccos(sech(t))$\n",
    "The function $u$ solves only the equation $u_t=u_x+\\frac{u}{u_x}\\cos(u)$."
   ]
  },
  {
   "cell_type": "code",
   "execution_count": 3,
   "id": "ba24138a",
   "metadata": {},
   "outputs": [
    {
     "name": "stdout",
     "output_type": "stream",
     "text": [
      "analytic_unique_1\n",
      "(t + x)*acos(1/cosh(1.7497654730547*t))\n"
     ]
    }
   ],
   "source": [
    "experiment_name = 'analytic_unique_1'\n",
    "n=200\n",
    "u,x,t,formula = experiment_data(n_samples=n,experiment_name=experiment_name)\n",
    "print(experiment_name)\n",
    "print(formula)\n",
    "dx=x[1]-x[0]\n",
    "dt=t[1]-t[0]\n",
    "x_0, x_end =x[0], x[n-1]\n",
    "t_0, t_end = t[0], t[n-1]"
   ]
  },
  {
   "cell_type": "markdown",
   "id": "033ae7ea",
   "metadata": {},
   "source": [
    "As we do not include the cosine in the feature library, the models have problems computing a PDE.\n",
    "## Check now numerically that this is the unique equation\n",
    "\n",
    "We already know that the equation is unique as the image set has non-zero measure, so let us show this by using the Jacobi criterion for analytic function. First, we have to compute the additional derivatives."
   ]
  },
  {
   "cell_type": "code",
   "execution_count": 4,
   "id": "2ae69195",
   "metadata": {},
   "outputs": [],
   "source": []
  },
  {
   "cell_type": "code",
   "execution_count": 5,
   "id": "e7df1cde-fbc1-4225-b5b9-9278cb4612e0",
   "metadata": {},
   "outputs": [],
   "source": [
    "\n"
   ]
  },
  {
   "cell_type": "code",
   "execution_count": 6,
   "id": "aac72fd7-bf13-48da-9e8c-8483bd3b68e9",
   "metadata": {},
   "outputs": [
    {
     "name": "stdout",
     "output_type": "stream",
     "text": [
      "(19, 19)\n"
     ]
    }
   ],
   "source": [
    "space_range = int(len(x)/10-1)\n",
    "time_range = int(len(x)/10-1)\n",
    "print((space_range,time_range))\n",
    "fd_orders = [2, 7]\n",
    "svs = jacobi_criterion(u,space_range,time_range,fd_orders)"
   ]
  },
  {
   "cell_type": "code",
   "execution_count": 7,
   "id": "9daaf499",
   "metadata": {},
   "outputs": [
    {
     "data": {
      "image/png": "[encoded data removed]",
      "text/plain": [
       "<Figure size 640x480 with 4 Axes>"
      ]
     },
     "metadata": {},
     "output_type": "display_data"
    }
   ],
   "source": [
    "t_grid, x_grid = (np.arange(time_range) * 10 + 10) / len(t) * (t[len(t)-1] - t[0]) + t[0], (np.arange(space_range) * 10 + 10) / len(x) * (x[len(x)-1] - x[0]) + x[0]\n",
    "plot_result_jacobi(svs,t_grid,x_grid,target_noise=0,fd_orders=fd_orders)"
   ]
  }
 ],
 "metadata": {
  "kernelspec": {
   "display_name": "Python 3 (ipykernel)",
   "language": "python",
   "name": "python3"
  },
  "language_info": {
   "codemirror_mode": {
    "name": "ipython",
    "version": 3
   },
   "file_extension": ".py",
   "mimetype": "text/x-python",
   "name": "python",
   "nbconvert_exporter": "python",
   "pygments_lexer": "ipython3",
   "version": "3.8.17"
  }
 },
 "nbformat": 4,
 "nbformat_minor": 5
}
