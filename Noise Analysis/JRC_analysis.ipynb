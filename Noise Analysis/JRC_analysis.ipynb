{
 "cells": [
  {
   "cell_type": "code",
   "execution_count": 1,
   "id": "239e68c8",
   "metadata": {},
   "outputs": [],
   "source": [
    "import numpy as np\n",
    "import matplotlib.pyplot as plt\n",
    "from mpl_toolkits.mplot3d import Axes3D\n",
    "import numpy as np\n",
    "from sklearn.linear_model import Lasso\n",
    "from scipy.io import loadmat\n",
    "from sklearn.metrics import mean_squared_error\n",
    "from scipy.integrate import solve_ivp\n",
    "import os\n",
    "import sys\n",
    "sys.path.append('../')  \n",
    "\n",
    "import pysindy as ps\n",
    "# Seed the random number generators for reproducibility\n",
    "np.random.seed(100)"
   ]
  },
  {
   "cell_type": "code",
   "execution_count": null,
   "id": "cafd0d50-d7ab-4545-8a5e-fb224b36490e",
   "metadata": {},
   "outputs": [
    {
     "ename": "",
     "evalue": "",
     "output_type": "error",
     "traceback": [
      "\u001b[1;31mFailed to start the Kernel. \n",
      "\u001b[1;31mUnable to start Kernel 'uniq (Python 3.8.17)' due to a timeout waiting for the ports to get used. \n",
      "\u001b[1;31mView Jupyter <a href='command:jupyter.viewOutput'>log</a> for further details."
     ]
    }
   ],
   "source": [
    "from test_data import experiment_data,add_noise,normalise_frobenius,normalise_minmax,create_data_2d\n",
    "from numpy.linalg import matrix_rank, svd\n",
    "from itertools import product\n",
    "from utils import plot_result_jacobi\n",
    "from error_bounds import *"
   ]
  },
  {
   "cell_type": "code",
   "execution_count": null,
   "id": "8be53609-73d1-4200-85f5-b1978566ba84",
   "metadata": {},
   "outputs": [
    {
     "ename": "",
     "evalue": "",
     "output_type": "error",
     "traceback": [
      "\u001b[1;31mFailed to start the Kernel. \n",
      "\u001b[1;31mUnable to start Kernel 'uniq (Python 3.8.17)' due to a timeout waiting for the ports to get used. \n",
      "\u001b[1;31mView Jupyter <a href='command:jupyter.viewOutput'>log</a> for further details."
     ]
    }
   ],
   "source": [
    "def get_derivatives(u,dt,dx,fd_order,drop_endpoints=True,remove_endpoints=True):\n",
    "    #Compute the derivatives\n",
    "    ut_fd = ps.FiniteDifference(order=fd_order, d=1, axis=1, drop_endpoints=drop_endpoints)._differentiate(u, t=dt)\n",
    "    utx_fd = ps.FiniteDifference(order=fd_order, d=1, axis=0, drop_endpoints=drop_endpoints)._differentiate(ut_fd, dx)\n",
    "    ux_fd = ps.FiniteDifference(order=fd_order, d=1, axis=0, drop_endpoints=drop_endpoints)._differentiate(u, dx)\n",
    "    uxx_fd = ps.FiniteDifference(order=fd_order, d=2, axis=0, drop_endpoints=drop_endpoints)._differentiate(u, dx) \n",
    "\n",
    "    if remove_endpoints:\n",
    "        #Filter out the boundary values\n",
    "        filter_func=utx_fd\n",
    "        ut_fd= ut_fd[~np.isnan(filter_func).all(axis=1)][:, ~np.isnan(filter_func).all(axis=0)]\n",
    "        utx_fd= utx_fd[~np.isnan(filter_func).all(axis=1)][:, ~np.isnan(filter_func).all(axis=0)]\n",
    "        ux_fd= ux_fd[~np.isnan(filter_func).all(axis=1)][:, ~np.isnan(filter_func).all(axis=0)]\n",
    "        uxx_fd= uxx_fd[~np.isnan(filter_func).all(axis=1)][:, ~np.isnan(filter_func).all(axis=0)]\n",
    "    return ut_fd, utx_fd,ux_fd, uxx_fd\n",
    "\n",
    "def drop_endpoints(func_fd,func_true,filter_func):\n",
    "    func_true = func_true[~np.isnan(filter_func).all(axis=1)][:, ~np.isnan(filter_func).all(axis=0)]\n",
    "    func_fd= func_fd[~np.isnan(filter_func).all(axis=1)][:, ~np.isnan(filter_func).all(axis=0)]\n",
    "    return func_fd,func_true"
   ]
  },
  {
   "cell_type": "markdown",
   "id": "7a1235b4-2c84-4bd8-9f0c-14e422c930e4",
   "metadata": {},
   "source": [
    "We want to get a threshold and error bound for analysing a analytic or polynomial PDE as unique. We can reuse the functions from the SFranco method."
   ]
  },
  {
   "cell_type": "markdown",
   "id": "e95ff0ad-1f53-43eb-81f1-b3e0b7094e58",
   "metadata": {},
   "source": [
    "## Easy examples: $u_1 = x^2 + t^2$ and $u_2 = exp(x-at)$"
   ]
  },
  {
   "cell_type": "code",
   "execution_count": null,
   "id": "72b468e4-7331-4bb0-945e-2893b24a2eed",
   "metadata": {},
   "outputs": [
    {
     "ename": "",
     "evalue": "",
     "output_type": "error",
     "traceback": [
      "\u001b[1;31mFailed to start the Kernel. \n",
      "\u001b[1;31mUnable to start Kernel 'uniq (Python 3.8.17)' due to a timeout waiting for the ports to get used. \n",
      "\u001b[1;31mView Jupyter <a href='command:jupyter.viewOutput'>log</a> for further details."
     ]
    }
   ],
   "source": [
    "n_samples=50\n",
    "T,X,t,x = create_data_2d(T_start=-2, T_end=2, L_x_start=0,L_x_end=5, N_t=n_samples, N_x=n_samples)\n",
    "a=np.random.randn()\n",
    "\"\"\"\n",
    "#not unique\n",
    "u = X**2 + T**2\n",
    "ux = 2*X\n",
    "ut = 2*T\n",
    "utx = 0*T\n",
    "uxx = 2*np.ones(X.shape)\n",
    "\"\"\"\n",
    "\n",
    "#not unqiue\n",
    "u = np.exp(X-a*T)\n",
    "ux = u\n",
    "ut = -a*u\n",
    "utx = -a*u\n",
    "uxx = u\n",
    "\"\"\"\n",
    "#analytic unique\n",
    "u=(X + T)*np.arccos(1/np.cosh(a*T))\n",
    "ut = a*(T + X)*np.sinh(T*a)/(np.sqrt(1 - 1/np.cosh(T*a)**2)*np.cosh(T*a)**2) + np.arccos(1/np.cosh(T*a))\n",
    "ux = np.arccos(1/np.cosh(T*a))\n",
    "utx = a*np.sinh(T*a)/(np.sqrt(1 - 1/np.cosh(T*a)**2)*np.cosh(T*a)**2)\n",
    "uxx = np.zeros(X.shape)\n",
    "\"\"\"\n",
    "print(f\"a {a}\")\n",
    "dt=t[1]-t[0]\n",
    "dx=x[1]-x[0]"
   ]
  },
  {
   "cell_type": "markdown",
   "id": "1575e015-762e-45ea-b7ef-1cc0efe6c78e",
   "metadata": {},
   "source": [
    "#### Compare the error on finite differences on the Jacobian of $g = ( u | u_x)$"
   ]
  },
  {
   "cell_type": "code",
   "execution_count": null,
   "id": "ef154aba-0e4c-4681-ad8b-b130e49258b6",
   "metadata": {},
   "outputs": [
    {
     "ename": "",
     "evalue": "",
     "output_type": "error",
     "traceback": [
      "\u001b[1;31mFailed to start the Kernel. \n",
      "\u001b[1;31mUnable to start Kernel 'uniq (Python 3.8.17)' due to a timeout waiting for the ports to get used. \n",
      "\u001b[1;31mView Jupyter <a href='command:jupyter.viewOutput'>log</a> for further details."
     ]
    }
   ],
   "source": [
    "#Compute the derivatives\n",
    "fd_order=10\n",
    "ut_fd, utx_fd,ux_fd, uxx_fd = get_derivatives(u,dt,dx,fd_order,drop_endpoints=True,remove_endpoints=False)\n",
    "\n",
    "#Filter out the boundary values\n",
    "filter_func = utx_fd\n",
    "ut_fd,ut = drop_endpoints(ut_fd,ut,filter_func)\n",
    "utx_fd,utx = drop_endpoints(utx_fd,utx,filter_func)\n",
    "ux_fd,ux = drop_endpoints(ux_fd,ux,filter_func)\n",
    "uxx_fd,uxx = drop_endpoints(uxx_fd,uxx,filter_func)"
   ]
  },
  {
   "cell_type": "markdown",
   "id": "3faaefb6-3c64-4948-a7a1-413602b963ab",
   "metadata": {},
   "source": [
    "##### Compare the upper bounds for different derivatives and the Jacobian"
   ]
  },
  {
   "cell_type": "markdown",
   "id": "4dac0da2-1b69-483e-8e3e-af140f24f1b5",
   "metadata": {},
   "source": [
    "###### Without noise"
   ]
  },
  {
   "cell_type": "markdown",
   "id": "a9e34cd4-e9a3-43d8-a375-0c8f7e40f69f",
   "metadata": {},
   "source": [
    "Lets calculate an upper bound for the different derivatives"
   ]
  },
  {
   "cell_type": "code",
   "execution_count": null,
   "id": "20e69329-721c-48ac-8697-ebf7ed1cd322",
   "metadata": {},
   "outputs": [
    {
     "ename": "",
     "evalue": "",
     "output_type": "error",
     "traceback": [
      "\u001b[1;31mFailed to start the Kernel. \n",
      "\u001b[1;31mUnable to start Kernel 'uniq (Python 3.8.17)' due to a timeout waiting for the ports to get used. \n",
      "\u001b[1;31mView Jupyter <a href='command:jupyter.viewOutput'>log</a> for further details."
     ]
    }
   ],
   "source": [
    "eps=1e-15\n",
    "\n",
    "bound_ut = upper_bound_central_differences(eps,fd_order,order_derivative=1,Cu=infinity_norm(a**(fd_order+1)*u),Cxi=1.0,h=dt)\n",
    "bound_ux = upper_bound_central_differences(eps,fd_order,order_derivative=1,Cu=infinity_norm(u),Cxi=1.0,h=dx)\n",
    "bound_uxx = upper_bound_central_differences(eps,fd_order,order_derivative=2,Cu=infinity_norm(u),Cxi=1.0,h=dx)\n",
    "bound_utx = upper_bound_central_differences(bound_ut,fd_order,order_derivative=1,Cu=infinity_norm(ut),Cxi=1.0,h=dx)\n",
    "\n",
    "print(f\" |ut_fd - ut| \\t= {infinity_norm((ut_fd-ut).flatten()):.3e} <= {bound_ut:.3e}\")\n",
    "print(f\" |ux_fd - ux| \\t= {infinity_norm((ux_fd-ux).flatten()):.3e} <= {bound_ux:.3e}\")\n",
    "print(f\" |uxx_fd - uxx|\\t= {infinity_norm((uxx_fd-uxx).flatten()):.3e} <= {bound_uxx:.3e}\")\n",
    "print(f\" |utx_fd - utx|\\t= {infinity_norm((utx_fd-utx).flatten()):.3e} <= {bound_utx:.3e}\")"
   ]
  },
  {
   "cell_type": "code",
   "execution_count": null,
   "id": "0899ad22-abf3-4f59-af49-fbb34d5a871a",
   "metadata": {
    "scrolled": true
   },
   "outputs": [
    {
     "ename": "",
     "evalue": "",
     "output_type": "error",
     "traceback": [
      "\u001b[1;31mFailed to start the Kernel. \n",
      "\u001b[1;31mUnable to start Kernel 'uniq (Python 3.8.17)' due to a timeout waiting for the ports to get used. \n",
      "\u001b[1;31mView Jupyter <a href='command:jupyter.viewOutput'>log</a> for further details."
     ]
    }
   ],
   "source": [
    "space_range = int(ut.shape[0]/10-1)\n",
    "time_range = int(ut.shape[1]/10-1)\n",
    "jacobians =[]\n",
    "upperbounds=[]\n",
    "for i in range(space_range):\n",
    "    for j in range(time_range):\n",
    "        x_i, t_j = i * 10 + 10, j * 10 + 10\n",
    "        jacobian_fd = np.array([[ut_fd[x_i,t_j], ux_fd[x_i,t_j]], [utx_fd[x_i,t_j], uxx_fd[x_i,t_j]]]).reshape(2,2)\n",
    "        jacobian = np.array([[ut[x_i,t_j], ux[x_i,t_j]], [utx[x_i,t_j], uxx[x_i,t_j]]]).reshape(2,2)\n",
    "\n",
    "        jacobian_diff = np.linalg.norm(jacobian_fd -jacobian)\n",
    "        nr_datapoints=1\n",
    "        upperbound = np.sqrt(bound_ut**2+bound_ux**2 + bound_uxx**2+bound_utx**2)\n",
    "\n",
    "        jacobians.append(jacobian_diff)\n",
    "        upperbounds.append(upperbound)\n",
    "\n",
    "        print(\"Check wether upper bound is correct:\")\n",
    "        print(f\"|JG-JG_fd|= {jacobian_diff:.3e} <= {upperbound:.3e}\")\n",
    "\n",
    "plt.plot(jacobians,label=\"|JG-JG_fd|\")\n",
    "plt.plot(upperbounds, label=\"upper bound\")\n",
    "plt.xlabel(\"Datapoints\")\n",
    "plt.ylabel(\"Value\")\n",
    "plt.legend()\n",
    "plt.show()"
   ]
  },
  {
   "cell_type": "code",
   "execution_count": null,
   "id": "e1ad23e2-123c-4159-85d8-a8cf240e553d",
   "metadata": {
    "scrolled": true
   },
   "outputs": [
    {
     "ename": "",
     "evalue": "",
     "output_type": "error",
     "traceback": [
      "\u001b[1;31mFailed to start the Kernel. \n",
      "\u001b[1;31mUnable to start Kernel 'uniq (Python 3.8.17)' due to a timeout waiting for the ports to get used. \n",
      "\u001b[1;31mView Jupyter <a href='command:jupyter.viewOutput'>log</a> for further details."
     ]
    }
   ],
   "source": [
    "M=infinity_norm(u)\n",
    "number_noise=10 #<=10\n",
    "noise_levels = [0]+[10**(-10+i) for i in range(0,number_noise-1)]\n",
    "orders=range(2,10,2)\n",
    "unorm2=np.sqrt(np.mean(np.square(u)))\n",
    "\n",
    "for noise_level in noise_levels: \n",
    "    var = noise_level * unorm2\n",
    "    noise = np.random.normal(0, var, size=u.shape)\n",
    "    u_noise = u + noise\n",
    "    print(f\"Noise level {noise_level}\")\n",
    "    #Calculate upper bounds\n",
    "    eps = infinity_norm(u-u_noise)\n",
    "    bound_ut = upper_bound_central_differences(eps,fd_order,order_derivative=1,Cu=infinity_norm(a**(fd_order+1)*u),Cxi=1.0,h=dt)\n",
    "    bound_ux = upper_bound_central_differences(eps,fd_order,order_derivative=1,Cu=infinity_norm(u),Cxi=1.0,h=dx)\n",
    "    bound_uxx = upper_bound_central_differences(eps,fd_order,order_derivative=2,Cu=infinity_norm(u),Cxi=1.0,h=dx)\n",
    "    bound_utx = upper_bound_central_differences(bound_ut,fd_order,order_derivative=1,Cu=infinity_norm(ut),Cxi=1.0,h=dx)\n",
    "    \n",
    "    #Calculate derivatives\n",
    "    ut_fd, utx_fd,ux_fd, uxx_fd= get_derivatives(u_noise,dt,dx,fd_order)\n",
    "    \n",
    "    print(f\" |ut_fd - ut| \\t= {infinity_norm((ut_fd-ut).flatten()):.3e} <= {bound_ut:.3e}\")\n",
    "    print(f\" |ux_fd - ux| \\t= {infinity_norm((ux_fd-ux).flatten()):.3e} <= {bound_ux:.3e}\")\n",
    "    print(f\" |uxx_fd - uxx|\\t= {infinity_norm((uxx_fd-uxx).flatten()):.3e} <= {bound_uxx:.3e}\")\n",
    "    print(f\" |utx_fd - utx|\\t= {infinity_norm((utx_fd-utx).flatten()):.3e} <= {bound_utx:.3e}\")\n",
    "    \n",
    "    jacobians =[]\n",
    "    #Calculate upper bound which stays constant for all data points(only changes in noise level)\n",
    "    nr_datapoints=1\n",
    "    upperbound = np.sqrt(bound_ut**2+bound_ux**2 + bound_uxx**2+bound_utx**2)\n",
    "    print(f\"Upper bound {upperbound:.3e}\")\n",
    "    for i in range(space_range):\n",
    "        for j in range(time_range):\n",
    "            #Compute differenc between true Jacobian and finite difference Jacobian\n",
    "            x_i, t_j = i * 10 + 10, j * 10 + 10\n",
    "            jacobian_fd = np.array([[ut_fd[x_i,t_j], ux_fd[x_i,t_j]], [utx_fd[x_i,t_j], uxx_fd[x_i,t_j]]]).reshape(2,2)\n",
    "            jacobian = np.array([[ut[x_i,t_j], ux[x_i,t_j]], [utx[x_i,t_j], uxx[x_i,t_j]]]).reshape(2,2)\n",
    "            jacobian_diff = np.linalg.norm(jacobian_fd -jacobian)    \n",
    "            jacobians.append(jacobian_diff)\n",
    "    \n",
    "            #print(\"Check wether upper bound is correct:\")\n",
    "            #print(f\"|JG-JG_fd|= {jacobian_diff:.3e} <= {upperbound:.3e}\")\n",
    "    plt.title(f\"Noise level {noise_level}, Order {fd_order}\")\n",
    "    plt.plot(jacobians,label=\"|JG-JG_fd|\")\n",
    "    plt.axhline(y=upperbound, color='r', linestyle='-',label=\"upperbound\")\n",
    "    plt.xlabel(\"Datapoints\")\n",
    "    plt.ylabel(\"Value\")\n",
    "    plt.legend()\n",
    "    filename = f\"Images/noise_{noise_level}_order_{fd_order}.png\"\n",
    "    plt.savefig(filename)\n",
    "    plt.show()"
   ]
  },
  {
   "cell_type": "markdown",
   "id": "3529da1d-9ccf-4516-bb9f-d56384224d40",
   "metadata": {},
   "source": [
    "Compare Jacobians and singular values"
   ]
  },
  {
   "cell_type": "code",
   "execution_count": null,
   "id": "7d8d1a1e-44d9-4b9c-ba57-77d0a8980362",
   "metadata": {},
   "outputs": [
    {
     "ename": "",
     "evalue": "",
     "output_type": "error",
     "traceback": [
      "\u001b[1;31mFailed to start the Kernel. \n",
      "\u001b[1;31mUnable to start Kernel 'uniq (Python 3.8.17)' due to a timeout waiting for the ports to get used. \n",
      "\u001b[1;31mView Jupyter <a href='command:jupyter.viewOutput'>log</a> for further details."
     ]
    }
   ],
   "source": [
    "def get_upper_bound_jacobian(eps,fd_order,Cut,Cux,Cuxx,Cutx,dt,dx,Cxi=1.0):\n",
    "\n",
    "    bound_ut = upper_bound_central_differences(eps,fd_order,order_derivative=1,Cu=Cut,Cxi=Cxi,h=dt)\n",
    "    bound_ux = upper_bound_central_differences(eps,fd_order,order_derivative=1,Cu=Cux,Cxi=Cxi,h=dx)\n",
    "    bound_uxx = upper_bound_central_differences(eps,fd_order,order_derivative=2,Cu=Cuxx,Cxi=Cxi,h=dx)\n",
    "    bound_utx = upper_bound_central_differences(bound_ut,fd_order,order_derivative=1,Cu=Cutx,Cxi=Cxi,h=dx)\n",
    "\n",
    "    upper_bound = np.sqrt(bound_ut**2+bound_ux**2 + bound_uxx**2+bound_utx**2)\n",
    "    \n",
    "    return upper_bound"
   ]
  },
  {
   "cell_type": "code",
   "execution_count": null,
   "id": "44becf01-8a1c-4a4c-9b42-3fab67d45f16",
   "metadata": {
    "scrolled": true
   },
   "outputs": [
    {
     "ename": "",
     "evalue": "",
     "output_type": "error",
     "traceback": [
      "\u001b[1;31mFailed to start the Kernel. \n",
      "\u001b[1;31mUnable to start Kernel 'uniq (Python 3.8.17)' due to a timeout waiting for the ports to get used. \n",
      "\u001b[1;31mView Jupyter <a href='command:jupyter.viewOutput'>log</a> for further details."
     ]
    }
   ],
   "source": [
    "space_range = int(ut.shape[1]/10-2)\n",
    "time_range = int(ut.shape[0]/10-2)\n",
    "\n",
    "#For saving results\n",
    "svs = np.zeros([space_range, time_range])\n",
    "svs_fd = np.zeros([space_range, time_range])\n",
    "upper_bounds = np.zeros([space_range, time_range])\n",
    "lower_bounds = np.zeros([space_range, time_range])\n",
    "\n",
    "ut_fd, utx_fd,ux_fd, uxx_fd = get_derivatives(u,dt,dx,fd_order)\n",
    "\n",
    "for i in range(space_range):\n",
    "    for j in range(time_range):\n",
    "        x_i, t_j = i * 10 + 10, j * 10 + 10\n",
    "        jacobian_fd = np.array([[ut_fd[x_i,t_j], ux_fd[x_i,t_j]], [utx_fd[x_i,t_j], uxx_fd[x_i,t_j]]]).reshape(2,2)\n",
    "        jacobian = np.array([[ut[x_i,t_j], ux[x_i,t_j]], [utx[x_i,t_j], uxx[x_i,t_j]]]).reshape(2,2)\n",
    "        \n",
    "\n",
    "        sv = svd(jacobian, compute_uv=False)\n",
    "        sv_fd = svd(jacobian_fd, compute_uv=False)\n",
    "        sv_min,sv_min_fd =sv  [-1],sv_fd[-1]\n",
    "        sv_max,sv_max_fd =sv[0],sv_fd[0]\n",
    "\n",
    "        #Save the results \n",
    "        svs[i,j] = sv_min/sv_max\n",
    "        svs_fd[i,j] =sv_min_fd/sv_max_fd\n",
    "        jacobian_diff=np.linalg.norm(jacobian_fd -jacobian)\n",
    "        upper_bound_jacobian = get_upper_bound_jacobian(1e-16,fd_order,infinity_norm(a**(fd_order+1)*u),\n",
    "                                                        infinity_norm(u),infinity_norm(u),infinity_norm(ut),dt,dx)\n",
    "        print(\"Jacobian diff \", jacobian_diff, \"upper_bound_jacobian\",upper_bound_jacobian)\n",
    "        \n",
    "        C1=sv_max*1.5 #C1 => o_max\n",
    "        C=sv_max*0.5 #C <= o_max\n",
    "        C2=1e-4\n",
    "        lower_bound = lower_bound_nonsingular_matrix(C1,C2,jacobian_diff)\n",
    "        upper_bound = upper_bound_singular_matrix(C,jacobian_diff)\n",
    "\n",
    "        lower_bound_nonexact = lower_bound_nonsingular_matrix(C1,C2,upper_bound_jacobian)\n",
    "        upper_bound_nonexact = upper_bound_singular_matrix(C,upper_bound_jacobian)\n",
    "\n",
    "        lower_bounds[i,j]=lower_bound\n",
    "        upper_bounds[i,j]=upper_bound\n",
    "        \n",
    "        print(f\" Comparison at x = {x_i}, t = {t_j} \")\n",
    "        print(f\" \\t \\t \\t \\t Original \\t FD \\t \\t diff\")\n",
    "        print(f\" Smallest singular values \\t {sv_min:.3e}\\t  {sv_min_fd:.3e} \\t {np.abs(sv_min-sv_min_fd):.3e}\")\n",
    "        print(f\" Biggest singular values \\t {sv_max:.3e}\\t  {sv_max_fd:.3e} \\t {np.abs(sv_max-sv_max_fd):.3e}\")\n",
    "        print(f\" Differences Jacobian \\t \\t {jacobian_diff:.3e} <= {upper_bound_jacobian:.3e}\")\n",
    "        print(\" Bounds with jacobian difference\")\n",
    "        print(f\" \\t Lower bound for uniqueness: \\t  {svs_fd[i,j]:.3e} >= {lower_bound:.3e}\")\n",
    "        print(f\" \\t Upper bound for non uniqueness:  {svs_fd[i,j]:.3e} <= {upper_bound:.3e}\")\n",
    "        print(\" Bounds with upper bound on jacobian difference\")\n",
    "        print(f\" \\t Lower bound for uniqueness: \\t  {svs_fd[i,j]:.3e} >= {lower_bound_nonexact:.3e}\")\n",
    "        print(f\" \\t Upper bound for non uniqueness:  {svs_fd[i,j]:.3e} <= {upper_bound_nonexact:.3e}\")\n",
    "        print(f\" True ratio: \\t  \\t \\t  {svs[i,j]:.3e} \")"
   ]
  },
  {
   "cell_type": "code",
   "execution_count": null,
   "id": "8a2cb825-7484-4250-b09a-f2c152219db2",
   "metadata": {},
   "outputs": [
    {
     "ename": "",
     "evalue": "",
     "output_type": "error",
     "traceback": [
      "\u001b[1;31mFailed to start the Kernel. \n",
      "\u001b[1;31mUnable to start Kernel 'uniq (Python 3.8.17)' due to a timeout waiting for the ports to get used. \n",
      "\u001b[1;31mView Jupyter <a href='command:jupyter.viewOutput'>log</a> for further details."
     ]
    }
   ],
   "source": [
    "from matplotlib.colors import LinearSegmentedColormap\n",
    "green=(100/255,250/255,100/255)#(0,1,0)\n",
    "red=(241/255,13/255,30/255)\n",
    "cmap_green_red = LinearSegmentedColormap.from_list('RedGreen', [green,red], N=256)\n",
    "cmap_red_green = LinearSegmentedColormap.from_list('GreenRed', [red,green], N=256)"
   ]
  },
  {
   "cell_type": "code",
   "execution_count": null,
   "id": "cb97ca7e",
   "metadata": {},
   "outputs": [
    {
     "ename": "",
     "evalue": "",
     "output_type": "error",
     "traceback": [
      "\u001b[1;31mFailed to start the Kernel. \n",
      "\u001b[1;31mUnable to start Kernel 'uniq (Python 3.8.17)' due to a timeout waiting for the ports to get used. \n",
      "\u001b[1;31mView Jupyter <a href='command:jupyter.viewOutput'>log</a> for further details."
     ]
    }
   ],
   "source": [
    "lower_bounds"
   ]
  },
  {
   "cell_type": "code",
   "execution_count": null,
   "id": "fbab3989",
   "metadata": {},
   "outputs": [
    {
     "ename": "",
     "evalue": "",
     "output_type": "error",
     "traceback": [
      "\u001b[1;31mFailed to start the Kernel. \n",
      "\u001b[1;31mUnable to start Kernel 'uniq (Python 3.8.17)' due to a timeout waiting for the ports to get used. \n",
      "\u001b[1;31mView Jupyter <a href='command:jupyter.viewOutput'>log</a> for further details."
     ]
    }
   ],
   "source": [
    "upper_bounds"
   ]
  },
  {
   "cell_type": "code",
   "execution_count": null,
   "id": "af52ebdb",
   "metadata": {},
   "outputs": [
    {
     "ename": "",
     "evalue": "",
     "output_type": "error",
     "traceback": [
      "\u001b[1;31mFailed to start the Kernel. \n",
      "\u001b[1;31mUnable to start Kernel 'uniq (Python 3.8.17)' due to a timeout waiting for the ports to get used. \n",
      "\u001b[1;31mView Jupyter <a href='command:jupyter.viewOutput'>log</a> for further details."
     ]
    }
   ],
   "source": [
    "svs_flat = svs.flatten()\n",
    "lower_bounds_flat = lower_bounds.flatten()\n",
    "upper_bounds_flat = upper_bounds.flatten()\n",
    "\n",
    "# Get the maximum value among the maximum values of all three arrays\n"
   ]
  },
  {
   "cell_type": "code",
   "execution_count": null,
   "id": "61095ad0",
   "metadata": {},
   "outputs": [
    {
     "ename": "",
     "evalue": "",
     "output_type": "error",
     "traceback": [
      "\u001b[1;31mFailed to start the Kernel. \n",
      "\u001b[1;31mUnable to start Kernel 'uniq (Python 3.8.17)' due to a timeout waiting for the ports to get used. \n",
      "\u001b[1;31mView Jupyter <a href='command:jupyter.viewOutput'>log</a> for further details."
     ]
    }
   ],
   "source": [
    "def plot_ratio_upper_lower_old(svs,lower_bounds,upper_bounds,title=\"\"):\n",
    "    fig, ax = plt.subplots(1, 1, sharex=True, figsize=(6, 4))\n",
    "    n=len(svs.flatten())\n",
    "    ax.set_title(title)\n",
    "\n",
    "    max_value = np.maximum.reduce([svs.flatten().max(), lower_bounds.flatten().max(), upper_bounds_flat.flatten().max()])\n",
    "\n",
    "    ax.plot( svs.flatten(),color='blue')\n",
    "    ax.fill_between(np.arange(n),lower_bounds.flatten(), max_value,color='coral', alpha=0.3)\n",
    "    ax.plot(lower_bounds.flatten(),label=\"unique\",color='coral')\n",
    "    ax.set_ylabel('Threshold/Ratio')\n",
    "\n",
    "\n",
    "    ax.fill_between(np.arange(n),upper_bounds.flatten(), y2=0, color='aquamarine', alpha=0.3)\n",
    "    ax.set_yscale('log')\n",
    "    ax.plot(upper_bounds.flatten(),label=\"not unique\", color='aquamarine')\n",
    "\n",
    "    ax.set_xlabel('Datapoints')\n",
    "    ax.legend(loc=4)"
   ]
  },
  {
   "cell_type": "code",
   "execution_count": null,
   "id": "3365ab2f",
   "metadata": {},
   "outputs": [
    {
     "ename": "",
     "evalue": "",
     "output_type": "error",
     "traceback": [
      "\u001b[1;31mFailed to start the Kernel. \n",
      "\u001b[1;31mUnable to start Kernel 'uniq (Python 3.8.17)' due to a timeout waiting for the ports to get used. \n",
      "\u001b[1;31mView Jupyter <a href='command:jupyter.viewOutput'>log</a> for further details."
     ]
    }
   ],
   "source": [
    "# Create subplots\n",
    "plot_ratio_upper_lower_old(svs,lower_bounds,upper_bounds,f\"Noise level {0}, Order {fd_order}\")"
   ]
  },
  {
   "cell_type": "code",
   "execution_count": null,
   "id": "9a65926e-f2b6-4956-a7b0-e5cba90c509d",
   "metadata": {
    "scrolled": true
   },
   "outputs": [
    {
     "ename": "",
     "evalue": "",
     "output_type": "error",
     "traceback": [
      "\u001b[1;31mFailed to start the Kernel. \n",
      "\u001b[1;31mUnable to start Kernel 'uniq (Python 3.8.17)' due to a timeout waiting for the ports to get used. \n",
      "\u001b[1;31mView Jupyter <a href='command:jupyter.viewOutput'>log</a> for further details."
     ]
    }
   ],
   "source": [
    "t_grid, x_grid = (np.arange(time_range) * 10 + 10) / len(t) * (t[len(t)-1] - t[0]) + t[0], (np.arange(space_range) * 10 + 10) / len(x) * (x[len(x)-1] - x[0]) + x[0]\n",
    "# Plot derivative results\n",
    "subtitle_size=16\n",
    "tickssize=16\n",
    "order=fd_order\n",
    "fig, axes = plt.subplots(1,3, figsize=(12,4))\n",
    "plt.suptitle(f'Noise level 0', fontsize=subtitle_size,y=1.1)\n",
    "\n",
    "#Plot the ratios\n",
    "c = axes[0].pcolor(t_grid, x_grid, svs)\n",
    "axes[0].set_title('Ratio', fontsize=tickssize)\n",
    "axes[0].set_ylabel('x', fontsize=tickssize)\n",
    "axes[0].set_xlabel('t', fontsize=tickssize)\n",
    "fig.colorbar(c, ax=axes[0])\n",
    "\n",
    "upper_minus_svs = upper_bounds - svs # <= 0 if unique >= 0 if non-unique\n",
    "lower_minus_svs = lower_bounds - svs # <= 0 if unique >= 0 if non-unique\n",
    "max_svs= np.max(np.abs(upper_minus_svs))\n",
    "#Plot difference to upper bound\n",
    "axes[1].set_title('Upper bound - ratio', fontsize=tickssize)\n",
    "c=axes[1].pcolor(t_grid, x_grid, upper_minus_svs,cmap=cmap_red_green,vmin=-max_svs, vmax=max_svs)\n",
    "axes[1].set_yticks([])\n",
    "fig.colorbar(c, ax=axes[1])\n",
    "\n",
    "#Plot difference to lower bound\n",
    "max_svs= np.max(np.abs(lower_minus_svs))\n",
    "axes[2].set_title('Lower bound - ratio', fontsize=tickssize)\n",
    "c = axes[2].pcolor(t_grid, x_grid, lower_minus_svs, cmap=cmap_red_green, vmin=-max_svs, vmax=max_svs)\n",
    "axes[2].set_yticks([])\n",
    "cb = fig.colorbar(c, ax=axes[2])\n",
    "ticks=np.linspace(-max_svs, max_svs,7) \n",
    "cb.set_ticks(ticks)\n",
    "cb.set_ticklabels(['Unique', f'{ticks[1]:.4f}',f'{ticks[2]:.4f}',f'{ticks[3]:.4f}', f'{ticks[4]:.4f}', f'{ticks[5]:.4f}', 'Non-unique'])\n",
    "\n",
    "plt.tight_layout()"
   ]
  },
  {
   "cell_type": "markdown",
   "id": "57ef7f1f-3445-4ccd-9f63-dd8860ad15e7",
   "metadata": {},
   "source": [
    "### Test different noise levels on easy examples"
   ]
  },
  {
   "cell_type": "code",
   "execution_count": null,
   "id": "f8731e4f-90e8-481c-93c3-c91778ecb26b",
   "metadata": {},
   "outputs": [
    {
     "ename": "",
     "evalue": "",
     "output_type": "error",
     "traceback": [
      "\u001b[1;31mFailed to start the Kernel. \n",
      "\u001b[1;31mUnable to start Kernel 'uniq (Python 3.8.17)' due to a timeout waiting for the ports to get used. \n",
      "\u001b[1;31mView Jupyter <a href='command:jupyter.viewOutput'>log</a> for further details."
     ]
    }
   ],
   "source": [
    "def plot_results(upper_bounds, lower_bounds,svs,time_range,space_range,subtitle=\"\",subtitle_size=16,tickssize=16):\n",
    "    t_grid, x_grid = (np.arange(time_range) * 10 + 10) / len(t) * (t[len(t)-1] - t[0]) + t[0], (np.arange(space_range) * 10 + 10) / len(x) * (x[len(x)-1] - x[0]) + x[0]\n",
    "    fig, axes = plt.subplots(1,3, figsize=(12,4))\n",
    "    #Plot the ratios\n",
    "    c = axes[0].pcolor(t_grid, x_grid, svs)\n",
    "    axes[0].set_title('Ratio', fontsize=tickssize)\n",
    "    axes[0].set_ylabel('x', fontsize=tickssize)\n",
    "    axes[0].set_xlabel('t', fontsize=tickssize)\n",
    "    fig.colorbar(c, ax=axes[0])\n",
    "    \n",
    "    uupper_minus_svs = upper_bounds - svs # <= 0 if unique >= 0 if non-unique\n",
    "    lower_minus_svs = lower_bounds - svs # <= 0 if unique >= 0 if non-unique\n",
    "    max_svs= np.max(np.abs(upper_minus_svs))\n",
    "    #Plot difference to upper bound\n",
    "    plt.suptitle(subtitle, fontsize=subtitle_size,y=1.1)\n",
    "    \n",
    "    axes[1].set_title('Upper bound - ratio', fontsize=tickssize)\n",
    "    c=axes[1].pcolor(t_grid, x_grid, upper_minus_svs,cmap=cmap_red_green,vmin=-max_svs, vmax=max_svs)\n",
    "    axes[1].set_yticks\n",
    "    fig.colorbar(c, ax=axes[1])\n",
    "    \n",
    "    #Plot difference to lower bound\n",
    "    max_svs= np.max(np.abs(lower_minus_svs))\n",
    "    axes[2].set_title('Lower bound - ratio', fontsize=tickssize)\n",
    "    c = axes[2].pcolor(t_grid, x_grid, lower_minus_svs, cmap=cmap_red_green, vmin=-max_svs, vmax=max_svs)\n",
    "    axes[2].set_yticks([])\n",
    "    cb = fig.colorbar(c, ax=axes[2])\n",
    "    ticks=np.linspace(-max_svs, max_svs,7) \n",
    "    cb.set_ticks(ticks)\n",
    "    cb.set_ticklabels(['Unique', f'{ticks[1]:.4f}',f'{ticks[2]:.4f}',f'{ticks[3]:.4f}', f'{ticks[4]:.4f}', f'{ticks[5]:.4f}', 'Non-unique'])\n",
    "    #plt.savefig(f\"Images/JRC_{subtitle}\")\n",
    "    plt.tight_layout()\n"
   ]
  },
  {
   "cell_type": "code",
   "execution_count": null,
   "id": "8840348d-2e2d-446f-a4fd-96a664a700dc",
   "metadata": {},
   "outputs": [
    {
     "ename": "",
     "evalue": "",
     "output_type": "error",
     "traceback": [
      "\u001b[1;31mFailed to start the Kernel. \n",
      "\u001b[1;31mUnable to start Kernel 'uniq (Python 3.8.17)' due to a timeout waiting for the ports to get used. \n",
      "\u001b[1;31mView Jupyter <a href='command:jupyter.viewOutput'>log</a> for further details."
     ]
    }
   ],
   "source": [
    "def get_results(space_range,time_range,u,fd_order,dt,dx,eps):\n",
    "    \n",
    "    ut_fd, utx_fd,ux_fd, uxx_fd= get_derivatives(u,dt,dx,fd_order)\n",
    "    #For saving results\n",
    "    svs = np.zeros([space_range, time_range])\n",
    "    upper_bounds = np.zeros([space_range, time_range])\n",
    "    lower_bounds = np.zeros([space_range, time_range])  \n",
    "    \n",
    "    for i in range(space_range):\n",
    "        for j in range(time_range):\n",
    "            x_i, t_j = i * 10 + 10, j * 10 + 10\n",
    "            jacobian_fd = np.array([[ut_fd[x_i,t_j], ux_fd[x_i,t_j]], [utx_fd[x_i,t_j], uxx_fd[x_i,t_j]]]).reshape(2,2)\n",
    "\n",
    "            sv_fd = svd(jacobian_fd, compute_uv=False)\n",
    "            sv_min =sv_fd[-1]\n",
    "            sv_max =sv_fd[0]\n",
    "    \n",
    "            #Save the results \n",
    "            svs[i,j] = sv_min/sv_max\n",
    "            C1=sv_max*1.5\n",
    "            C=sv_max*0.5\n",
    "            C2=max(1e-3,sv_min*0.5)\n",
    "            #print(\"C2 :\", C2)\n",
    "\n",
    "            upper_bound_jacobian = get_upper_bound_jacobian(eps,fd_order,infinity_norm(a**(fd_order+1)*u),\n",
    "                                                infinity_norm(u),infinity_norm(u),infinity_norm(ut),dt,dx)\n",
    "\n",
    "            #Use the real difference between jacobian and jacobian_fd\n",
    "            #jacobian = np.array([[ut[x_i,t_j], ux[x_i,t_j]], [ut[x_i,t_j], ux[x_i,t_j]]]).reshape(2,2)\n",
    "            #upper_bound_jacobian = np.linalg.norm(jacobian-jacobian_fd)\n",
    "            \n",
    "            lower_bound = lower_bound_nonsingular_matrix(C1,C2,upper_bound_jacobian)\n",
    "            upper_bound = upper_bound_singular_matrix(C,upper_bound_jacobian)\n",
    "\n",
    "            lower_bounds[i,j]=lower_bound\n",
    "            upper_bounds[i,j]=upper_bound\n",
    "    return svs, lower_bounds,upper_bounds"
   ]
  },
  {
   "cell_type": "code",
   "execution_count": null,
   "id": "693d2b37",
   "metadata": {},
   "outputs": [
    {
     "ename": "",
     "evalue": "",
     "output_type": "error",
     "traceback": [
      "\u001b[1;31mFailed to start the Kernel. \n",
      "\u001b[1;31mUnable to start Kernel 'uniq (Python 3.8.17)' due to a timeout waiting for the ports to get used. \n",
      "\u001b[1;31mView Jupyter <a href='command:jupyter.viewOutput'>log</a> for further details."
     ]
    }
   ],
   "source": [
    "M=infinity_norm(u)\n",
    "number_noise=10 #<=10\n",
    "#noise_levels = [0]+[10**(-10+i) for i in range(0,number_noise-1)]\n",
    "noise_levels = [0,1e-08,1e-05,1e-02]\n",
    "orders=range(2,10,2)\n",
    "unorm2=np.sqrt(np.mean(np.square(u)))\n",
    "\n",
    "for noise_level in noise_levels:    \n",
    "    \n",
    "    var = noise_level * unorm2\n",
    "    noise = np.random.normal(0, var, size=u.shape)\n",
    "    u_noise = u + noise\n",
    "    eps = infinity_norm(u-u_noise)\n",
    "    \n",
    "    print(f\"Noise level {noise_level}\")\n",
    "    fd_orders=(2,8)\n",
    "    svs, lower_bounds,upper_bounds = get_results(space_range,time_range,u_noise,fd_orders[0],dt,dx,eps)\n",
    "    plot_results(upper_bounds, lower_bounds,svs,time_range,space_range,subtitle=f\"Noise level {noise_level}, Order {fd_orders[0]}\")\n",
    "    svs, lower_bounds,upper_bounds = get_results(space_range,time_range,u_noise,fd_orders[1],dt,dx,eps)\n",
    "    plot_results(upper_bounds, lower_bounds,svs,time_range,space_range,subtitle=f\"Noise level {noise_level}, Order {fd_orders[1]}\")"
   ]
  },
  {
   "cell_type": "code",
   "execution_count": null,
   "id": "540ddb6d",
   "metadata": {},
   "outputs": [
    {
     "ename": "",
     "evalue": "",
     "output_type": "error",
     "traceback": [
      "\u001b[1;31mFailed to start the Kernel. \n",
      "\u001b[1;31mUnable to start Kernel 'uniq (Python 3.8.17)' due to a timeout waiting for the ports to get used. \n",
      "\u001b[1;31mView Jupyter <a href='command:jupyter.viewOutput'>log</a> for further details."
     ]
    }
   ],
   "source": [
    "for val_svs,val_lb, val_ub in zip(svs,lower_bounds, upper_bounds):\n",
    "    print(val_svs, \" \\t \", val_lb, \" \\t  \", val_ub)"
   ]
  },
  {
   "cell_type": "code",
   "execution_count": null,
   "id": "4dee104a",
   "metadata": {},
   "outputs": [
    {
     "ename": "",
     "evalue": "",
     "output_type": "error",
     "traceback": [
      "\u001b[1;31mFailed to start the Kernel. \n",
      "\u001b[1;31mUnable to start Kernel 'uniq (Python 3.8.17)' due to a timeout waiting for the ports to get used. \n",
      "\u001b[1;31mView Jupyter <a href='command:jupyter.viewOutput'>log</a> for further details."
     ]
    }
   ],
   "source": [
    "svs"
   ]
  },
  {
   "cell_type": "code",
   "execution_count": null,
   "id": "e0e7808f",
   "metadata": {},
   "outputs": [
    {
     "ename": "",
     "evalue": "",
     "output_type": "error",
     "traceback": [
      "\u001b[1;31mFailed to start the Kernel. \n",
      "\u001b[1;31mUnable to start Kernel 'uniq (Python 3.8.17)' due to a timeout waiting for the ports to get used. \n",
      "\u001b[1;31mView Jupyter <a href='command:jupyter.viewOutput'>log</a> for further details."
     ]
    }
   ],
   "source": [
    "M=infinity_norm(u)\n",
    "number_noise=10 #<=10\n",
    "#noise_levels = [0]+[10**(-10+i) for i in range(0,number_noise-1)]\n",
    "noise_levels = [0,1e-08,1e-05,1e-02]\n",
    "orders=range(2,10,2)\n",
    "unorm2=np.sqrt(np.mean(np.square(u)))\n",
    "\n",
    "for noise_level in noise_levels:    \n",
    "    \n",
    "    var = noise_level * unorm2\n",
    "    noise = np.random.normal(0, var, size=u.shape)\n",
    "    u_noise = u + noise\n",
    "    eps = infinity_norm(u-u_noise)\n",
    "    \n",
    "    print(f\"Noise level {noise_level}\")\n",
    "    fd_orders=(2,8)\n",
    "    svs, lower_bounds,upper_bounds = get_results(space_range,time_range,u_noise,fd_orders[0],dt,dx,eps)\n",
    "    print(f\"Order {fd_orders[0]}\")\n",
    "    print(\" \\t omax/omin \\t \\t \\t  lower_bounds \\t \\t upper_bounds\")\n",
    "    #Print Values\n",
    "    for val_svs,val_lb, val_ub in zip(svs,lower_bounds, upper_bounds):\n",
    "        print(\" \\t \",val_svs, \" \\t \", val_lb, \" \\t \", val_ub)\n",
    "    #svs, lower_bounds,upper_bounds = get_results(space_range,time_range,u_noise,fd_orders[1],dt,dx,eps)"
   ]
  },
  {
   "cell_type": "code",
   "execution_count": null,
   "id": "952a769a",
   "metadata": {},
   "outputs": [
    {
     "ename": "",
     "evalue": "",
     "output_type": "error",
     "traceback": [
      "\u001b[1;31mFailed to start the Kernel. \n",
      "\u001b[1;31mUnable to start Kernel 'uniq (Python 3.8.17)' due to a timeout waiting for the ports to get used. \n",
      "\u001b[1;31mView Jupyter <a href='command:jupyter.viewOutput'>log</a> for further details."
     ]
    }
   ],
   "source": [
    "M=infinity_norm(u)\n",
    "number_noise=10 #<=10\n",
    "#noise_levels = [0]+[10**(-10+i) for i in range(0,number_noise-1)]\n",
    "noise_levels = [0,1e-08,1e-05,1e-02]\n",
    "orders=range(2,10,2)\n",
    "unorm2=np.sqrt(np.mean(np.square(u)))\n",
    "\n",
    "for noise_level in noise_levels:    \n",
    "    \n",
    "    var = noise_level * unorm2\n",
    "    noise = np.random.normal(0, var, size=u.shape)\n",
    "    u_noise = u + noise\n",
    "    eps = infinity_norm(u-u_noise)\n",
    "    \n",
    "    print(f\"Noise level {noise_level}\")\n",
    "    fd_orders=(2,8)\n",
    "    \n",
    "    fig, axes = plt.subplots(1, 2, sharex=True, figsize=(8, 4))\n",
    "    n=len(svs.flatten())\n",
    "    plt.suptitle(f\"Noise level {noise_level}\")\n",
    "\n",
    "    max_value = np.maximum.reduce([svs.flatten().max(), lower_bounds.flatten().max(), upper_bounds_flat.flatten().max()])\n",
    "    #First Order\n",
    "    svs, lower_bounds,upper_bounds = get_results(space_range,time_range,u_noise,fd_orders[0],dt,dx,eps)\n",
    "    axes[0].set_title(f\"Order {fd_orders[0]}\")\n",
    "    axes[0].plot( svs.flatten(),color='blue')\n",
    "    axes[0].fill_between(np.arange(n),lower_bounds.flatten(), max_value,color='coral', alpha=0.3)\n",
    "    axes[0].plot(lower_bounds.flatten(),label=\"unique\",color='coral')\n",
    "    axes[0].set_ylabel('Threshold/Ratio')\n",
    "\n",
    "    axes[0].fill_between(np.arange(n),upper_bounds.flatten(), y2=0, color='aquamarine', alpha=0.3)\n",
    "    axes[0].set_yscale('log')\n",
    "    axes[0].plot(upper_bounds.flatten(),label=\"not unique\", color='aquamarine')\n",
    "\n",
    "    axes[0].set_xlabel('Datapoints')\n",
    "\n",
    "    #Second order\n",
    "    svs, lower_bounds,upper_bounds = get_results(space_range,time_range,u_noise,fd_orders[1],dt,dx,eps)\n",
    "    axes[1].set_title(f\"Order {fd_orders[1]}\")\n",
    "    axes[1].plot( svs.flatten(),color='blue',label = r\"$\\sigma_{min}/\\sigma_{max}$\")\n",
    "    axes[1].fill_between(np.arange(n),lower_bounds.flatten(), max_value,color='coral', alpha=0.3)\n",
    "    axes[1].plot(lower_bounds.flatten(),label=\"unique\",color='coral')\n",
    "\n",
    "    axes[1].fill_between(np.arange(n),upper_bounds.flatten(), y2=0, color='aquamarine', alpha=0.3)\n",
    "    axes[1].set_yscale('log')\n",
    "    axes[1].plot(upper_bounds.flatten(),label=\"not unique\", color='aquamarine')\n",
    "\n",
    "    axes[1].legend(loc=4)\n",
    "    "
   ]
  },
  {
   "cell_type": "markdown",
   "id": "c2036aa9-a16d-4fcd-99ea-bdd18eca7f06",
   "metadata": {},
   "source": [
    "## Try it on different examples"
   ]
  },
  {
   "cell_type": "code",
   "execution_count": null,
   "id": "aa8846e3",
   "metadata": {},
   "outputs": [
    {
     "ename": "",
     "evalue": "",
     "output_type": "error",
     "traceback": [
      "\u001b[1;31mFailed to start the Kernel. \n",
      "\u001b[1;31mUnable to start Kernel 'uniq (Python 3.8.17)' due to a timeout waiting for the ports to get used. \n",
      "\u001b[1;31mView Jupyter <a href='command:jupyter.viewOutput'>log</a> for further details."
     ]
    }
   ],
   "source": [
    "experiment_names= ['algebraic_nonunique_kdv','algebraic_nonunique_1','analytic_unique_1','analytic_unique_2','analytic_nonunique_1']"
   ]
  },
  {
   "cell_type": "markdown",
   "id": "40f05a3b",
   "metadata": {},
   "source": [
    "### Perform on one experiment"
   ]
  },
  {
   "cell_type": "code",
   "execution_count": null,
   "id": "c70bcc33-6d3a-4bb1-89bb-235bdc7ad978",
   "metadata": {},
   "outputs": [
    {
     "ename": "",
     "evalue": "",
     "output_type": "error",
     "traceback": [
      "\u001b[1;31mFailed to start the Kernel. \n",
      "\u001b[1;31mUnable to start Kernel 'uniq (Python 3.8.17)' due to a timeout waiting for the ports to get used. \n",
      "\u001b[1;31mView Jupyter <a href='command:jupyter.viewOutput'>log</a> for further details."
     ]
    }
   ],
   "source": [
    "noise_levels = [0,1e-08,1e-05,0.01]\n",
    "fd_orders=(2,8)\n",
    "experiment_name = experiment_names[3]\n",
    "#Get data\n",
    "u,x,t,formula = experiment_data(n_samples=50,experiment_name=experiment_name)\n",
    "dx=x[1]-x[0]\n",
    "dt=t[1]-t[0]\n",
    "space_range = int(len(x)/10-1)\n",
    "time_range = int(len(x)/10-1)\n",
    "print(experiment_name)\n",
    "print(formula)\n",
    "subtitle=f\"Experiment {experiment_name} {formula}\"\n",
    "\n",
    "t_grid, x_grid = (np.arange(time_range) * 10 + 10) / len(t) * (t[len(t)-1] - t[0]) + t[0], (np.arange(space_range) * 10 + 10) / len(x) * (x[len(x)-1] - x[0]) + x[0]\n",
    "fig, axes = plt.subplots(2,6, figsize=(24,8))\n",
    "\n",
    "for i,noise_level in enumerate(noise_levels):\n",
    "    u_noise = add_noise(u,noise_level)\n",
    "    eps = infinity_norm(u-u_noise)\n",
    "    \n",
    "    svs, lower_bounds,upper_bounds = get_results(space_range,time_range,u_noise,fd_order,dt,dx,eps)\n",
    " \n",
    "    #Plot the ratios\n",
    "\n",
    "    c = axes[i//2,i*3%6+0].pcolor(t_grid, x_grid, svs)\n",
    "    axes[i//2,i*3%6+0].set_title('Ratio', fontsize=tickssize)\n",
    "    axes[i//2,i*3%6+0].set_ylabel('x', fontsize=tickssize)\n",
    "    axes[i//2,i*3%6+0].set_xlabel('t', fontsize=tickssize)\n",
    "    fig.colorbar(c, ax=axes[i//2,i*3%6])\n",
    "    \n",
    "    upper_minus_svs = upper_bounds - svs\n",
    "    lower_minus_svs = lower_bounds -svs\n",
    "    max_svs= np.max(np.abs(upper_minus_svs))\n",
    "    #Plot difference to upper bound\n",
    "    plt.suptitle(subtitle, fontsize=subtitle_size,y=1.1)\n",
    " \n",
    "    \n",
    "    axes[i//2,i*3%6+1].set_title(f'Noise level {noise_level} \\n Upper bound - ratio', fontsize=tickssize)\n",
    "    c=axes[i//2,i*3%6+1].pcolor(t_grid, x_grid, upper_minus_svs,cmap=cmap_red_green,vmin=-max_svs, vmax=max_svs)\n",
    "    axes[i//2,i*3%6+1].set_yticks([])\n",
    "    fig.colorbar(c, ax=axes[i//2,i*3%6+1])\n",
    "    \n",
    "   \n",
    "    #Plot difference to lower bound\n",
    "    lower_minus_svs = lower_bounds -svs\n",
    "    max_svs= np.max(np.abs(lower_minus_svs))\n",
    "    axes[i//2,i*3%6+2].set_title('Lower bound - ratio', fontsize=tickssize)\n",
    "    c = axes[i//2,i*3%6+2].pcolor(t_grid, x_grid, lower_minus_svs, cmap=cmap_red_green, vmin=-max_svs, vmax=max_svs)\n",
    "    axes[i//2,i*3%6+2].set_yticks([])\n",
    "    cb = fig.colorbar(c, ax=axes[i//2,i*3%6+2])\n",
    "    ticks=np.linspace(-max_svs, max_svs,7) \n",
    "    cb.set_ticks(ticks)\n",
    "    cb.set_ticklabels(['Non-unique', f'{ticks[1]:.4f}',f'{ticks[2]:.4f}',f'{ticks[3]:.4f}', f'{ticks[4]:.4f}', f'{ticks[5]:.4f}', 'Unique'])\n",
    "    #plt.savefig(f\"Images/JRC_{subtitle}\")\n",
    "    plt.tight_layout()\n"
   ]
  },
  {
   "cell_type": "markdown",
   "id": "34abd6bf",
   "metadata": {},
   "source": [
    "### Perform on all experiments"
   ]
  },
  {
   "cell_type": "code",
   "execution_count": null,
   "id": "33588fd7-4cf7-4764-bb9c-807efc7ed4dc",
   "metadata": {},
   "outputs": [
    {
     "ename": "",
     "evalue": "",
     "output_type": "error",
     "traceback": [
      "\u001b[1;31mFailed to start the Kernel. \n",
      "\u001b[1;31mUnable to start Kernel 'uniq (Python 3.8.17)' due to a timeout waiting for the ports to get used. \n",
      "\u001b[1;31mView Jupyter <a href='command:jupyter.viewOutput'>log</a> for further details."
     ]
    }
   ],
   "source": [
    "def perform_experiment(noise_levels,fd_order,experiment_name):\n",
    "    \n",
    "    #Get data,\n",
    "    u,x,t,formula = experiment_data(n_samples=50,experiment_name=experiment_name)\n",
    "    dx=x[1]-x[0]\n",
    "    dt=t[1]-t[0]\n",
    "    space_range = int(len(x)/10-1)\n",
    "    time_range = int(len(x)/10-1)\n",
    "    print(f\"Performing experiment {experiment_name} {formula} with order {fd_order}\")\n",
    "    subtitle=f\"Experiment {experiment_name} {formula}, Order {fd_order}\"\n",
    "    \n",
    "    t_grid, x_grid = (np.arange(time_range) * 10 + 10) / len(t) * (t[len(t)-1] - t[0]) + t[0], (np.arange(space_range) * 10 + 10) / len(x) * (x[len(x)-1] - x[0]) + x[0]\n",
    "    fig, axes = plt.subplots(2,6, figsize=(24,8))\n",
    "    \n",
    "    for i,noise_level in enumerate(noise_levels):\n",
    "        u_noise = add_noise(u,noise_level)\n",
    "        eps = infinity_norm(u-u_noise)\n",
    "        \n",
    "        svs, lower_bounds,upper_bounds = get_results(space_range,time_range,u_noise,fd_order,dt,dx,eps)\n",
    "     \n",
    "        #Plot the ratios\n",
    "    \n",
    "        c = axes[i//2,i*3%6+0].pcolor(t_grid, x_grid, svs)\n",
    "        axes[i//2,i*3%6+0].set_title('Ratio', fontsize=tickssize)\n",
    "        axes[i//2,i*3%6+0].set_ylabel('x', fontsize=tickssize)\n",
    "        axes[i//2,i*3%6+0].set_xlabel('t', fontsize=tickssize)\n",
    "        fig.colorbar(c, ax=axes[i//2,i*3%6])\n",
    "        \n",
    "        upper_minus_svs = upper_bounds - svs\n",
    "        lower_minus_svs = lower_bounds -svs\n",
    "        max_svs= np.max(np.abs(upper_minus_svs))\n",
    "        #Plot difference to upper bound\n",
    "        plt.suptitle(subtitle, fontsize=subtitle_size,y=1.1)\n",
    "     \n",
    "        \n",
    "        axes[i//2,i*3%6+1].set_title(f'Noise level {noise_level} \\n Upper bound - ratio', fontsize=tickssize)\n",
    "        c=axes[i//2,i*3%6+1].pcolor(t_grid, x_grid, upper_minus_svs,cmap=cmap_red_green,vmin=-max_svs, vmax=max_svs)\n",
    "        axes[i//2,i*3%6+1].set_yticks([])\n",
    "        fig.colorbar(c, ax=axes[i//2,i*3%6+1])\n",
    "        \n",
    "       \n",
    "        #Plot difference to lower bound\n",
    "        lower_minus_svs = lower_bounds  -svs\n",
    "        max_svs= np.max(np.abs(lower_minus_svs))\n",
    "        axes[i//2,i*3%6+2].set_title('Lower bound - ratio', fontsize=tickssize)\n",
    "        c = axes[i//2,i*3%6+2].pcolor(t_grid, x_grid, lower_minus_svs, cmap=cmap_red_green, vmin=-max_svs, vmax=max_svs)\n",
    "        axes[i//2,i*3%6+2].set_yticks([])\n",
    "        cb = fig.colorbar(c, ax=axes[i//2,i*3%6+2])\n",
    "        ticks=np.linspace(-max_svs, max_svs,7) \n",
    "        cb.set_ticks(ticks)\n",
    "        cb.set_ticklabels(['Non-unique', f'{ticks[1]:.4f}',f'{ticks[2]:.4f}',f'{ticks[3]:.4f}', f'{ticks[4]:.4f}', f'{ticks[5]:.4f}', 'Unique'])\n",
    "        #plt.savefig(f\"Images/JRC_{subtitle}\")\n",
    "        plt.tight_layout()\n"
   ]
  },
  {
   "cell_type": "code",
   "execution_count": null,
   "id": "5e95d89b-39cb-474d-a98d-83a04c2c6652",
   "metadata": {},
   "outputs": [
    {
     "ename": "",
     "evalue": "",
     "output_type": "error",
     "traceback": [
      "\u001b[1;31mFailed to start the Kernel. \n",
      "\u001b[1;31mUnable to start Kernel 'uniq (Python 3.8.17)' due to a timeout waiting for the ports to get used. \n",
      "\u001b[1;31mView Jupyter <a href='command:jupyter.viewOutput'>log</a> for further details."
     ]
    }
   ],
   "source": [
    "noise_levels = [0,1e-08,1e-05,0.01]\n",
    "fd_orders=[2,8]\n",
    "for experiment_name in experiment_names:\n",
    "    for order in fd_orders:\n",
    "        perform_experiment(noise_levels,order,experiment_name)"
   ]
  },
  {
   "cell_type": "code",
   "execution_count": null,
   "id": "ccd8ffd7-560b-4ee1-8f99-06661fefdd30",
   "metadata": {},
   "outputs": [
    {
     "ename": "",
     "evalue": "",
     "output_type": "error",
     "traceback": [
      "\u001b[1;31mFailed to start the Kernel. \n",
      "\u001b[1;31mUnable to start Kernel 'uniq (Python 3.8.17)' due to a timeout waiting for the ports to get used. \n",
      "\u001b[1;31mView Jupyter <a href='command:jupyter.viewOutput'>log</a> for further details."
     ]
    }
   ],
   "source": []
  }
 ],
 "metadata": {
  "kernelspec": {
   "display_name": "Python 3 (ipykernel)",
   "language": "python",
   "name": "python3"
  },
  "language_info": {
   "codemirror_mode": {
    "name": "ipython",
    "version": 3
   },
   "file_extension": ".py",
   "mimetype": "text/x-python",
   "name": "python",
   "nbconvert_exporter": "python",
   "pygments_lexer": "ipython3",
   "version": "3.8.17"
  }
 },
 "nbformat": 4,
 "nbformat_minor": 5
}
