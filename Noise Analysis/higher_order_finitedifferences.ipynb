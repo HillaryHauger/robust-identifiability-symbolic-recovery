{
 "cells": [
  {
   "cell_type": "code",
   "execution_count": 1,
   "id": "229e7cd9-053e-4a46-bb5d-27f0bcdfd7d2",
   "metadata": {},
   "outputs": [],
   "source": [
    "import numpy as np\n",
    "import pysindy as ps\n",
    "import matplotlib.pyplot as plt\n",
    "\n",
    "import sys\n",
    "sys.path.append('../')\n",
    "from test_data import experiment_data,add_noise,create_data_2d\n",
    "from error_bounds import *"
   ]
  },
  {
   "cell_type": "markdown",
   "id": "f96edd93-2988-4976-9003-ebf563dc234e",
   "metadata": {},
   "source": [
    "## Higher order finite differences\n",
    "We want to bound the error for the derivative 1,2, and 3\n",
    "For this we need to calculate the derivative of the residue and the lagrange polynomial"
   ]
  },
  {
   "cell_type": "markdown",
   "id": "64c420cb-49ea-4ad3-856d-025a47fe5764",
   "metadata": {},
   "source": [
    "## Calculate the nth derivative of sympy"
   ]
  },
  {
   "cell_type": "code",
   "execution_count": 2,
   "id": "f9a9009d-02ae-4dc2-80de-d9ea36500482",
   "metadata": {},
   "outputs": [],
   "source": [
    "from sympy import symbols, diff, factorial, Function, prod\n",
    "import numpy as np"
   ]
  },
  {
   "cell_type": "markdown",
   "id": "fec8cd02-890f-4eff-90dc-0f3ff09ff32d",
   "metadata": {},
   "source": [
    "#### Residue $r_n(x)=\\frac{u^{(n+1)}(\\xi (x))}{(n+1)!}\\prod_{k=0}^n(x-x_k)$"
   ]
  },
  {
   "cell_type": "code",
   "execution_count": 3,
   "id": "9ae86452-14c6-40bb-b782-10ba5ace688f",
   "metadata": {},
   "outputs": [
    {
     "name": "stdout",
     "output_type": "stream",
     "text": [
      "Lagrane polynomial L_3:\n",
      "(x - x_0)*(x - x_1)*(x - x_2)*(x - x_3)*Derivative(u(xi(x)), (xi(x), 4))/24\n"
     ]
    }
   ],
   "source": [
    "symbol_values={}\n",
    "\n",
    "# Define symbols\n",
    "x, k = symbols('x k')\n",
    "n=3\n",
    "l=3\n",
    "xi = Function('xi')(x)\n",
    "u = Function('u')(x)\n",
    "\n",
    "# Define the expression\n",
    "expr = u.diff(x, n + 1).subs(x, xi) / factorial(n + 1) * prod(x - symbols('x_{}'.format(i)) for i in range(n + 1))\n",
    "\n",
    "# Take the derivative with respect to x\n",
    "derivative_expr = diff(expr, x,l)\n",
    "\n",
    "# Display the result\n",
    "print(f\"Lagrane polynomial L_{n}:\")\n",
    "print(expr)"
   ]
  },
  {
   "cell_type": "code",
   "execution_count": 4,
   "id": "89098333-e3f5-4142-86a9-0e6ef1389fdb",
   "metadata": {},
   "outputs": [
    {
     "name": "stdout",
     "output_type": "stream",
     "text": [
      "x: [1 2 3 4]\n",
      "The expression at the specified values: 0\n",
      "The 3th derivative at x_1 with n = 3\n",
      "(-x_0 + x_1)*(x_1 - x_2)*(x_1 - x_3)*(Derivative(u(xi(x_1)), (xi(x_1), 5))*Derivative(xi(x_1), (x_1, 2)) + Derivative(u(xi(x_1)), (xi(x_1), 6))*Derivative(xi(x_1), x_1)**2)/8 + (-x_0 + x_1)*(x_1 - x_2)*Derivative(u(xi(x_1)), (xi(x_1), 5))*Derivative(xi(x_1), x_1)/4 + (-x_0 + x_1)*(x_1 - x_3)*Derivative(u(xi(x_1)), (xi(x_1), 5))*Derivative(xi(x_1), x_1)/4 + (-x_0 + x_1)*Derivative(u(xi(x_1)), (xi(x_1), 4))/4 + (x_1 - x_2)*(x_1 - x_3)*Derivative(u(xi(x_1)), (xi(x_1), 5))*Derivative(xi(x_1), x_1)/4 + (x_1 - x_2)*Derivative(u(xi(x_1)), (xi(x_1), 4))/4 + (x_1 - x_3)*Derivative(u(xi(x_1)), (xi(x_1), 4))/4\n"
     ]
    }
   ],
   "source": [
    "# Define values for the symbols\n",
    "x0=1\n",
    "x=x0+np.arange(0,n+1)\n",
    "#symbol_values = {'x_{}'.format(i): x[i] for i in range(n + 1)}\n",
    "symbol_values['x'] = 'x_{}'.format(1)\n",
    "\n",
    "# Substitute symbol values into the expression\n",
    "expr_at_values = expr.subs(symbol_values)\n",
    "\n",
    "# Substitute symbol values into the derivative expression\n",
    "derivative_at_values = derivative_expr.subs(symbol_values)\n",
    "\n",
    "# Display the results\n",
    "print(f\"x: {x}\")\n",
    "print(f\"The expression at the specified values: {expr_at_values}\")\n",
    "print(f\"The {l}th derivative at {symbol_values['x']} with n = {n}\")\n",
    "print(derivative_at_values)"
   ]
  },
  {
   "cell_type": "markdown",
   "id": "6772546b-9ddf-405b-b2b0-fc10d9b2a916",
   "metadata": {},
   "source": [
    "## Derivative"
   ]
  },
  {
   "cell_type": "markdown",
   "id": "1f02eb85-4c8e-45e4-b606-bc894d9f3bda",
   "metadata": {},
   "source": [
    "#### Lagrange coefficient $L_{n,k}(x) =\\prod_{i=0,i\\neq k}^n \\frac{x-x_i}{x_k-x_i}$"
   ]
  },
  {
   "cell_type": "code",
   "execution_count": 5,
   "id": "6f86d624-bfd7-49d0-9ac0-64b68aef720a",
   "metadata": {},
   "outputs": [],
   "source": [
    "#Calculates the Lagrangian\n",
    "def Ln_k(x, n, k):\n",
    "    Ln_k_expr = prod((x - symbols(f'x_{i}')) / (symbols(f'x_{k}') - symbols(f'x_{i}')) for i in range(0,n+1) if i != k)\n",
    "    return Ln_k_expr\n",
    "#Calculates the residue function\n",
    "def residue(x,n):\n",
    "    xi = Function('xi')(x)\n",
    "    u = Function('u')(x)\n",
    "    expr = u.diff(x, n + 1).subs(x, xi) / factorial(n + 1) * prod(x - symbols('x_{}'.format(i)) for i in range(0,n+1))\n",
    "    return expr    "
   ]
  },
  {
   "cell_type": "code",
   "execution_count": 6,
   "id": "dd237b0e-909a-4359-8f39-312e8c3b1f85",
   "metadata": {},
   "outputs": [],
   "source": [
    "\"\"\"\n",
    "n: finite differences order\n",
    "l: order of the derivative\n",
    "m: we evaluate the expression at x_m\n",
    "\"\"\"\n",
    "def residue_derivative(m,n,l):\n",
    "    x_sympol = symbols('x')\n",
    "    symbol_values={}\n",
    "    symbol_values['x'] = 'x_{}'.format(m)\n",
    "    #Calculate derivative\n",
    "    residue_expr = residue(x_sympol,n)\n",
    "    derivative = diff(residue_expr,x_sympol,l)\n",
    "\n",
    "    residue_expr_xm = residue_expr.subs(symbol_values)\n",
    "    derivative_xm = derivative.subs(symbol_values)\n",
    "    return derivative_xm\n",
    "\n",
    "\"\"\"\n",
    "n: finite differences order\n",
    "l: order of the derivative\n",
    "m: we evaluate the expression at x_m\n",
    "k: number of lagrange coefficient\n",
    "\"\"\"\n",
    "def lagrange_derivative(m,n,k,l):\n",
    "    x_sympol = symbols('x')\n",
    "    symbol_values={}\n",
    "    symbol_values['x'] = 'x_{}'.format(m)\n",
    "    \n",
    "    lagrange_expr = Ln_k(x_sympol,n, k)\n",
    "    #print(lagrange_expr)\n",
    "    derivative = diff(lagrange_expr,x_sympol,l)\n",
    "    \n",
    "    lagrange_expr_xm = lagrange_expr.subs(symbol_values)\n",
    "    derivative_xm = derivative.subs(symbol_values)\n",
    "    return derivative_xm"
   ]
  },
  {
   "cell_type": "code",
   "execution_count": 7,
   "id": "8b1389fa-c04b-4720-9a36-c3ffed8779d0",
   "metadata": {},
   "outputs": [
    {
     "name": "stdout",
     "output_type": "stream",
     "text": [
      "(-x_0 + x_1)*(x_1 - x_2)*(x_1 - x_3)*Derivative(u(xi(x_1)), (xi(x_1), 4))/24\n"
     ]
    }
   ],
   "source": [
    "n,l,m,k = 3,1,1,1\n",
    "res_der=residue_derivative(m,n,l)\n",
    "lagrange_der=lagrange_derivative(m,n,k,l)\n",
    "print(res_der)"
   ]
  },
  {
   "cell_type": "markdown",
   "id": "dad970f5-9d03-41e8-b0e3-1e85d3d692c8",
   "metadata": {},
   "source": [
    "If we assume $\\tilde{u}(x)=u(x)+e(x)$ with $e(x)<\\epsilon$ then for $p_n(u,x) = \\sum_{k=0}^nu(x_k)L_k(x) $: \n",
    "$$ | u^{(l)}(x) - p_n^{(l)}(\\tilde{u},x) | \\leq |r_n^{(l)}(x)| + \\epsilon\\sum_{k=0}^n|L_k^{(l)}(x)| $$\n",
    "We call $|r_n^{(l)}(x)|$ the approximation error and $\\epsilon\\sum_{k=0}^n|L_k^{(l)}(x)|$ the measurement error."
   ]
  },
  {
   "cell_type": "code",
   "execution_count": 8,
   "id": "c50a72d5-e086-42f4-a99c-6aace0a3dbac",
   "metadata": {},
   "outputs": [],
   "source": [
    "\"\"\"\n",
    "#Replaces all derivatives specified with begin_deriv and end_deriv with constants\n",
    "#m is the number of the data point used for the lagrange polynomial\n",
    "def replace_u_xi_derivative(m,expression, begin_deriv, end_deriv):\n",
    "    x = symbols('x')\n",
    "    xi = Function('xi')(x)\n",
    "    u = Function('u')(x)\n",
    "    replaced_expression=expression\n",
    "    #Replace all derivatives in u by constant C_u{i}\n",
    "    for u_lth in range(end_deriv,begin_deriv,-1):\n",
    "            u_derivative = u.diff(x, u_lth).subs(x, xi)\n",
    "            u_derivative = u_derivative.subs(x,m)\n",
    "            replaced_expression = replaced_expression.subs(u_derivative, symbols(f\"C_u{u_lth}\"))\n",
    "\n",
    "    #Replace all derivatives in xi by constant C_xi{i}\n",
    "    for xi_lth in range(0,begin_deriv):\n",
    "            xi_derivative = xi.diff(x, xi_lth)\n",
    "            xi_derivative = xi_derivative.subs(x,symbols(f\"x_{m}\"))\n",
    "            replaced_expression = replaced_expression.subs( xi_derivative.subs(symbols(f\"x_{m}\"),m), symbols(f\"C_xi{xi_lth}\"))  \n",
    "    return replaced_expression\n",
    "\"\"\"    \n",
    "def replace_u_xi_derivative(m,expression, begin_deriv, end_deriv):\n",
    "    h=symbols('h')\n",
    "    x = symbols('x')\n",
    "    xi = Function('xi')(x)\n",
    "    u = Function('u')(x)\n",
    "    replaced_expression=expression\n",
    "    #Replace all derivatives in u by constant C_u{i}\n",
    "    for u_lth in range(end_deriv,begin_deriv,-1):\n",
    "            \n",
    "            u_derivative = u.diff(x, u_lth).subs(x, xi)\n",
    "            u_derivative = u_derivative.subs(x,symbols(f\"x_{m}\")).subs(symbols(f\"x_{m}\"),h*m)\n",
    "            #print(f\"{u_lth} derivatve: {u_derivative} \")\n",
    "           # print(f\"Before: {replaced_expression} \")\n",
    "            replaced_expression = replaced_expression.subs(u_derivative, symbols(f\"C_u{u_lth}\"))\n",
    "            #print(f\"After: {replaced_expression} \")\n",
    "    #Replace all derivatives in xi by constant C_xi{i}\n",
    "    #print(\"---\")\n",
    "    for xi_lth in range(begin_deriv,0,-1):\n",
    "            xi_derivative = xi.diff(x, xi_lth)\n",
    "            xi_derivative = xi_derivative.subs(x,symbols(f\"x_{m}\")).subs(symbols(f\"x_{m}\"),h*m)\n",
    "            #print(f\"{xi_lth} derivatve: {xi_derivative} \")\n",
    "            #print(f\"Before: {replaced_expression} \")\n",
    "            replaced_expression = replaced_expression.subs( xi_derivative, symbols(f\"C_xi{xi_lth}\")  )\n",
    "            #print(f\"After: {replaced_expression} \")\n",
    "    return replaced_expression"
   ]
  },
  {
   "cell_type": "code",
   "execution_count": 9,
   "id": "b6fbc155-8b2a-46e6-975c-1a25a6935718",
   "metadata": {},
   "outputs": [],
   "source": [
    "# we only use central differences so m=order_fd/2\n",
    "def get_measurement_approximation_constants(order_fd, order_derivative,m):\n",
    "     #Get measurement error\n",
    "    h=symbols('h')\n",
    "    x=np.arange(0,order_fd+1)\n",
    "    symbol_values={}\n",
    "    symbol_values = {f'x_{i}': x[i]*h for i in range(order_fd+1)}\n",
    "    C_meas=0.0\n",
    "    for k in range(order_fd+1):\n",
    "            lagrange_der=lagrange_derivative(m,order_fd,k,order_derivative)\n",
    "            value = lagrange_der.subs(symbol_values)\n",
    "            C_meas += abs(value)\n",
    "\n",
    "    #Calculate approximation error\n",
    "    symbol_values = {f'x_{i}': h*x[i] for i in range(order_fd+1)}\n",
    "    res_expr=residue_derivative(m,order_fd,order_derivative)\n",
    "    res_der =res_expr.subs(symbol_values)\n",
    "    res_expr_replaced = replace_u_xi_derivative(m,res_der, order_fd,order_fd+order_derivative+1)\n",
    "    # Take the absolute value of each term individually\n",
    "    C_app = sum(abs(term) for term in res_expr_replaced.as_ordered_terms())\n",
    "    return C_meas,C_app"
   ]
  },
  {
   "cell_type": "code",
   "execution_count": 10,
   "id": "a1fafb94-d8de-484f-b282-173f00179863",
   "metadata": {},
   "outputs": [],
   "source": [
    "def upper_bound_central_differences(eps,order_fd,order_derivative,Cu,Cxi,h):\n",
    "    assert(order_fd%2==0)\n",
    "    m=int(order_fd/2)\n",
    "    C_meas,C_app = get_measurement_approximation_constants(order_fd,order_derivative,m)\n",
    "    #print(C_app,abs(C_meas))\n",
    "    symbol_values = {f'C_u{i}': Cu for i in range(order_fd+1,order_fd+order_derivative+1)}\n",
    "    symbol_values.update({f'C_xi{i}': Cxi for i in range(1,order_fd)})\n",
    "   # print(symbol_values)\n",
    "    C_app=C_app.subs(symbol_values)\n",
    "    #print(C_app,C_meas)\n",
    "    C_app=C_app.subs(symbols('h'),h)\n",
    "    C_meas=C_meas.subs(symbols('h'),h)\n",
    "    #print(C_app,C_meas)\n",
    "    upper_bound = C_app+C_meas\n",
    "    return upper_bound"
   ]
  },
  {
   "cell_type": "code",
   "execution_count": 11,
   "id": "bdf84474-f0c3-4e61-b864-107c3e8039eb",
   "metadata": {},
   "outputs": [
    {
     "data": {
      "text/latex": [
       "$\\displaystyle 150.000000000333$"
      ],
      "text/plain": [
       "150.000000000333"
      ]
     },
     "execution_count": 11,
     "metadata": {},
     "output_type": "execute_result"
    }
   ],
   "source": [
    "order_fd,order_derivative=4,1\n",
    "eps=1\n",
    "Cu,Cxi=1,1\n",
    "u=upper_bound_central_differences(eps,order_fd,order_derivative,Cu,Cxi,h=0.01)\n",
    "u"
   ]
  }
 ],
 "metadata": {
  "kernelspec": {
   "display_name": "Python 3 (ipykernel)",
   "language": "python",
   "name": "python3"
  },
  "language_info": {
   "codemirror_mode": {
    "name": "ipython",
    "version": 3
   },
   "file_extension": ".py",
   "mimetype": "text/x-python",
   "name": "python",
   "nbconvert_exporter": "python",
   "pygments_lexer": "ipython3",
   "version": "3.8.17"
  }
 },
 "nbformat": 4,
 "nbformat_minor": 5
}
