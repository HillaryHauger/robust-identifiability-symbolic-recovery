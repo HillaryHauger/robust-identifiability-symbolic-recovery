{
 "cells": [
  {
   "cell_type": "code",
   "execution_count": 1,
   "id": "229e7cd9-053e-4a46-bb5d-27f0bcdfd7d2",
   "metadata": {},
   "outputs": [],
   "source": [
    "import numpy as np\n",
    "import pysindy as ps\n",
    "import matplotlib.pyplot as plt\n",
    "\n",
    "import sys\n",
    "sys.path.append('../')\n",
    "from test_data import experiment_data,add_noise,create_data_2d\n",
    "from error_bounds import *\n",
    "from sympy import symbols, diff, factorial, Function, prod\n",
    "import numpy as np"
   ]
  },
  {
   "cell_type": "markdown",
   "id": "f96edd93-2988-4976-9003-ebf563dc234e",
   "metadata": {},
   "source": [
    "## Higher order finite differences\n",
    "We want to bound the error for the derivative 1,2, and 3\n",
    "For this we need to calculate the derivative of the residue and the lagrange polynomial"
   ]
  },
  {
   "cell_type": "markdown",
   "id": "fec8cd02-890f-4eff-90dc-0f3ff09ff32d",
   "metadata": {},
   "source": [
    "#### Residue $r_n(x)=\\frac{u^{(n+1)}(\\xi (x))}{(n+1)!}\\prod_{k=0}^n(x-x_k)$"
   ]
  },
  {
   "cell_type": "markdown",
   "id": "1f02eb85-4c8e-45e4-b606-bc894d9f3bda",
   "metadata": {},
   "source": [
    "#### Lagrange coefficient $L_{n,k}(x) =\\prod_{i=0,i\\neq k}^n \\frac{x-x_i}{x_k-x_i}$"
   ]
  },
  {
   "cell_type": "code",
   "execution_count": 13,
   "id": "6f86d624-bfd7-49d0-9ac0-64b68aef720a",
   "metadata": {},
   "outputs": [],
   "source": [
    "#Calculates the Lagrangian\n",
    "def Ln_k(x, n, k):\n",
    "    Ln_k_expr = prod((x - symbols(f'x_{i}')) / (symbols(f'x_{k}') - symbols(f'x_{i}')) for i in range(0,n+1) if i != k)\n",
    "    return Ln_k_expr\n",
    "#Calculates the residue function\n",
    "def residue(x,n):\n",
    "    xi = Function('xi')(x)\n",
    "    u = Function('u')(x)\n",
    "    expr = u.diff(x, n + 1).subs(x, xi) / factorial(n + 1) * prod(x - symbols('x_{}'.format(i)) for i in range(0,n+1))\n",
    "    return expr    "
   ]
  },
  {
   "cell_type": "code",
   "execution_count": 14,
   "id": "dd237b0e-909a-4359-8f39-312e8c3b1f85",
   "metadata": {},
   "outputs": [],
   "source": [
    "\"\"\"\n",
    "n: finite differences order\n",
    "l: order of the derivative\n",
    "m: we evaluate the expression at x_m\n",
    "\"\"\"\n",
    "def residue_derivative(m,n,l):\n",
    "    x_sympol = symbols('x')\n",
    "    symbol_values={}\n",
    "    symbol_values['x'] = 'x_{}'.format(m)\n",
    "    #Calculate derivative\n",
    "    residue_expr = residue(x_sympol,n)\n",
    "    derivative = diff(residue_expr,x_sympol,l)\n",
    "\n",
    "    residue_expr_xm = residue_expr.subs(symbol_values)\n",
    "    derivative_xm = derivative.subs(symbol_values)\n",
    "    return derivative_xm\n",
    "\n",
    "\"\"\"\n",
    "n: finite differences order\n",
    "l: order of the derivative\n",
    "m: we evaluate the expression at x_m\n",
    "k: number of lagrange coefficient\n",
    "\"\"\"\n",
    "def lagrange_derivative(m,n,k,l):\n",
    "    x_sympol = symbols('x')\n",
    "    symbol_values={}\n",
    "    symbol_values['x'] = 'x_{}'.format(m)\n",
    "    \n",
    "    lagrange_expr = Ln_k(x_sympol,n, k)\n",
    "    #print(lagrange_expr)\n",
    "    derivative = diff(lagrange_expr,x_sympol,l)\n",
    "    \n",
    "    lagrange_expr_xm = lagrange_expr.subs(symbol_values)\n",
    "    derivative_xm = derivative.subs(symbol_values)\n",
    "    return derivative_xm"
   ]
  },
  {
   "cell_type": "code",
   "execution_count": 15,
   "id": "8b1389fa-c04b-4720-9a36-c3ffed8779d0",
   "metadata": {},
   "outputs": [
    {
     "name": "stdout",
     "output_type": "stream",
     "text": [
      "(-x_0 + x_1)*(x_1 - x_2)*(x_1 - x_3)*Derivative(u(xi(x_1)), (xi(x_1), 4))/24\n"
     ]
    }
   ],
   "source": [
    "n,l,m,k = 3,1,1,1\n",
    "res_der=residue_derivative(m,n,l)\n",
    "lagrange_der=lagrange_derivative(m,n,k,l)\n",
    "print(res_der)"
   ]
  },
  {
   "cell_type": "markdown",
   "id": "dad970f5-9d03-41e8-b0e3-1e85d3d692c8",
   "metadata": {},
   "source": [
    "### Upper bound derivative\n",
    "If we assume $\\tilde{u}(x)=u(x)+e(x)$ with $e(x)<\\epsilon$ then for $p_n(u,x) = \\sum_{k=0}^nu(x_k)L_k(x) $: \n",
    "$$ | u^{(l)}(x) - p_n^{(l)}(\\tilde{u},x) | \\leq |r_n^{(l)}(x)| + \\epsilon\\sum_{k=0}^n|L_k^{(l)}(x)| $$\n",
    "We call $|r_n^{(l)}(x)|$ the approximation error and $\\epsilon\\sum_{k=0}^n|L_k^{(l)}(x)|$ the measurement error."
   ]
  },
  {
   "cell_type": "code",
   "execution_count": 37,
   "id": "c50a72d5-e086-42f4-a99c-6aace0a3dbac",
   "metadata": {},
   "outputs": [],
   "source": [
    "\"\"\"\n",
    "Replaces all derivatives specified with begin_deriv and end_deriv with constants\n",
    "m is the number of the data point used for the lagrange polynomial\n",
    "\"\"\"    \n",
    "def replace_u_xi_derivative(m,expression, begin_deriv, end_deriv):\n",
    "    h=symbols('h')\n",
    "    x = symbols('x')\n",
    "    xi = Function('xi')(x)\n",
    "    u = Function('u')(x)\n",
    "    replaced_expression=expression\n",
    "    #Replace all derivatives in u by constant C_u{i}\n",
    "    for u_lth in range(end_deriv,begin_deriv,-1):\n",
    "            \n",
    "            u_derivative = u.diff(x, u_lth).subs(x, xi)\n",
    "            u_derivative = u_derivative.subs(x,symbols(f\"x_{m}\")).subs(symbols(f\"x_{m}\"),h*m)\n",
    "            #print(f\"{u_lth} derivatve: {u_derivative} \")\n",
    "           # print(f\"Before: {replaced_expression} \")\n",
    "            replaced_expression = replaced_expression.subs(u_derivative, symbols(f\"C_u{u_lth}\"))\n",
    "            #print(f\"After: {replaced_expression} \")\n",
    "    #Replace all derivatives in xi by constant C_xi{i}\n",
    "    #print(\"---\")\n",
    "    for xi_lth in range(begin_deriv,0,-1):\n",
    "            xi_derivative = xi.diff(x, xi_lth)\n",
    "            xi_derivative = xi_derivative.subs(x,symbols(f\"x_{m}\")).subs(symbols(f\"x_{m}\"),h*m)\n",
    "            #print(f\"{xi_lth} derivatve: {xi_derivative} \")\n",
    "            #print(f\"Before: {replaced_expression} \")\n",
    "            replaced_expression = replaced_expression.subs( xi_derivative, symbols(f\"C_xi{xi_lth}\")  )\n",
    "            #print(f\"After: {replaced_expression} \")\n",
    "    return replaced_expression"
   ]
  },
  {
   "cell_type": "code",
   "execution_count": 38,
   "id": "b6fbc155-8b2a-46e6-975c-1a25a6935718",
   "metadata": {},
   "outputs": [],
   "source": [
    "# we only use central differences so m=order_fd/2\n",
    "def get_measurement_approximation_constants(order_fd, order_derivative,m):\n",
    "     #Get measurement error\n",
    "    h=symbols('h')\n",
    "    x=np.arange(0,order_fd+1)\n",
    "    symbol_values={}\n",
    "    symbol_values = {f'x_{i}': x[i]*h for i in range(order_fd+1)}\n",
    "    C_meas=0.0\n",
    "    for k in range(order_fd+1):\n",
    "            lagrange_der=lagrange_derivative(m,order_fd,k,order_derivative)\n",
    "            value = lagrange_der.subs(symbol_values)\n",
    "            C_meas += abs(value)\n",
    "\n",
    "    #Calculate approximation error\n",
    "    symbol_values = {f'x_{i}': h*x[i] for i in range(order_fd+1)}\n",
    "    res_expr=residue_derivative(m,order_fd,order_derivative)\n",
    "    res_der =res_expr.subs(symbol_values)\n",
    "    res_expr_replaced = replace_u_xi_derivative(m,res_der, order_fd,order_fd+order_derivative+1)\n",
    "    # Take the absolute value of each term individually\n",
    "    C_app = sum(abs(term) for term in res_expr_replaced.as_ordered_terms())\n",
    "    return C_meas,C_app"
   ]
  },
  {
   "cell_type": "code",
   "execution_count": 56,
   "id": "a1fafb94-d8de-484f-b282-173f00179863",
   "metadata": {},
   "outputs": [],
   "source": [
    "\"\"\"\n",
    "Cu: We assume that all derivatives of u up order_fd+order_derivative can be bounded by Cu\n",
    "Cxi: We assume that all derivatives of xi up to order_fd can be bounded by Cxi\n",
    "h: h is the space between data points\n",
    "eps: eps is the upper bound on the noise on u |u-u_noise|_infty < eps\n",
    "order_fd: is the finite difference_order\n",
    "order_derivative: is the order of the derivative\n",
    "\"\"\"\n",
    "def upper_bound_central_differences(eps,order_fd,order_derivative,Cu,Cxi,h):\n",
    "    assert(order_fd%2==0)\n",
    "    m=int(order_fd/2)\n",
    "    C_meas,C_app = get_measurement_approximation_constants(order_fd,order_derivative,m)\n",
    "    symbol_values = {f'C_u{i}': Cu for i in range(order_fd+1,order_fd+order_derivative+1)}\n",
    "    symbol_values.update({f'C_xi{i}': Cxi for i in range(1,order_derivative)})\n",
    "    C_app=C_app.subs(symbol_values)\n",
    "    #print(\"Old\",C_app,C_meas)\n",
    "    C_app=C_app.subs(symbols('h'),h)\n",
    "    C_meas=C_meas.subs(symbols('h'),h)\n",
    "    #print(\"Old\",C_app,eps*C_meas)\n",
    "    upper_bound = C_app+eps*C_meas\n",
    "    return upper_bound"
   ]
  },
  {
   "cell_type": "code",
   "execution_count": 40,
   "id": "bdf84474-f0c3-4e61-b864-107c3e8039eb",
   "metadata": {},
   "outputs": [
    {
     "name": "stdout",
     "output_type": "stream",
     "text": [
      "Old Abs(h**4)/30 3/(2*Abs(h))\n"
     ]
    },
    {
     "data": {
      "text/latex": [
       "$\\displaystyle 150.000000000333$"
      ],
      "text/plain": [
       "150.000000000333"
      ]
     },
     "execution_count": 40,
     "metadata": {},
     "output_type": "execute_result"
    }
   ],
   "source": [
    "order_fd,order_derivative=4,1\n",
    "eps=1\n",
    "Cu,Cxi=1,1\n",
    "upper_bound_central_differences(eps,order_fd,order_derivative,Cu,Cxi,h=0.01)"
   ]
  },
  {
   "cell_type": "markdown",
   "id": "c0be91ca-11d0-41ce-80bb-4f7988b7a764",
   "metadata": {},
   "source": [
    "### Test upper bound finite differences"
   ]
  },
  {
   "cell_type": "code",
   "execution_count": 26,
   "id": "59062f17-c6c7-410f-b974-71cfd7d0e93f",
   "metadata": {},
   "outputs": [],
   "source": [
    "from numpy.linalg import matrix_rank, svd\n",
    "import pandas as pd\n",
    "#Create data\n",
    "n_samples=200\n",
    "T,X,t,x = create_data_2d(T_start=0, T_end=5, L_x_start=0,L_x_end=5, N_t=n_samples, N_x=n_samples)\n",
    "\n",
    "\n",
    "a=np.random.randn()\n",
    "u = np.exp(X-a*T)\n",
    "ux = u\n",
    "uxx = u\n",
    "uxxx = u\n",
    "ut = -a*u\n",
    "\n",
    "\"\"\"\n",
    "u = np.cos(X-a*T)\n",
    "ux = -np.sin(X-a*T)\n",
    "uxx = -np.cos(X-a*T)\n",
    "uxxx = np.sin(X-a*T)\n",
    "ut = a*np.sin(X-a*T)\n",
    "\"\"\"\n",
    "dx=x[1]-x[0]\n",
    "Cu= infinity_norm(u)\n",
    "Cxi =1.0\n",
    "data = {'Order_derivative': [], 'Order': [], 'Noise level': [], 'eps': [], '|ux-ux_noise|': [], 'bound': []}#,'old_bound': []}"
   ]
  },
  {
   "cell_type": "code",
   "execution_count": 27,
   "id": "d3f4a9e0-5307-4c3d-a7fc-f301c27d90b7",
   "metadata": {},
   "outputs": [
    {
     "name": "stdout",
     "output_type": "stream",
     "text": [
      "(40000, 2)\n",
      "Matrix rank = 2, svd = [5.35918573e+03 2.13582326e-03]\n"
     ]
    }
   ],
   "source": [
    "ux_fd = ps.FiniteDifference(order=3,d=1, axis=0, drop_endpoints=False)._differentiate(u, dx)\n",
    "u_flat, u_x_flat = u.flatten(), ux_fd.flatten()\n",
    "g= np.concatenate([u_flat.reshape(len(u_flat),1), u_x_flat.reshape(len(u_flat),1)], axis=1)\n",
    "print(g.shape)\n",
    "print(f\"Matrix rank = {matrix_rank(g)}, svd = {svd(g, compute_uv=False)}\")"
   ]
  },
  {
   "cell_type": "code",
   "execution_count": 28,
   "id": "09004cb9-a3b4-4007-8f64-0da98af9e521",
   "metadata": {},
   "outputs": [],
   "source": [
    "number_noise = 8  # <= 10\n",
    "noise_levels = [0] + [10 ** (-10 + i) for i in range(0, number_noise - 1)]\n",
    "orders = range(2, 10, 2)\n",
    "order_derivative=2"
   ]
  },
  {
   "cell_type": "code",
   "execution_count": 29,
   "id": "39092994-a516-45b1-bea1-8e293a1c1a86",
   "metadata": {
    "scrolled": true
   },
   "outputs": [
    {
     "name": "stdout",
     "output_type": "stream",
     "text": [
      "Order derivative 1\n",
      "Order 2\n"
     ]
    },
    {
     "ename": "NameError",
     "evalue": "name 'j' is not defined",
     "output_type": "error",
     "traceback": [
      "\u001b[0;31m---------------------------------------------------------------------------\u001b[0m",
      "\u001b[0;31mNameError\u001b[0m                                 Traceback (most recent call last)",
      "Cell \u001b[0;32mIn[29], line 15\u001b[0m\n\u001b[1;32m     12\u001b[0m col_mask \u001b[38;5;241m=\u001b[39m \u001b[38;5;241m~\u001b[39mnp\u001b[38;5;241m.\u001b[39misnan(ux_noise)\u001b[38;5;241m.\u001b[39mall(axis\u001b[38;5;241m=\u001b[39m\u001b[38;5;241m0\u001b[39m)\n\u001b[1;32m     13\u001b[0m eps \u001b[38;5;241m=\u001b[39m infinity_norm(u_noise[row_mask][:, col_mask] \u001b[38;5;241m-\u001b[39m u[row_mask][:, col_mask])\n\u001b[0;32m---> 15\u001b[0m bound \u001b[38;5;241m=\u001b[39m \u001b[43mupper_bound_central_differences\u001b[49m\u001b[43m(\u001b[49m\u001b[43meps\u001b[49m\u001b[43m,\u001b[49m\u001b[43m \u001b[49m\u001b[43morder\u001b[49m\u001b[43m,\u001b[49m\u001b[43m \u001b[49m\u001b[43morder_derivative\u001b[49m\u001b[43m,\u001b[49m\u001b[43m \u001b[49m\u001b[43mCu\u001b[49m\u001b[43m,\u001b[49m\u001b[43m \u001b[49m\u001b[43mCxi\u001b[49m\u001b[43m,\u001b[49m\u001b[43m \u001b[49m\u001b[43mdx\u001b[49m\u001b[43m)\u001b[49m\n\u001b[1;32m     16\u001b[0m \u001b[38;5;66;03m#old_bound = error_bound_finite_diff(eps,dx,Cu,order)\u001b[39;00m\n\u001b[1;32m     18\u001b[0m difference \u001b[38;5;241m=\u001b[39m infinity_norm(ux[row_mask][:, col_mask] \u001b[38;5;241m-\u001b[39m ux_noise[row_mask][:, col_mask])\n",
      "Cell \u001b[0;32mIn[18], line 12\u001b[0m, in \u001b[0;36mupper_bound_central_differences\u001b[0;34m(eps, order_fd, order_derivative, Cu, Cxi, h)\u001b[0m\n\u001b[1;32m     10\u001b[0m \u001b[38;5;28;01massert\u001b[39;00m(order_fd\u001b[38;5;241m%\u001b[39m\u001b[38;5;241m2\u001b[39m\u001b[38;5;241m==\u001b[39m\u001b[38;5;241m0\u001b[39m)\n\u001b[1;32m     11\u001b[0m m\u001b[38;5;241m=\u001b[39m\u001b[38;5;28mint\u001b[39m(order_fd\u001b[38;5;241m/\u001b[39m\u001b[38;5;241m2\u001b[39m)\n\u001b[0;32m---> 12\u001b[0m C_meas,C_app \u001b[38;5;241m=\u001b[39m \u001b[43mget_measurement_approximation_constants\u001b[49m\u001b[43m(\u001b[49m\u001b[43morder_fd\u001b[49m\u001b[43m,\u001b[49m\u001b[43morder_derivative\u001b[49m\u001b[43m,\u001b[49m\u001b[43mm\u001b[49m\u001b[43m)\u001b[49m\n\u001b[1;32m     13\u001b[0m \u001b[38;5;66;03m#print(C_app,abs(C_meas))\u001b[39;00m\n\u001b[1;32m     14\u001b[0m symbol_values \u001b[38;5;241m=\u001b[39m {\u001b[38;5;124mf\u001b[39m\u001b[38;5;124m'\u001b[39m\u001b[38;5;124mC_u\u001b[39m\u001b[38;5;132;01m{\u001b[39;00mi\u001b[38;5;132;01m}\u001b[39;00m\u001b[38;5;124m'\u001b[39m: Cu \u001b[38;5;28;01mfor\u001b[39;00m i \u001b[38;5;129;01min\u001b[39;00m \u001b[38;5;28mrange\u001b[39m(order_fd\u001b[38;5;241m+\u001b[39m\u001b[38;5;241m1\u001b[39m,order_fd\u001b[38;5;241m+\u001b[39morder_derivative\u001b[38;5;241m+\u001b[39m\u001b[38;5;241m1\u001b[39m)}\n",
      "Cell \u001b[0;32mIn[17], line 19\u001b[0m, in \u001b[0;36mget_measurement_approximation_constants\u001b[0;34m(order_fd, order_derivative, m)\u001b[0m\n\u001b[1;32m     17\u001b[0m res_der \u001b[38;5;241m=\u001b[39mres_expr\u001b[38;5;241m.\u001b[39msubs(symbol_values)\n\u001b[1;32m     18\u001b[0m \u001b[38;5;66;03m#print(\"old res der\", res_der)\u001b[39;00m\n\u001b[0;32m---> 19\u001b[0m res_expr_replaced \u001b[38;5;241m=\u001b[39m \u001b[43mreplace_u_xi_derivative\u001b[49m\u001b[43m(\u001b[49m\u001b[43mm\u001b[49m\u001b[43m,\u001b[49m\u001b[43mres_der\u001b[49m\u001b[43m,\u001b[49m\u001b[43m \u001b[49m\u001b[43morder_fd\u001b[49m\u001b[43m,\u001b[49m\u001b[43morder_fd\u001b[49m\u001b[38;5;241;43m+\u001b[39;49m\u001b[43morder_derivative\u001b[49m\u001b[38;5;241;43m+\u001b[39;49m\u001b[38;5;241;43m1\u001b[39;49m\u001b[43m)\u001b[49m\n\u001b[1;32m     20\u001b[0m \u001b[38;5;66;03m# Take the absolute value of each term individually\u001b[39;00m\n\u001b[1;32m     21\u001b[0m C_app \u001b[38;5;241m=\u001b[39m \u001b[38;5;28msum\u001b[39m(\u001b[38;5;28mabs\u001b[39m(term) \u001b[38;5;28;01mfor\u001b[39;00m term \u001b[38;5;129;01min\u001b[39;00m res_expr_replaced\u001b[38;5;241m.\u001b[39mas_ordered_terms())\n",
      "Cell \u001b[0;32mIn[23], line 15\u001b[0m, in \u001b[0;36mreplace_u_xi_derivative\u001b[0;34m(m, expression, begin_deriv, end_deriv)\u001b[0m\n\u001b[1;32m     12\u001b[0m \u001b[38;5;28;01mfor\u001b[39;00m u_lth \u001b[38;5;129;01min\u001b[39;00m \u001b[38;5;28mrange\u001b[39m(end_deriv,begin_deriv,\u001b[38;5;241m-\u001b[39m\u001b[38;5;241m1\u001b[39m):\n\u001b[1;32m     14\u001b[0m         u_derivative \u001b[38;5;241m=\u001b[39m u\u001b[38;5;241m.\u001b[39mdiff(x, u_lth)\u001b[38;5;241m.\u001b[39msubs(x, xi)\n\u001b[0;32m---> 15\u001b[0m         u_derivative \u001b[38;5;241m=\u001b[39m u_derivative\u001b[38;5;241m.\u001b[39msubs(x,symbols(\u001b[38;5;124mf\u001b[39m\u001b[38;5;124m\"\u001b[39m\u001b[38;5;124mx_\u001b[39m\u001b[38;5;132;01m{\u001b[39;00mj\u001b[38;5;132;01m}\u001b[39;00m\u001b[38;5;124m\"\u001b[39m))\u001b[38;5;241m.\u001b[39msubs(symbols(\u001b[38;5;124mf\u001b[39m\u001b[38;5;124m\"\u001b[39m\u001b[38;5;124mx_\u001b[39m\u001b[38;5;132;01m{\u001b[39;00mj\u001b[38;5;132;01m}\u001b[39;00m\u001b[38;5;124m\"\u001b[39m),h\u001b[38;5;241m*\u001b[39mm)\n\u001b[1;32m     16\u001b[0m         \u001b[38;5;66;03m#print(f\"{u_lth} derivatve: {u_derivative} \")\u001b[39;00m\n\u001b[1;32m     17\u001b[0m        \u001b[38;5;66;03m# print(f\"Before: {replaced_expression} \")\u001b[39;00m\n\u001b[1;32m     18\u001b[0m         replaced_expression \u001b[38;5;241m=\u001b[39m replaced_expression\u001b[38;5;241m.\u001b[39msubs(u_derivative, symbols(\u001b[38;5;124mf\u001b[39m\u001b[38;5;124m\"\u001b[39m\u001b[38;5;124mC_u\u001b[39m\u001b[38;5;132;01m{\u001b[39;00mu_lth\u001b[38;5;132;01m}\u001b[39;00m\u001b[38;5;124m\"\u001b[39m))\n",
      "\u001b[0;31mNameError\u001b[0m: name 'j' is not defined"
     ]
    }
   ],
   "source": [
    "for order_derivative in range(1,2):\n",
    "    print(f\"Order derivative {order_derivative}\")\n",
    "    for order in orders:\n",
    "        print(f\"Order {order}\")\n",
    "    \n",
    "        for target_noise in noise_levels:\n",
    "            var = target_noise * np.sqrt(np.mean(np.square(u)))\n",
    "            noise = np.random.normal(0, var, size=u.shape)\n",
    "            u_noise = u + noise\n",
    "            ux_noise = ps.FiniteDifference(order=order,d=order_derivative, axis=0, drop_endpoints=True)._differentiate(u_noise, dx)\n",
    "            row_mask = ~np.isnan(ux_noise).all(axis=1)\n",
    "            col_mask = ~np.isnan(ux_noise).all(axis=0)\n",
    "            eps = infinity_norm(u_noise[row_mask][:, col_mask] - u[row_mask][:, col_mask])\n",
    "            \n",
    "            bound = upper_bound_central_differences(eps, order, order_derivative, Cu, Cxi, dx)\n",
    "            #old_bound = error_bound_finite_diff(eps,dx,Cu,order)\n",
    "            \n",
    "            difference = infinity_norm(ux[row_mask][:, col_mask] - ux_noise[row_mask][:, col_mask])\n",
    "            data['Order_derivative'].append(order_derivative)\n",
    "            data['Order'].append(order)\n",
    "            data['Noise level'].append(target_noise)\n",
    "            data['eps'].append(eps)\n",
    "            data['|ux-ux_noise|'].append(difference)\n",
    "            data['bound'].append(bound)\n",
    "            #data['old_bound'].append(old_bound)"
   ]
  },
  {
   "cell_type": "code",
   "execution_count": null,
   "id": "29d2b2a6-31ed-40bf-af72-2688478f1a7f",
   "metadata": {},
   "outputs": [],
   "source": [
    "df_results = pd.DataFrame(data)\n",
    "df_results.drop_duplicates(subset=['Order_derivative', 'Order', 'Noise level'], inplace=True)"
   ]
  },
  {
   "cell_type": "code",
   "execution_count": null,
   "id": "515ebdec-6b1a-40be-810a-65102dd61585",
   "metadata": {},
   "outputs": [],
   "source": [
    "df_results[df_results['Order_derivative']==3]"
   ]
  },
  {
   "cell_type": "code",
   "execution_count": null,
   "id": "aacc0bcb-785e-4b09-a40f-6ba0666b12d9",
   "metadata": {
    "scrolled": true
   },
   "outputs": [],
   "source": [
    "# Get unique noise levels\n",
    "unique_noise_levels = df_results['Noise level'].unique()\n",
    "order_derivative=1\n",
    "\n",
    "# Iterate through each noise level and create a plot\n",
    "for order_derivative in range(3,4):\n",
    "    for noise_level in unique_noise_levels:\n",
    "        df_filtered = df_results[(df_results['Noise level'] == noise_level)][(df_results['Order_derivative'] == order_derivative)]\n",
    "        print(df_filtered)\n",
    "        # Set 'Order' as the index\n",
    "        df_filtered.set_index('Order', inplace=True)\n",
    "    \n",
    "        plt.plot(df_filtered['bound'], label=f'bound')\n",
    "        #plt.plot(df_filtered['old_bound'], label=f'old_bound', linestyle='--')\n",
    "        plt.plot(df_filtered['|ux-ux_noise|'], label=f'|ux-ux_noise| ', linestyle='-.', )\n",
    "        plt.legend()\n",
    "        plt.xlabel('Order')\n",
    "        plt.ylabel('Values')\n",
    "        plt.yscale('log')\n",
    "        plt.title(f'Comparison for Noise Level {noise_level}, Derivative {order_derivative}')\n",
    "        plt.show()\n"
   ]
  },
  {
   "cell_type": "code",
   "execution_count": null,
   "id": "7993818d-83f2-4acc-88b8-b0fbf129bde7",
   "metadata": {},
   "outputs": [],
   "source": [
    "upper_bound_central_differences(1e-08, 2, 3, Cu, Cxi, dx)"
   ]
  },
  {
   "cell_type": "code",
   "execution_count": null,
   "id": "db02bfd5-8365-44b3-9f54-126fb6d02d60",
   "metadata": {},
   "outputs": [],
   "source": [
    "df_results[df_results['Order_derivative']==3]"
   ]
  },
  {
   "cell_type": "markdown",
   "id": "f0483e6f-027e-4548-a83e-d754fbdc2c91",
   "metadata": {},
   "source": [
    "### Hard code finite differences error\n",
    "Since calculating the derivativ of L and r takes a while with sympy we are going to hardcode if for derivatives up to 3.\n",
    "See the derivatives in https://en.wikipedia.org/wiki/Lagrange_polynomial"
   ]
  },
  {
   "cell_type": "markdown",
   "id": "f16c745e-0d5f-41b5-98d8-6c3d68745d01",
   "metadata": {},
   "source": [
    "\\begin{align}\n",
    "  L'_k(x_m)&= h^{-1}[\\prod_{i=0,i\\neq k}^n \\frac{1}{k-i}] \\prod_{i=0,i\\neq k,m}^n (m-i) \n",
    "\\end{align}\n",
    "\n",
    "\\begin{align}\n",
    " L''_k(x_m) &= h^{-2}[\\prod_{i=0,i\\neq k}^n \\frac{1}{k-i}] \\sum_{s_2=0,s_2\\neq k}^n \\sum_{s_1=0,s_1\\neq k}^n \\prod_{i=0,i\\neq k,s_1,s_2}^n (m-i) \n",
    "\\end{align}\n",
    "\\begin{align}\n",
    "    L'''_k(x_m) &= h^{-3}[\\prod_{i=0,i\\neq k}^n \\frac{1}{k-i}] \\sum_{s_3=0,s_3\\neq k}\\sum_{s_2=0,s_2\\neq k}^n \\sum_{s_1=0,s_1\\neq k}^n \\prod_{i=0,i\\neq k,s_1,s_2,s_3}^n  (m-i) \n",
    "\\end{align}\n",
    "\\begin{align}\n",
    "r_n^{'}(x_m) =\\frac{u^{(n+1)}(\\xi (x_m))}{(n+1)!}  h^n\\prod_{k=0,k\\neq m}^n(m-k)\n",
    "\\end{align}\n",
    "\\begin{align}\n",
    " r_n^{''}(x_m) &=\\frac{u^{(n+1)}(\\xi (x_m))}{(n+1)!} h^{n-1}\\sum_{s=0,s\\neq m}^n \\prod_{k=0,k\\neq m,s}^n(m-k) \n",
    "  \\\\&+ 2 \\xi^{'} (x) \\frac{u^{(n+2)}(\\xi (x))}{(n+1)!} h^n \\prod_{k=0,k\\neq m}^n(m-k) \n",
    "\\end{align}\n",
    "\n",
    "\\begin{align}\n",
    "  r_n^{'''}(x_m) &= \\frac{u^{(n+1)}(\\xi (x_m))}{(n+1)!} \\sum_{s_1=0,s1\\neq m}^n h^{n-2} \\sum_{s_2=0,s2\\neq s1}^n \\prod_{k=0,k\\neq s_1,s_2,m}^n(m-k) \n",
    "  \\\\&= 3 \\frac{u^{(n+2)}(\\xi (x_m))}{(n+1)!} \\xi' (x_m)h^{n-1} \\sum_{s=0}^n  \\prod_{k=0,k\\neq m,s}^n(m-k) \n",
    "  \\\\&+ 3 (\\xi^{''} (x_m) \\frac{u^{(n+2)}(\\xi (x_m))}{(n+1)!} + \\xi^{'} (x_m)^2 \\frac{u^{(n+3)}(\\xi (x_m))}{(n+1)!} ) h^{n} \\prod_{k=0,k\\neq m}^n(m-k) \n",
    "\\end{align}"
   ]
  },
  {
   "cell_type": "markdown",
   "id": "8e7646e3-9c5e-4a25-8bdf-ac87c7a4962d",
   "metadata": {},
   "source": [
    "The dth derivative of a Lagrange interpolating polynomial can be written in terms of the derivatives of the basis polynomials,\n",
    "\n",
    "$\\displaystyle L^{(n)}(x):=\\sum _{k=0}^{n}y_{k}\\ell _{k,n}(x).$\n",
    "\n",
    "Recall (see § Definition above) that each Lagrange basis polynomial is\n",
    "\n",
    "${\\displaystyle {\\begin{aligned}\\ell _{k,n}(x)&=\\prod _{\\begin{smallmatrix}j=0\\\\m\\neq k\\end{smallmatrix}}^{n}{\\frac {x-x_{j}}{x_{k}-x_{j}}}.\\end{aligned}}}$\n",
    "\n",
    "The first derivative can be found using the product rule:\n",
    "\n",
    "${\\displaystyle {\\begin{aligned}\\ell _{k,n}'(x)&=\\ell _{k,n}(x)\\sum _{\\begin{smallmatrix}i=0\\\\i\\not =k\\end{smallmatrix}}^{n}{\\frac {1}{x-x_{i}}}.\\end{aligned}}}$\n",
    "\n",
    "The second derivative is\n",
    "\n",
    "${\\displaystyle {\\begin{aligned}\\ell _{k,n}''(x)&=\\ell _{k,n}(x)\\sum _{0\\leq i<j\\leq k}{\\frac {2}{(x-x_{i})(x-x_{j})}}\\\\[10mu]&=\\ell _{k,n}(x){\\Biggl [}{\\Biggl (}\\sum _{\\begin{smallmatrix}i=0\\\\i\\not =k\\end{smallmatrix}}^{n}{\\frac {1}{x-x_{i}}}{\\Biggr )}^{2}-\\sum _{\\begin{smallmatrix}i=0\\\\i\\not =k\\end{smallmatrix}}^{n}{\\frac {1}{(x-x_{i})^{2}}}{\\Biggr ]}.\\end{aligned}}}$\n",
    "\n",
    "The third derivative is\n",
    "\n",
    "${\\displaystyle {\\begin{aligned}\\ell _{k,n}'''(x)&=\\ell _{k,n}(x)\\sum _{0\\leq i<m<l\\leq n}{\\frac {3!}{(x-x_{i})(x-x_{j})(x-x_{l})}}\\end{aligned}}}$"
   ]
  },
  {
   "cell_type": "code",
   "execution_count": 53,
   "id": "0ba72bfa-adb3-4f7e-aca3-40ecbc8c4a8a",
   "metadata": {},
   "outputs": [],
   "source": [
    "\"\"\"\n",
    "Cu: We assume that all derivatives of u up order_fd+order_derivative can be bounded by Cu\n",
    "Cxi: We assume that all derivatives of xi up to order_fd can be bounded by Cxi\n",
    "h: h is the space between data points\n",
    "order_derivative: is the order of the derivative\n",
    "\"\"\"\n",
    "def derivative_r(n,order_derivative,h,Cu,Cxi,m):\n",
    "    #print(\"der r\",n,order_derivative,h,Cu,Cxi)\n",
    "    if order_derivative>3:\n",
    "        print(f\"Derivative {order_derivative} is not implemented yet\")\n",
    "        return None\n",
    "    result = 0.0\n",
    "    pre = np.math.factorial(n + 1)\n",
    "    #print(\"factorial\", pre)\n",
    "    #Calculate all products and sums necesseary for calculatin the result\n",
    "    if order_derivative>=1:\n",
    "        product_term1=1.0\n",
    "        for k in range(n + 1):\n",
    "            if k != m:\n",
    "                product_term1 *= (m - k)\n",
    "        product_term1=abs(product_term1)\n",
    "\n",
    "    if order_derivative  >=2:\n",
    "        product_sum_term2 = 0.0\n",
    "        for s in range(n + 1):\n",
    "            if s!=m:\n",
    "                product_term2 = 1.0\n",
    "                for k in range(n + 1):\n",
    "                    if k!=m and k!=s:\n",
    "                        product_term2 *= (m - k)  \n",
    "                product_sum_term2 += product_term2\n",
    "        product_sum_term2=abs(product_sum_term2)\n",
    "        \n",
    "    if order_derivative >=3:\n",
    "        product_sum_term3 = 0.0\n",
    "  \n",
    "        for s1 in range(n + 1):\n",
    "                for s2 in range(s1+1,n + 1):\n",
    "                        if s1!=m and s2!=m:\n",
    "                            product_term3 = 1.0\n",
    "                            for k in range(n + 1):\n",
    "                                if k!=s1 and k!=s2 and k!=m and n!=2:\n",
    "                                    product_term3 *= (m - k)\n",
    "                            product_sum_term3 += 6*product_term3          \n",
    "        product_sum_term3=abs(product_sum_term3)\n",
    "        \n",
    "        \n",
    "    #Put everything together           \n",
    "    if order_derivative==1:\n",
    "        result = Cu*product_term1/pre*(h**n)\n",
    "    elif order_derivative==2:\n",
    "        #print(\"products\",2*product_term1/pre , product_sum_term2/pre)\n",
    "        result = Cxi*Cu*2*product_term1/pre*h**n + Cu*product_sum_term2/pre*h**(n-1)\n",
    "    elif order_derivative==3:\n",
    "        #print(\"products\",3*((Cxi**2)*Cu+Cu*Cxi)*product_term1/pre,3*product_sum_term2/pre,product_sum_term3/pre)\n",
    "        result = 3*((Cxi**2)*Cu+Cu*Cxi)*product_term1/pre*h**n + 3*Cu*Cxi*product_sum_term2/pre*h**(n-1) +Cu*product_sum_term3/pre*h**(n-2)\n",
    "    return result\n",
    "\n",
    "    \n",
    "\n",
    "\"\"\"\n",
    "Computes the coefficients of the derivitve of the kth Lagrangian Coefficients.\n",
    "These are also the coefficients used for finite differences.\n",
    "n: number of data points used for approximation/ order\n",
    "k: number of lagrange coefficient\n",
    "l: input to lagrange coefficient: x = x_l = x+ hl\n",
    "h: h is the space between data points\n",
    "\"\"\"\n",
    "\n",
    "def derivative_Lnk(n,k,l,order_derivative,h):\n",
    "    #Calculate preceeding product, same for all derivatives\n",
    "    product_pre= 1.0\n",
    "    for i in range(n + 1):\n",
    "        if i != k:\n",
    "            product_pre *= 1 / (k - i)        \n",
    "    result=0.0 \n",
    "\n",
    "    if order_derivative == 1: \n",
    "        result =1.0\n",
    "        for i in range(n+1):\n",
    "              if i!=k and i!=l and k!=l:\n",
    "                result *=(l-i)     \n",
    "        if l==k:\n",
    "            result = 0.0\n",
    "\n",
    "    elif order_derivative == 2:\n",
    "        for s2 in range(n + 1):\n",
    "            for s1 in range(s2+1,n + 1):\n",
    "                product_1 = 1.0\n",
    "                if s1!=k and s2!=k:\n",
    "                    for i in range(n + 1):\n",
    "                        if i != k and i != s1 and i != s2:\n",
    "                            product_1 *= (l - i)\n",
    "                else:\n",
    "                    product_1 = 0.0\n",
    "                result += 2*product_1\n",
    "\n",
    "\n",
    "    elif order_derivative == 3:\n",
    "        for s3 in range(n + 1):\n",
    "            for s2 in range(s3+1,n + 1):\n",
    "                for s1 in range(s2+1,n + 1):\n",
    "                    if s1!=k and s2!=k and s3!=k:\n",
    "                        product_1=1.0\n",
    "                        for i in range(n + 1):\n",
    "                            if i != k and i != s1 and i != s2 and i != s3:\n",
    "                                product_1 *= (l - i)\n",
    "                    else:\n",
    "                        product_1=0.0\n",
    "                    result += 6*product_1\n",
    "\n",
    "    \n",
    "    else:\n",
    "        print(f\"Derivative {order_derivative} is not implemented yet\")\n",
    "        result=None\n",
    "    return result*product_pre/h**(order_derivative)"
   ]
  },
  {
   "cell_type": "code",
   "execution_count": 54,
   "id": "5497d238-8659-40d0-a8e0-c1568b3a5333",
   "metadata": {},
   "outputs": [],
   "source": [
    "# we only use central differences so m=order_fd/2\n",
    "def get_measurement_approximation_error(order_fd, order_derivative,m,h,Cu,Cxi):\n",
    "     #Get measurement error\n",
    "   # print(\"get\",order_fd, order_derivative,m,h,Cu,Cxi)\n",
    "    C_meas=0.0\n",
    "    for k in range(order_fd+1):\n",
    "            lagrange_der=derivative_Lnk(order_fd,k,m,order_derivative,h)\n",
    "            C_meas += abs(lagrange_der)\n",
    "    #Calculate approximation error\n",
    "    C_app  = derivative_r(order_fd,order_derivative,h,Cu,Cxi,m)\n",
    "    #print(\"New \", C_app,C_meas)\n",
    "    return C_meas,C_app\n",
    "    \n",
    "\"\"\"\n",
    "Cu: We assume that all derivatives of u up order_fd+order_derivative can be bounded by Cu\n",
    "Cxi: We assume that all derivatives of xi up to order_fd can be bounded by Cxi\n",
    "h: h is the space between data points\n",
    "eps: eps is the upper bound on the noise on u |u-u_noise|_infty < eps\n",
    "order_fd: is the finite difference_order\n",
    "order_derivative: is the order of the derivative\n",
    "\"\"\"\n",
    "def upper_bound_central_differences_upto_3derivative(eps,order_fd,order_derivative,Cu,Cxi,h):\n",
    "    assert(order_fd%2==0)\n",
    "   # print(\"bound\",eps,order_fd,order_derivative,Cu,Cxi,h)\n",
    "    m=int(order_fd/2)\n",
    "    C_meas,C_app = get_measurement_approximation_error(order_fd,order_derivative,m,h,Cu,Cxi)\n",
    "    #print(\"New\",C_app,C_meas*eps)\n",
    "    upper_bound = C_app+eps*C_meas\n",
    "    return upper_bound"
   ]
  },
  {
   "cell_type": "code",
   "execution_count": 59,
   "id": "b3b54f31-0b23-449e-ac2b-6940f6718850",
   "metadata": {},
   "outputs": [],
   "source": [
    "import time"
   ]
  },
  {
   "cell_type": "code",
   "execution_count": 60,
   "id": "00cba1da-341d-462f-851e-f9292678ba88",
   "metadata": {
    "scrolled": true
   },
   "outputs": [
    {
     "name": "stdout",
     "output_type": "stream",
     "text": [
      "Order derivative 2\n",
      "Order 2\n",
      "Old bound time: 0.6840050220489502, value 4.33333333333333\n",
      "Faster bound time: 9.965896606445312e-05, value 4.333333333333333\n",
      "\n",
      "Order 4\n",
      "Old bound time: 2.158858299255371, value 5.40000000000000\n",
      "Faster bound time: 0.00018024444580078125, value 5.3999999999999995\n",
      "\n",
      "Order 6\n",
      "Old bound time: 12.963480472564697, value 6.05873015873016\n",
      "Faster bound time: 0.0004532337188720703, value 6.0587301587301585\n",
      "\n",
      "Order derivative 3\n",
      "Order 2\n",
      "Old bound time: 0.9605131149291992, value 2.00000000000000\n",
      "Faster bound time: 7.104873657226562e-05, value 2.0\n",
      "\n",
      "Order 4\n",
      "Old bound time: 3.922755479812622, value 3.45000000000000\n",
      "Faster bound time: 0.00019884109497070312, value 3.45\n",
      "\n",
      "Order 6\n",
      "Old bound time: 18.133732080459595, value 5.60119047619048\n",
      "Faster bound time: 0.0007991790771484375, value 5.601190476190476\n",
      "\n"
     ]
    }
   ],
   "source": [
    "#Comparte the two diferent methods\n",
    "Cu,Cxi =1.0,1.0\n",
    "eps = 1.0\n",
    "h=1.0\n",
    "for order_derivative in range(2,4):\n",
    "    print(f\"Order derivative {order_derivative}\")\n",
    "    for order in range(2,8,2):\n",
    "        print(f\"Order {order}\")\n",
    "        start = time.time()\n",
    "        bound = upper_bound_central_differences(eps, order, order_derivative, Cu, Cxi, h)\n",
    "        end = time.time()\n",
    "        print(f\"Old bound time: {end -start}, value {bound}\")\n",
    "        start = time.time()\n",
    "        faster_bound = upper_bound_central_differences_upto_3derivative(eps,order,order_derivative,Cu,Cxi,h)\n",
    "        end = time.time()\n",
    "        print(f\"Faster bound time: {end -start}, value {faster_bound}\")\n",
    "        print(\"\")\n",
    "        #old_bound = error_bound_finite_diff(eps,dx,Cu,order)\n",
    "        "
   ]
  },
  {
   "cell_type": "markdown",
   "id": "b26060b1-4b11-415e-93ff-e011ba8189d4",
   "metadata": {},
   "source": [
    "## Test derivatives at boundary  values"
   ]
  },
  {
   "cell_type": "code",
   "execution_count": 35,
   "id": "9abd6826-a0db-4526-8d6b-720d2593fb0b",
   "metadata": {},
   "outputs": [],
   "source": [
    "x=np.linspace(0,10,100)\n",
    "\"\"\"\n",
    "u = np.exp(x)\n",
    "ux = np.exp(x)\n",
    "function=\"exp(x)\"\n",
    "\"\"\"\n",
    "u = np.cos(x)\n",
    "ux = -np.sin(x)\n",
    "function=\"cos(x)\"\n",
    "dx=x[1]-x[0]"
   ]
  },
  {
   "cell_type": "code",
   "execution_count": 36,
   "id": "bccee932-2420-459a-89a9-8c52ad307a29",
   "metadata": {},
   "outputs": [],
   "source": [
    "ux_fd= ps.FiniteDifference(order=8,d=1, axis=0, drop_endpoints=False)._differentiate(u, dx)\n",
    "ux_fd_no_bound= ps.FiniteDifference(order=8,d=1, axis=0, drop_endpoints=True)._differentiate(u, dx)"
   ]
  },
  {
   "cell_type": "code",
   "execution_count": 37,
   "id": "a5e68dbe-d5a7-4974-8626-3142bfd4bcb8",
   "metadata": {},
   "outputs": [
    {
     "data": {
      "image/png": "[encoded data removed]",
      "text/plain": [
       "<Figure size 640x480 with 1 Axes>"
      ]
     },
     "metadata": {},
     "output_type": "display_data"
    }
   ],
   "source": [
    "# Create a figure and axis\n",
    "fig, ax = plt.subplots()\n",
    "plt.title(function)\n",
    "# Plotting the absolute differences\n",
    "ax.plot(abs(ux - ux_fd), label='boundary values')\n",
    "ax.plot(abs(ux - ux_fd_no_bound),linewidth=2.0)\n",
    "\n",
    "# Adding labels and legend\n",
    "ax.set_ylabel(\"|ux-ux_fd|\")\n",
    "ax.legend()\n",
    "\n",
    "# Save the figure\n",
    "plt.savefig(f'Images/absolute_differences_plot_{function}.png')\n",
    "\n",
    "# Show the plot\n",
    "plt.show()"
   ]
  },
  {
   "cell_type": "code",
   "execution_count": null,
   "id": "41cfe07d-0dce-47d0-bc71-f8f1475ae098",
   "metadata": {},
   "outputs": [],
   "source": []
  }
 ],
 "metadata": {
  "kernelspec": {
   "display_name": "Python 3 (ipykernel)",
   "language": "python",
   "name": "python3"
  },
  "language_info": {
   "codemirror_mode": {
    "name": "ipython",
    "version": 3
   },
   "file_extension": ".py",
   "mimetype": "text/x-python",
   "name": "python",
   "nbconvert_exporter": "python",
   "pygments_lexer": "ipython3",
   "version": "3.8.17"
  }
 },
 "nbformat": 4,
 "nbformat_minor": 5
}
