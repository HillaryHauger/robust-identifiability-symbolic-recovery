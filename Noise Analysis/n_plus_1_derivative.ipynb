{
 "cells": [
  {
   "cell_type": "code",
   "execution_count": 1,
   "id": "e73c8f84-7563-4b46-b87f-e77b6da4c85f",
   "metadata": {},
   "outputs": [],
   "source": [
    "import sympy\n",
    "import numpy as np\n",
    "from sympy import diff\n",
    "from sympy.utilities.lambdify import lambdify\n",
    "import sys\n",
    "sys.path.append(\"../\")"
   ]
  },
  {
   "cell_type": "code",
   "execution_count": 2,
   "id": "e504fc0e-551f-4a29-8b77-79c7b54a6b31",
   "metadata": {},
   "outputs": [],
   "source": [
    "from test_data import create_data_2d,infinity_norm"
   ]
  },
  {
   "cell_type": "code",
   "execution_count": 11,
   "id": "bc5094e1-aca2-43ef-81d7-3700495f2802",
   "metadata": {},
   "outputs": [],
   "source": [
    "T,X,t,x = create_data_2d(N_t=10,N_x=10)"
   ]
  },
  {
   "cell_type": "code",
   "execution_count": 12,
   "id": "291e052c-0c47-4fca-b4a8-f98a1f8692a7",
   "metadata": {},
   "outputs": [],
   "source": [
    "exp_name = 'algebraic_nonunique_kdv'\n",
    "fd_order=2"
   ]
  },
  {
   "cell_type": "code",
   "execution_count": 13,
   "id": "6b47e30a-b232-4d21-883e-128f04c420ff",
   "metadata": {},
   "outputs": [],
   "source": [
    "c =np.abs(np.random.randn())\n",
    "def func(T,X, module): \n",
    "    if module == sympy:\n",
    "        T = sympy.Symbol('t')\n",
    "        X= sympy.Symbol('x')\n",
    "    f = (c/2)*module.cosh(np.sqrt(c)/2*(X-c*T))**(-2)\n",
    "    return f\n",
    "#u = func(T,X,np) \n",
    "formula = func(T,X,sympy)\n"
   ]
  },
  {
   "cell_type": "code",
   "execution_count": 14,
   "id": "59d3f50c-6f3d-4722-abff-af7e03d8b676",
   "metadata": {
    "scrolled": true
   },
   "outputs": [
    {
     "data": {
      "text/latex": [
       "$\\displaystyle \\frac{0.325698297418416 \\cdot \\left(\\frac{1.57720985001716 \\sinh^{2}{\\left(0.262868308336194 t - 0.403545720717254 x \\right)}}{\\cosh^{2}{\\left(0.262868308336194 t - 0.403545720717254 x \\right)}} - 1.05147323334478\\right) \\sinh{\\left(0.262868308336194 t - 0.403545720717254 x \\right)}}{\\cosh^{3}{\\left(0.262868308336194 t - 0.403545720717254 x \\right)}}$"
      ],
      "text/plain": [
       "0.325698297418416*(1.57720985001716*sinh(0.262868308336194*t - 0.403545720717254*x)**2/cosh(0.262868308336194*t - 0.403545720717254*x)**2 - 1.05147323334478)*sinh(0.262868308336194*t - 0.403545720717254*x)/cosh(0.262868308336194*t - 0.403545720717254*x)**3"
      ]
     },
     "execution_count": 14,
     "metadata": {},
     "output_type": "execute_result"
    }
   ],
   "source": [
    "formula_nplus1 = diff(formula,sympy.Symbol('x'),fd_order+1)\n",
    "formula_nplus1"
   ]
  },
  {
   "cell_type": "code",
   "execution_count": 16,
   "id": "fe040255-e128-4b0d-baaf-959ac86bfb69",
   "metadata": {},
   "outputs": [
    {
     "data": {
      "text/plain": [
       "0.08724774552936221"
      ]
     },
     "execution_count": 16,
     "metadata": {},
     "output_type": "execute_result"
    }
   ],
   "source": [
    "x_sym=sympy.Symbol('x')\n",
    "t_sym=sympy.Symbol('t')\n",
    "func = lambdify((x_sym,t_sym), formula_nplus1,'numpy') # returns a numpy-ready function\n",
    "value_nplus1 = func(X,T)\n",
    "infinity_norm(value_nplus1)"
   ]
  },
  {
   "cell_type": "code",
   "execution_count": null,
   "id": "411fba10-6d4b-4207-9131-b6870cc0c958",
   "metadata": {},
   "outputs": [],
   "source": []
  }
 ],
 "metadata": {
  "kernelspec": {
   "display_name": "Python 3 (ipykernel)",
   "language": "python",
   "name": "python3"
  },
  "language_info": {
   "codemirror_mode": {
    "name": "ipython",
    "version": 3
   },
   "file_extension": ".py",
   "mimetype": "text/x-python",
   "name": "python",
   "nbconvert_exporter": "python",
   "pygments_lexer": "ipython3",
   "version": "3.8.17"
  }
 },
 "nbformat": 4,
 "nbformat_minor": 5
}
